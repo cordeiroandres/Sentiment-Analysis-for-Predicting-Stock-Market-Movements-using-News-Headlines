{
 "cells": [
  {
   "cell_type": "code",
   "execution_count": 1,
   "id": "500a1330",
   "metadata": {},
   "outputs": [],
   "source": [
    "import warnings\n",
    "warnings.filterwarnings(\"ignore\")\n",
    "\n",
    "import pandas as pd\n",
    "import numpy as np\n",
    "import seaborn as sns\n",
    "import matplotlib.pyplot as plt\n",
    "from ast import literal_eval\n",
    "from sklearn.svm import SVC\n",
    "\n",
    "from sklearn.feature_extraction.text import CountVectorizer,TfidfVectorizer,TfidfTransformer\n",
    "from sklearn.metrics import classification_report,confusion_matrix,accuracy_score,roc_curve, auc\n",
    "from sklearn.metrics import roc_auc_score,precision_score, recall_score, f1_score\n",
    "from sklearn.model_selection import GridSearchCV\n",
    "from sklearn.pipeline import Pipeline\n",
    "from tqdm import tqdm"
   ]
  },
  {
   "cell_type": "code",
   "execution_count": 2,
   "id": "3dae4936",
   "metadata": {},
   "outputs": [],
   "source": [
    "df  = pd.read_csv('dataset/pre_process_all_news_days.csv', encoding = \"ISO-8859-1\", parse_dates=[\"Date\"])"
   ]
  },
  {
   "cell_type": "code",
   "execution_count": 3,
   "id": "90f9e483",
   "metadata": {},
   "outputs": [],
   "source": [
    "#Get the name of the headline columns\n",
    "cols = []\n",
    "for i in range(1,26):\n",
    "    col = (\"Top{}\".format(i))\n",
    "    cols.append(col)"
   ]
  },
  {
   "cell_type": "code",
   "execution_count": 4,
   "id": "abdfd91e",
   "metadata": {},
   "outputs": [
    {
     "name": "stderr",
     "output_type": "stream",
     "text": [
      "100%|██████████| 25/25 [00:03<00:00,  7.39it/s]\n"
     ]
    }
   ],
   "source": [
    "for col in tqdm(cols):\n",
    "    df[col] = df[col].apply(lambda x: literal_eval(x))"
   ]
  },
  {
   "cell_type": "code",
   "execution_count": 6,
   "id": "c2465dbb",
   "metadata": {},
   "outputs": [],
   "source": [
    "def Evaluation (Method,Comment,Actual, Predicted,Scores):\n",
    "    ROC_AUC=roc_auc_score(Actual,Predicted)    \n",
    "    Precision=precision_score(Actual,Predicted)\n",
    "    Accuracy=accuracy_score(Actual,Predicted)\n",
    "    Recall=recall_score(Actual,Predicted)\n",
    "    F1=f1_score(Actual,Predicted)    \n",
    "    Scores[Comment] = {'Method':Method,'ROC_AUC':ROC_AUC,'Accuracy':Accuracy,\n",
    "                       'Precision':Precision,'Recall':Recall,'F1':F1}           "
   ]
  },
  {
   "cell_type": "code",
   "execution_count": 7,
   "id": "d2c6bb57",
   "metadata": {},
   "outputs": [],
   "source": [
    "#Creating a Data Pipeline for Naive Bayes classifier classifier - baseline\n",
    "svm_pipeline = Pipeline([\n",
    "    ('bow', CountVectorizer(analyzer=lambda x: x)),  \n",
    "    ('tfidf', TfidfTransformer()),  # integer counts to weighted TF-IDF scores\n",
    "    ('classifier', SVC()) # train on TF-IDF vectors w/ Naive Bayes classifier\n",
    "])"
   ]
  },
  {
   "cell_type": "code",
   "execution_count": 8,
   "id": "c6c91912",
   "metadata": {},
   "outputs": [],
   "source": [
    "def headlines_analyze(lbl,sc):\n",
    "    df_h = df[['Date',lbl]].copy()\n",
    "    for cl in cols:    \n",
    "        df_h['news'] = df[cl]\n",
    "        train = df_h[df_h['Date']<'20141231']\n",
    "        test = df_h[df_h['Date']>'20141231']\n",
    "        y_train = train[lbl]\n",
    "        y_test = test[lbl]\n",
    "\n",
    "        svm_pipeline.fit(train['news'],y_train)\n",
    "        predictions = svm_pipeline.predict(test['news'])    \n",
    "        Evaluation ('SVC()',cl+'_'+lbl,y_test, predictions,sc)"
   ]
  },
  {
   "cell_type": "code",
   "execution_count": 9,
   "id": "a2b283bc",
   "metadata": {},
   "outputs": [
    {
     "name": "stdout",
     "output_type": "stream",
     "text": [
      "Top9_Label accuracy= 0.5317460317460317\n"
     ]
    }
   ],
   "source": [
    "sc={}\n",
    "for i, lbl in enumerate(['Label','Label_1day','Label_2day', 'Label_3day', 'Label_4day', 'Label_5day']):\n",
    "    headlines_analyze(lbl,sc)"
   ]
  },
  {
   "cell_type": "code",
   "execution_count": 16,
   "id": "f9c906fe",
   "metadata": {},
   "outputs": [
    {
     "data": {
      "text/html": [
       "<div>\n",
       "<style scoped>\n",
       "    .dataframe tbody tr th:only-of-type {\n",
       "        vertical-align: middle;\n",
       "    }\n",
       "\n",
       "    .dataframe tbody tr th {\n",
       "        vertical-align: top;\n",
       "    }\n",
       "\n",
       "    .dataframe thead th {\n",
       "        text-align: right;\n",
       "    }\n",
       "</style>\n",
       "<table border=\"1\" class=\"dataframe\">\n",
       "  <thead>\n",
       "    <tr style=\"text-align: right;\">\n",
       "      <th></th>\n",
       "      <th>Method</th>\n",
       "      <th>cols</th>\n",
       "      <th>ROC_AUC</th>\n",
       "      <th>Precision</th>\n",
       "      <th>Accuracy</th>\n",
       "      <th>Recall</th>\n",
       "      <th>F1</th>\n",
       "    </tr>\n",
       "  </thead>\n",
       "  <tbody>\n",
       "    <tr>\n",
       "      <th>Top9_Label_1day</th>\n",
       "      <td>SVC()</td>\n",
       "      <td>Top9_Label_1day</td>\n",
       "      <td>0.528226</td>\n",
       "      <td>0.619048</td>\n",
       "      <td>0.534392</td>\n",
       "      <td>0.139785</td>\n",
       "      <td>0.228070</td>\n",
       "    </tr>\n",
       "    <tr>\n",
       "      <th>Top12_Label_2day</th>\n",
       "      <td>SVC()</td>\n",
       "      <td>Top12_Label_2day</td>\n",
       "      <td>0.525934</td>\n",
       "      <td>0.722222</td>\n",
       "      <td>0.568783</td>\n",
       "      <td>0.076023</td>\n",
       "      <td>0.137566</td>\n",
       "    </tr>\n",
       "    <tr>\n",
       "      <th>Top9_Label</th>\n",
       "      <td>SVC()</td>\n",
       "      <td>Top9_Label</td>\n",
       "      <td>0.525622</td>\n",
       "      <td>0.522388</td>\n",
       "      <td>0.531746</td>\n",
       "      <td>0.911458</td>\n",
       "      <td>0.664137</td>\n",
       "    </tr>\n",
       "    <tr>\n",
       "      <th>Top10_Label_2day</th>\n",
       "      <td>SVC()</td>\n",
       "      <td>Top10_Label_2day</td>\n",
       "      <td>0.525044</td>\n",
       "      <td>0.640000</td>\n",
       "      <td>0.566138</td>\n",
       "      <td>0.093567</td>\n",
       "      <td>0.163265</td>\n",
       "    </tr>\n",
       "    <tr>\n",
       "      <th>Top25_Label_2day</th>\n",
       "      <td>SVC()</td>\n",
       "      <td>Top25_Label_2day</td>\n",
       "      <td>0.524155</td>\n",
       "      <td>0.593750</td>\n",
       "      <td>0.563492</td>\n",
       "      <td>0.111111</td>\n",
       "      <td>0.187192</td>\n",
       "    </tr>\n",
       "    <tr>\n",
       "      <th>Top7_Label_3day</th>\n",
       "      <td>SVC()</td>\n",
       "      <td>Top7_Label_3day</td>\n",
       "      <td>0.520786</td>\n",
       "      <td>0.769231</td>\n",
       "      <td>0.550265</td>\n",
       "      <td>0.056497</td>\n",
       "      <td>0.105263</td>\n",
       "    </tr>\n",
       "    <tr>\n",
       "      <th>Top5_Label_2day</th>\n",
       "      <td>SVC()</td>\n",
       "      <td>Top5_Label_2day</td>\n",
       "      <td>0.519832</td>\n",
       "      <td>0.555556</td>\n",
       "      <td>0.558201</td>\n",
       "      <td>0.116959</td>\n",
       "      <td>0.193237</td>\n",
       "    </tr>\n",
       "    <tr>\n",
       "      <th>Top7_Label_5day</th>\n",
       "      <td>SVC()</td>\n",
       "      <td>Top7_Label_5day</td>\n",
       "      <td>0.518973</td>\n",
       "      <td>0.666667</td>\n",
       "      <td>0.547619</td>\n",
       "      <td>0.067797</td>\n",
       "      <td>0.123077</td>\n",
       "    </tr>\n",
       "    <tr>\n",
       "      <th>Top13_Label_5day</th>\n",
       "      <td>SVC()</td>\n",
       "      <td>Top13_Label_5day</td>\n",
       "      <td>0.516148</td>\n",
       "      <td>0.647059</td>\n",
       "      <td>0.544974</td>\n",
       "      <td>0.062147</td>\n",
       "      <td>0.113402</td>\n",
       "    </tr>\n",
       "    <tr>\n",
       "      <th>Top6_Label_4day</th>\n",
       "      <td>SVC()</td>\n",
       "      <td>Top6_Label_4day</td>\n",
       "      <td>0.516033</td>\n",
       "      <td>0.666667</td>\n",
       "      <td>0.547619</td>\n",
       "      <td>0.056818</td>\n",
       "      <td>0.104712</td>\n",
       "    </tr>\n",
       "  </tbody>\n",
       "</table>\n",
       "</div>"
      ],
      "text/plain": [
       "                 Method              cols   ROC_AUC  Precision  Accuracy  \\\n",
       "Top9_Label_1day   SVC()   Top9_Label_1day  0.528226   0.619048  0.534392   \n",
       "Top12_Label_2day  SVC()  Top12_Label_2day  0.525934   0.722222  0.568783   \n",
       "Top9_Label        SVC()        Top9_Label  0.525622   0.522388  0.531746   \n",
       "Top10_Label_2day  SVC()  Top10_Label_2day  0.525044   0.640000  0.566138   \n",
       "Top25_Label_2day  SVC()  Top25_Label_2day  0.524155   0.593750  0.563492   \n",
       "Top7_Label_3day   SVC()   Top7_Label_3day  0.520786   0.769231  0.550265   \n",
       "Top5_Label_2day   SVC()   Top5_Label_2day  0.519832   0.555556  0.558201   \n",
       "Top7_Label_5day   SVC()   Top7_Label_5day  0.518973   0.666667  0.547619   \n",
       "Top13_Label_5day  SVC()  Top13_Label_5day  0.516148   0.647059  0.544974   \n",
       "Top6_Label_4day   SVC()   Top6_Label_4day  0.516033   0.666667  0.547619   \n",
       "\n",
       "                    Recall        F1  \n",
       "Top9_Label_1day   0.139785  0.228070  \n",
       "Top12_Label_2day  0.076023  0.137566  \n",
       "Top9_Label        0.911458  0.664137  \n",
       "Top10_Label_2day  0.093567  0.163265  \n",
       "Top25_Label_2day  0.111111  0.187192  \n",
       "Top7_Label_3day   0.056497  0.105263  \n",
       "Top5_Label_2day   0.116959  0.193237  \n",
       "Top7_Label_5day   0.067797  0.123077  \n",
       "Top13_Label_5day  0.062147  0.113402  \n",
       "Top6_Label_4day   0.056818  0.104712  "
      ]
     },
     "execution_count": 16,
     "metadata": {},
     "output_type": "execute_result"
    }
   ],
   "source": [
    "df_sc = pd.DataFrame.from_dict(sc, orient='index')\n",
    "df_sc.sort_values(by=['ROC_AUC','Accuracy'],ascending=False,inplace=True)\n",
    "df_sc.head(10)"
   ]
  },
  {
   "cell_type": "code",
   "execution_count": 17,
   "id": "7b33dd40",
   "metadata": {},
   "outputs": [],
   "source": [
    "def headlines_analyze_two(lbl,sc):\n",
    "    df_h = df[['Date',lbl]].copy()\n",
    "    for i in tqdm(range(1,26)):\n",
    "        col1 = (\"Top{}\".format(i))\n",
    "        for j in range(i+1,26):        \n",
    "            col2 = (\"Top{}\".format(j))\n",
    "            cls = col1+'+'+col2             \n",
    "            df_h['news'] = df[col1]+ df[col2]\n",
    "            train = df_h[df_h['Date']<'20141231']\n",
    "            test = df_h[df_h['Date']>'20141231']\n",
    "            y_train = train[lbl]\n",
    "            y_test = test[lbl]\n",
    "            svm_pipeline.fit(train['news'],y_train)\n",
    "            predictions = svm_pipeline.predict(test['news'])                \n",
    "            Evaluation ('SVC()',cls+'_'+lbl,y_test, predictions,sc)"
   ]
  },
  {
   "cell_type": "code",
   "execution_count": 18,
   "id": "fedc63b1",
   "metadata": {},
   "outputs": [
    {
     "name": "stderr",
     "output_type": "stream",
     "text": [
      "  8%|▊         | 2/25 [00:52<09:56, 25.92s/it]"
     ]
    },
    {
     "name": "stdout",
     "output_type": "stream",
     "text": [
      "Top3+Top6_Label accuracy= 0.5317460317460317\n"
     ]
    },
    {
     "name": "stderr",
     "output_type": "stream",
     "text": [
      " 20%|██        | 5/25 [02:02<07:57, 23.86s/it]"
     ]
    },
    {
     "name": "stdout",
     "output_type": "stream",
     "text": [
      "Top6+Top12_Label accuracy= 0.5423280423280423\n",
      "Top6+Top18_Label accuracy= 0.5343915343915344\n",
      "Top6+Top23_Label accuracy= 0.5423280423280423\n"
     ]
    },
    {
     "name": "stderr",
     "output_type": "stream",
     "text": [
      " 32%|███▏      | 8/25 [03:04<06:01, 21.29s/it]"
     ]
    },
    {
     "name": "stdout",
     "output_type": "stream",
     "text": [
      "Top9+Top10_Label accuracy= 0.5343915343915344\n",
      "Top9+Top16_Label accuracy= 0.5317460317460317\n"
     ]
    },
    {
     "name": "stderr",
     "output_type": "stream",
     "text": [
      "\r",
      " 36%|███▌      | 9/25 [03:21<05:22, 20.14s/it]"
     ]
    },
    {
     "name": "stdout",
     "output_type": "stream",
     "text": [
      "Top10+Top20_Label accuracy= 0.5317460317460317\n"
     ]
    },
    {
     "name": "stderr",
     "output_type": "stream",
     "text": [
      "\r",
      " 40%|████      | 10/25 [03:37<04:43, 18.89s/it]"
     ]
    },
    {
     "name": "stdout",
     "output_type": "stream",
     "text": [
      "Top11+Top20_Label accuracy= 0.5370370370370371\n"
     ]
    },
    {
     "name": "stderr",
     "output_type": "stream",
     "text": [
      " 60%|██████    | 15/25 [04:42<02:13, 13.32s/it]"
     ]
    },
    {
     "name": "stdout",
     "output_type": "stream",
     "text": [
      "Top16+Top18_Label accuracy= 0.5343915343915344\n"
     ]
    },
    {
     "name": "stderr",
     "output_type": "stream",
     "text": [
      " 80%|████████  | 20/25 [05:19<00:38,  7.76s/it]"
     ]
    },
    {
     "name": "stdout",
     "output_type": "stream",
     "text": [
      "Top21+Top22_Label accuracy= 0.5343915343915344\n"
     ]
    },
    {
     "name": "stderr",
     "output_type": "stream",
     "text": [
      "100%|██████████| 25/25 [05:29<00:00, 13.19s/it]\n"
     ]
    }
   ],
   "source": [
    "sc_2c={}\n",
    "for i, lbl in enumerate(['Label','Label_1day','Label_2day', 'Label_3day', 'Label_4day', 'Label_5day']):\n",
    "    headlines_analyze_two(lbl,sc_2c)"
   ]
  },
  {
   "cell_type": "code",
   "execution_count": 24,
   "id": "054d1868",
   "metadata": {},
   "outputs": [
    {
     "data": {
      "text/html": [
       "<div>\n",
       "<style scoped>\n",
       "    .dataframe tbody tr th:only-of-type {\n",
       "        vertical-align: middle;\n",
       "    }\n",
       "\n",
       "    .dataframe tbody tr th {\n",
       "        vertical-align: top;\n",
       "    }\n",
       "\n",
       "    .dataframe thead th {\n",
       "        text-align: right;\n",
       "    }\n",
       "</style>\n",
       "<table border=\"1\" class=\"dataframe\">\n",
       "  <thead>\n",
       "    <tr style=\"text-align: right;\">\n",
       "      <th></th>\n",
       "      <th>Method</th>\n",
       "      <th>cols</th>\n",
       "      <th>ROC_AUC</th>\n",
       "      <th>Precision</th>\n",
       "      <th>Accuracy</th>\n",
       "      <th>Recall</th>\n",
       "      <th>F1</th>\n",
       "    </tr>\n",
       "  </thead>\n",
       "  <tbody>\n",
       "    <tr>\n",
       "      <th>Top6+Top12_Label_1day</th>\n",
       "      <td>SVC()</td>\n",
       "      <td>Top6+Top12_Label_1day</td>\n",
       "      <td>0.543347</td>\n",
       "      <td>0.833333</td>\n",
       "      <td>0.550265</td>\n",
       "      <td>0.107527</td>\n",
       "      <td>0.190476</td>\n",
       "    </tr>\n",
       "    <tr>\n",
       "      <th>Top6+Top23_Label</th>\n",
       "      <td>SVC()</td>\n",
       "      <td>Top6+Top23_Label</td>\n",
       "      <td>0.535786</td>\n",
       "      <td>0.527536</td>\n",
       "      <td>0.542328</td>\n",
       "      <td>0.947917</td>\n",
       "      <td>0.677840</td>\n",
       "    </tr>\n",
       "    <tr>\n",
       "      <th>Top6+Top12_Label</th>\n",
       "      <td>SVC()</td>\n",
       "      <td>Top6+Top12_Label</td>\n",
       "      <td>0.535618</td>\n",
       "      <td>0.527221</td>\n",
       "      <td>0.542328</td>\n",
       "      <td>0.958333</td>\n",
       "      <td>0.680222</td>\n",
       "    </tr>\n",
       "    <tr>\n",
       "      <th>Top6+Top23_Label_1day</th>\n",
       "      <td>SVC()</td>\n",
       "      <td>Top6+Top23_Label_1day</td>\n",
       "      <td>0.533098</td>\n",
       "      <td>0.687500</td>\n",
       "      <td>0.539683</td>\n",
       "      <td>0.118280</td>\n",
       "      <td>0.201835</td>\n",
       "    </tr>\n",
       "    <tr>\n",
       "      <th>Top9+Top16_Label_1day</th>\n",
       "      <td>SVC()</td>\n",
       "      <td>Top9+Top16_Label_1day</td>\n",
       "      <td>0.532930</td>\n",
       "      <td>0.714286</td>\n",
       "      <td>0.539683</td>\n",
       "      <td>0.107527</td>\n",
       "      <td>0.186916</td>\n",
       "    </tr>\n",
       "    <tr>\n",
       "      <th>Top21+Top22_Label_1day</th>\n",
       "      <td>SVC()</td>\n",
       "      <td>Top21+Top22_Label_1day</td>\n",
       "      <td>0.532594</td>\n",
       "      <td>0.800000</td>\n",
       "      <td>0.539683</td>\n",
       "      <td>0.086022</td>\n",
       "      <td>0.155340</td>\n",
       "    </tr>\n",
       "    <tr>\n",
       "      <th>Top6+Top12_Label_2day</th>\n",
       "      <td>SVC()</td>\n",
       "      <td>Top6+Top12_Label_2day</td>\n",
       "      <td>0.530765</td>\n",
       "      <td>0.812500</td>\n",
       "      <td>0.574074</td>\n",
       "      <td>0.076023</td>\n",
       "      <td>0.139037</td>\n",
       "    </tr>\n",
       "    <tr>\n",
       "      <th>Top16+Top18_Label_1day</th>\n",
       "      <td>SVC()</td>\n",
       "      <td>Top16+Top18_Label_1day</td>\n",
       "      <td>0.530494</td>\n",
       "      <td>0.666667</td>\n",
       "      <td>0.537037</td>\n",
       "      <td>0.118280</td>\n",
       "      <td>0.200913</td>\n",
       "    </tr>\n",
       "    <tr>\n",
       "      <th>Top11+Top20_Label</th>\n",
       "      <td>SVC()</td>\n",
       "      <td>Top11+Top20_Label</td>\n",
       "      <td>0.530326</td>\n",
       "      <td>0.524355</td>\n",
       "      <td>0.537037</td>\n",
       "      <td>0.953125</td>\n",
       "      <td>0.676525</td>\n",
       "    </tr>\n",
       "    <tr>\n",
       "      <th>Top10+Top20_Label_1day</th>\n",
       "      <td>SVC()</td>\n",
       "      <td>Top10+Top20_Label_1day</td>\n",
       "      <td>0.530158</td>\n",
       "      <td>0.720000</td>\n",
       "      <td>0.537037</td>\n",
       "      <td>0.096774</td>\n",
       "      <td>0.170616</td>\n",
       "    </tr>\n",
       "  </tbody>\n",
       "</table>\n",
       "</div>"
      ],
      "text/plain": [
       "                       Method                    cols   ROC_AUC  Precision  \\\n",
       "Top6+Top12_Label_1day   SVC()   Top6+Top12_Label_1day  0.543347   0.833333   \n",
       "Top6+Top23_Label        SVC()        Top6+Top23_Label  0.535786   0.527536   \n",
       "Top6+Top12_Label        SVC()        Top6+Top12_Label  0.535618   0.527221   \n",
       "Top6+Top23_Label_1day   SVC()   Top6+Top23_Label_1day  0.533098   0.687500   \n",
       "Top9+Top16_Label_1day   SVC()   Top9+Top16_Label_1day  0.532930   0.714286   \n",
       "Top21+Top22_Label_1day  SVC()  Top21+Top22_Label_1day  0.532594   0.800000   \n",
       "Top6+Top12_Label_2day   SVC()   Top6+Top12_Label_2day  0.530765   0.812500   \n",
       "Top16+Top18_Label_1day  SVC()  Top16+Top18_Label_1day  0.530494   0.666667   \n",
       "Top11+Top20_Label       SVC()       Top11+Top20_Label  0.530326   0.524355   \n",
       "Top10+Top20_Label_1day  SVC()  Top10+Top20_Label_1day  0.530158   0.720000   \n",
       "\n",
       "                        Accuracy    Recall        F1  \n",
       "Top6+Top12_Label_1day   0.550265  0.107527  0.190476  \n",
       "Top6+Top23_Label        0.542328  0.947917  0.677840  \n",
       "Top6+Top12_Label        0.542328  0.958333  0.680222  \n",
       "Top6+Top23_Label_1day   0.539683  0.118280  0.201835  \n",
       "Top9+Top16_Label_1day   0.539683  0.107527  0.186916  \n",
       "Top21+Top22_Label_1day  0.539683  0.086022  0.155340  \n",
       "Top6+Top12_Label_2day   0.574074  0.076023  0.139037  \n",
       "Top16+Top18_Label_1day  0.537037  0.118280  0.200913  \n",
       "Top11+Top20_Label       0.537037  0.953125  0.676525  \n",
       "Top10+Top20_Label_1day  0.537037  0.096774  0.170616  "
      ]
     },
     "execution_count": 24,
     "metadata": {},
     "output_type": "execute_result"
    }
   ],
   "source": [
    "df_sc2 = pd.DataFrame.from_dict(sc_2c, orient='index')\n",
    "df_sc2.sort_values(by=['ROC_AUC','Accuracy'],ascending=False,inplace=True)\n",
    "df_sc2.head(10)"
   ]
  },
  {
   "cell_type": "code",
   "execution_count": 25,
   "id": "249bc5b5",
   "metadata": {},
   "outputs": [],
   "source": [
    "def headlines_analyze_three(lbl,sc):\n",
    "    df_h = df[['Date',lbl]].copy()\n",
    "    for i in tqdm(range(1,26)):\n",
    "        col1 = (\"Top{}\".format(i))\n",
    "        for j in range(i+1,26):        \n",
    "            col2 = (\"Top{}\".format(j))\n",
    "            for k in range(j+1,26):\n",
    "                col3 = (\"Top{}\".format(k))\n",
    "                cls = col1+'+'+col2+'+'+col3\n",
    "                df_h['news'] = df[col1]+ df[col2]+ df[col3]\n",
    "                train = df_h[df_h['Date']<'20141231']\n",
    "                test = df_h[df_h['Date']>'20141231']\n",
    "                y_train = train[lbl]\n",
    "                y_test = test[lbl]\n",
    "                svm_pipeline.fit(train['news'],y_train)\n",
    "                predictions = svm_pipeline.predict(test['news'])                \n",
    "                Evaluation ('SVC()',cls+'_'+lbl,y_test, predictions,sc)"
   ]
  },
  {
   "cell_type": "code",
   "execution_count": 26,
   "id": "9e6f7230",
   "metadata": {},
   "outputs": [
    {
     "name": "stderr",
     "output_type": "stream",
     "text": [
      "\r",
      "  0%|          | 0/25 [00:00<?, ?it/s]"
     ]
    },
    {
     "name": "stdout",
     "output_type": "stream",
     "text": [
      "Top1+Top9+Top20_Label accuracy= 0.5343915343915344\n",
      "Top1+Top15+Top23_Label accuracy= 0.5343915343915344\n"
     ]
    },
    {
     "name": "stderr",
     "output_type": "stream",
     "text": [
      "\r",
      "  4%|▍         | 1/25 [07:31<3:00:38, 451.62s/it]"
     ]
    },
    {
     "name": "stdout",
     "output_type": "stream",
     "text": [
      "Top2+Top8+Top24_Label accuracy= 0.5317460317460317\n",
      "Top2+Top10+Top25_Label accuracy= 0.5317460317460317\n",
      "Top2+Top18+Top19_Label accuracy= 0.5317460317460317\n"
     ]
    },
    {
     "name": "stderr",
     "output_type": "stream",
     "text": [
      "\r",
      "  8%|▊         | 2/25 [14:18<2:43:02, 425.35s/it]"
     ]
    },
    {
     "name": "stdout",
     "output_type": "stream",
     "text": [
      "Top3+Top6+Top16_Label accuracy= 0.5343915343915344\n",
      "Top3+Top10+Top16_Label accuracy= 0.544973544973545\n"
     ]
    },
    {
     "name": "stderr",
     "output_type": "stream",
     "text": [
      "\r",
      " 12%|█▏        | 3/25 [20:35<2:27:52, 403.28s/it]"
     ]
    },
    {
     "name": "stdout",
     "output_type": "stream",
     "text": [
      "Top4+Top8+Top10_Label accuracy= 0.5317460317460317\n",
      "Top4+Top9+Top16_Label accuracy= 0.5370370370370371\n",
      "Top4+Top10+Top14_Label accuracy= 0.5343915343915344\n",
      "Top4+Top10+Top16_Label accuracy= 0.5370370370370371\n",
      "Top4+Top10+Top18_Label accuracy= 0.5317460317460317\n",
      "Top4+Top10+Top25_Label accuracy= 0.5343915343915344\n",
      "Top4+Top21+Top22_Label accuracy= 0.5396825396825397\n"
     ]
    },
    {
     "name": "stderr",
     "output_type": "stream",
     "text": [
      "\r",
      " 16%|█▌        | 4/25 [26:18<2:12:49, 379.48s/it]"
     ]
    },
    {
     "name": "stdout",
     "output_type": "stream",
     "text": [
      "Top5+Top13+Top22_Label accuracy= 0.5343915343915344\n",
      "Top5+Top18+Top24_Label accuracy= 0.5317460317460317\n",
      "Top5+Top19+Top20_Label accuracy= 0.5317460317460317\n"
     ]
    },
    {
     "name": "stderr",
     "output_type": "stream",
     "text": [
      "\r",
      " 20%|██        | 5/25 [31:29<1:58:13, 354.68s/it]"
     ]
    },
    {
     "name": "stdout",
     "output_type": "stream",
     "text": [
      "Top6+Top10+Top11_Label accuracy= 0.5343915343915344\n",
      "Top6+Top10+Top23_Label accuracy= 0.5343915343915344\n",
      "Top6+Top12+Top18_Label accuracy= 0.5343915343915344\n",
      "Top6+Top12+Top23_Label accuracy= 0.544973544973545\n",
      "Top6+Top16+Top23_Label accuracy= 0.5317460317460317\n",
      "Top6+Top18+Top22_Label accuracy= 0.5396825396825397\n",
      "Top6+Top18+Top23_Label accuracy= 0.5343915343915344\n"
     ]
    },
    {
     "name": "stderr",
     "output_type": "stream",
     "text": [
      "\r",
      " 24%|██▍       | 6/25 [35:59<1:43:16, 326.11s/it]"
     ]
    },
    {
     "name": "stdout",
     "output_type": "stream",
     "text": [
      "Top7+Top9+Top15_Label accuracy= 0.5343915343915344\n",
      "Top7+Top9+Top16_Label accuracy= 0.5317460317460317\n",
      "Top7+Top15+Top16_Label accuracy= 0.5423280423280423\n",
      "Top7+Top16+Top18_Label accuracy= 0.5343915343915344\n"
     ]
    },
    {
     "name": "stderr",
     "output_type": "stream",
     "text": [
      " 32%|███▏      | 8/25 [43:30<1:16:29, 269.97s/it]"
     ]
    },
    {
     "name": "stdout",
     "output_type": "stream",
     "text": [
      "Top9+Top10+Top20_Label accuracy= 0.5396825396825397\n",
      "Top9+Top10+Top25_Label accuracy= 0.5317460317460317\n",
      "Top9+Top15+Top16_Label accuracy= 0.5370370370370371\n",
      "Top9+Top16+Top21_Label accuracy= 0.5317460317460317\n",
      "Top9+Top22+Top24_Label accuracy= 0.5370370370370371\n"
     ]
    },
    {
     "name": "stderr",
     "output_type": "stream",
     "text": [
      "\r",
      " 36%|███▌      | 9/25 [46:41<1:05:25, 245.33s/it]"
     ]
    },
    {
     "name": "stdout",
     "output_type": "stream",
     "text": [
      "Top10+Top11+Top16_Label accuracy= 0.5317460317460317\n",
      "Top10+Top11+Top24_Label accuracy= 0.5317460317460317\n",
      "Top10+Top12+Top18_Label accuracy= 0.5317460317460317\n",
      "Top10+Top14+Top19_Label accuracy= 0.5343915343915344\n",
      "Top10+Top16+Top18_Label accuracy= 0.5317460317460317\n",
      "Top10+Top16+Top19_Label accuracy= 0.5317460317460317\n",
      "Top10+Top16+Top22_Label accuracy= 0.5396825396825397\n",
      "Top10+Top16+Top23_Label accuracy= 0.5343915343915344\n",
      "Top10+Top16+Top25_Label accuracy= 0.5343915343915344\n",
      "Top10+Top20+Top24_Label accuracy= 0.5317460317460317\n"
     ]
    },
    {
     "name": "stderr",
     "output_type": "stream",
     "text": [
      "\r",
      " 40%|████      | 10/25 [49:25<55:06, 220.41s/it] "
     ]
    },
    {
     "name": "stdout",
     "output_type": "stream",
     "text": [
      "Top11+Top23+Top24_Label accuracy= 0.5343915343915344\n"
     ]
    },
    {
     "name": "stderr",
     "output_type": "stream",
     "text": [
      "\r",
      " 44%|████▍     | 11/25 [51:47<45:48, 196.34s/it]"
     ]
    },
    {
     "name": "stdout",
     "output_type": "stream",
     "text": [
      "Top12+Top22+Top25_Label accuracy= 0.5317460317460317\n"
     ]
    },
    {
     "name": "stderr",
     "output_type": "stream",
     "text": [
      " 52%|█████▏    | 13/25 [55:30<30:19, 151.66s/it]"
     ]
    },
    {
     "name": "stdout",
     "output_type": "stream",
     "text": [
      "Top14+Top22+Top25_Label accuracy= 0.5317460317460317\n"
     ]
    },
    {
     "name": "stderr",
     "output_type": "stream",
     "text": [
      " 60%|██████    | 15/25 [58:20<19:29, 116.96s/it]"
     ]
    },
    {
     "name": "stdout",
     "output_type": "stream",
     "text": [
      "Top16+Top17+Top18_Label accuracy= 0.5317460317460317\n",
      "Top16+Top18+Top19_Label accuracy= 0.5317460317460317\n",
      "Top16+Top18+Top22_Label accuracy= 0.5317460317460317\n",
      "Top16+Top19+Top22_Label accuracy= 0.5317460317460317\n"
     ]
    },
    {
     "name": "stderr",
     "output_type": "stream",
     "text": [
      " 68%|██████▊   | 17/25 [1:00:12<11:20, 85.04s/it]"
     ]
    },
    {
     "name": "stdout",
     "output_type": "stream",
     "text": [
      "Top18+Top19+Top22_Label accuracy= 0.5317460317460317\n"
     ]
    },
    {
     "name": "stderr",
     "output_type": "stream",
     "text": [
      " 76%|███████▌  | 19/25 [1:01:14<05:42, 57.09s/it]"
     ]
    },
    {
     "name": "stdout",
     "output_type": "stream",
     "text": [
      "Top20+Top21+Top25_Label accuracy= 0.5317460317460317\n"
     ]
    },
    {
     "name": "stderr",
     "output_type": "stream",
     "text": [
      " 84%|████████▍ | 21/25 [1:01:42<02:19, 34.77s/it]"
     ]
    },
    {
     "name": "stdout",
     "output_type": "stream",
     "text": [
      "Top21+Top24+Top25_Label accuracy= 0.5317460317460317\n"
     ]
    },
    {
     "name": "stderr",
     "output_type": "stream",
     "text": [
      "100%|██████████| 25/25 [1:01:49<00:00, 148.39s/it]\n"
     ]
    }
   ],
   "source": [
    "sc_3c={}\n",
    "for i, lbl in enumerate(['Label','Label_1day','Label_2day', 'Label_3day', 'Label_4day', 'Label_5day']):\n",
    "    headlines_analyze_three(lbl,sc_3c)"
   ]
  },
  {
   "cell_type": "code",
   "execution_count": 32,
   "id": "300fe5fc",
   "metadata": {},
   "outputs": [
    {
     "data": {
      "text/html": [
       "<div>\n",
       "<style scoped>\n",
       "    .dataframe tbody tr th:only-of-type {\n",
       "        vertical-align: middle;\n",
       "    }\n",
       "\n",
       "    .dataframe tbody tr th {\n",
       "        vertical-align: top;\n",
       "    }\n",
       "\n",
       "    .dataframe thead th {\n",
       "        text-align: right;\n",
       "    }\n",
       "</style>\n",
       "<table border=\"1\" class=\"dataframe\">\n",
       "  <thead>\n",
       "    <tr style=\"text-align: right;\">\n",
       "      <th></th>\n",
       "      <th>Method</th>\n",
       "      <th>cols</th>\n",
       "      <th>ROC_AUC</th>\n",
       "      <th>Precision</th>\n",
       "      <th>Accuracy</th>\n",
       "      <th>Recall</th>\n",
       "      <th>F1</th>\n",
       "    </tr>\n",
       "  </thead>\n",
       "  <tbody>\n",
       "    <tr>\n",
       "      <th>Top6+Top12+Top23_Label</th>\n",
       "      <td>SVC()</td>\n",
       "      <td>Top6+Top12+Top23_Label</td>\n",
       "      <td>0.538390</td>\n",
       "      <td>0.528902</td>\n",
       "      <td>0.544974</td>\n",
       "      <td>0.953125</td>\n",
       "      <td>0.680297</td>\n",
       "    </tr>\n",
       "    <tr>\n",
       "      <th>Top6+Top12+Top23_Label_1day</th>\n",
       "      <td>SVC()</td>\n",
       "      <td>Top6+Top12+Top23_Label_1day</td>\n",
       "      <td>0.538306</td>\n",
       "      <td>0.733333</td>\n",
       "      <td>0.544974</td>\n",
       "      <td>0.118280</td>\n",
       "      <td>0.203704</td>\n",
       "    </tr>\n",
       "    <tr>\n",
       "      <th>Top3+Top10+Top16_Label</th>\n",
       "      <td>SVC()</td>\n",
       "      <td>Top3+Top10+Top16_Label</td>\n",
       "      <td>0.537970</td>\n",
       "      <td>0.528090</td>\n",
       "      <td>0.544974</td>\n",
       "      <td>0.979167</td>\n",
       "      <td>0.686131</td>\n",
       "    </tr>\n",
       "    <tr>\n",
       "      <th>Top7+Top15+Top16_Label</th>\n",
       "      <td>SVC()</td>\n",
       "      <td>Top7+Top15+Top16_Label</td>\n",
       "      <td>0.535954</td>\n",
       "      <td>0.527859</td>\n",
       "      <td>0.542328</td>\n",
       "      <td>0.937500</td>\n",
       "      <td>0.675422</td>\n",
       "    </tr>\n",
       "    <tr>\n",
       "      <th>Top3+Top10+Top16_Label_1day</th>\n",
       "      <td>SVC()</td>\n",
       "      <td>Top3+Top10+Top16_Label_1day</td>\n",
       "      <td>0.535282</td>\n",
       "      <td>0.809524</td>\n",
       "      <td>0.542328</td>\n",
       "      <td>0.091398</td>\n",
       "      <td>0.164251</td>\n",
       "    </tr>\n",
       "    <tr>\n",
       "      <th>Top7+Top15+Top16_Label_1day</th>\n",
       "      <td>SVC()</td>\n",
       "      <td>Top7+Top15+Top16_Label_1day</td>\n",
       "      <td>0.533182</td>\n",
       "      <td>0.676471</td>\n",
       "      <td>0.539683</td>\n",
       "      <td>0.123656</td>\n",
       "      <td>0.209091</td>\n",
       "    </tr>\n",
       "    <tr>\n",
       "      <th>Top6+Top18+Top22_Label</th>\n",
       "      <td>SVC()</td>\n",
       "      <td>Top6+Top18+Top22_Label</td>\n",
       "      <td>0.532762</td>\n",
       "      <td>0.525424</td>\n",
       "      <td>0.539683</td>\n",
       "      <td>0.968750</td>\n",
       "      <td>0.681319</td>\n",
       "    </tr>\n",
       "    <tr>\n",
       "      <th>Top9+Top10+Top20_Label</th>\n",
       "      <td>SVC()</td>\n",
       "      <td>Top9+Top10+Top20_Label</td>\n",
       "      <td>0.532762</td>\n",
       "      <td>0.525424</td>\n",
       "      <td>0.539683</td>\n",
       "      <td>0.968750</td>\n",
       "      <td>0.681319</td>\n",
       "    </tr>\n",
       "    <tr>\n",
       "      <th>Top10+Top16+Top22_Label</th>\n",
       "      <td>SVC()</td>\n",
       "      <td>Top10+Top16+Top22_Label</td>\n",
       "      <td>0.532762</td>\n",
       "      <td>0.525424</td>\n",
       "      <td>0.539683</td>\n",
       "      <td>0.968750</td>\n",
       "      <td>0.681319</td>\n",
       "    </tr>\n",
       "    <tr>\n",
       "      <th>Top6+Top18+Top22_Label_1day</th>\n",
       "      <td>SVC()</td>\n",
       "      <td>Top6+Top18+Top22_Label_1day</td>\n",
       "      <td>0.532762</td>\n",
       "      <td>0.750000</td>\n",
       "      <td>0.539683</td>\n",
       "      <td>0.096774</td>\n",
       "      <td>0.171429</td>\n",
       "    </tr>\n",
       "  </tbody>\n",
       "</table>\n",
       "</div>"
      ],
      "text/plain": [
       "                            Method                         cols   ROC_AUC  \\\n",
       "Top6+Top12+Top23_Label       SVC()       Top6+Top12+Top23_Label  0.538390   \n",
       "Top6+Top12+Top23_Label_1day  SVC()  Top6+Top12+Top23_Label_1day  0.538306   \n",
       "Top3+Top10+Top16_Label       SVC()       Top3+Top10+Top16_Label  0.537970   \n",
       "Top7+Top15+Top16_Label       SVC()       Top7+Top15+Top16_Label  0.535954   \n",
       "Top3+Top10+Top16_Label_1day  SVC()  Top3+Top10+Top16_Label_1day  0.535282   \n",
       "Top7+Top15+Top16_Label_1day  SVC()  Top7+Top15+Top16_Label_1day  0.533182   \n",
       "Top6+Top18+Top22_Label       SVC()       Top6+Top18+Top22_Label  0.532762   \n",
       "Top9+Top10+Top20_Label       SVC()       Top9+Top10+Top20_Label  0.532762   \n",
       "Top10+Top16+Top22_Label      SVC()      Top10+Top16+Top22_Label  0.532762   \n",
       "Top6+Top18+Top22_Label_1day  SVC()  Top6+Top18+Top22_Label_1day  0.532762   \n",
       "\n",
       "                             Precision  Accuracy    Recall        F1  \n",
       "Top6+Top12+Top23_Label        0.528902  0.544974  0.953125  0.680297  \n",
       "Top6+Top12+Top23_Label_1day   0.733333  0.544974  0.118280  0.203704  \n",
       "Top3+Top10+Top16_Label        0.528090  0.544974  0.979167  0.686131  \n",
       "Top7+Top15+Top16_Label        0.527859  0.542328  0.937500  0.675422  \n",
       "Top3+Top10+Top16_Label_1day   0.809524  0.542328  0.091398  0.164251  \n",
       "Top7+Top15+Top16_Label_1day   0.676471  0.539683  0.123656  0.209091  \n",
       "Top6+Top18+Top22_Label        0.525424  0.539683  0.968750  0.681319  \n",
       "Top9+Top10+Top20_Label        0.525424  0.539683  0.968750  0.681319  \n",
       "Top10+Top16+Top22_Label       0.525424  0.539683  0.968750  0.681319  \n",
       "Top6+Top18+Top22_Label_1day   0.750000  0.539683  0.096774  0.171429  "
      ]
     },
     "execution_count": 32,
     "metadata": {},
     "output_type": "execute_result"
    }
   ],
   "source": [
    "df_sc3 = pd.DataFrame.from_dict(sc_3c, orient='index')\n",
    "df_sc3.sort_values(by=['ROC_AUC','Accuracy'],ascending=False,inplace=True)\n",
    "df_sc3.head(10)"
   ]
  },
  {
   "cell_type": "code",
   "execution_count": 34,
   "id": "d648f28c",
   "metadata": {},
   "outputs": [],
   "source": [
    "def analyze_all_news(lbl):\n",
    "    df_h = df[['Date',lbl]].copy()\n",
    "    df_h['news'] = df['news_stemmed']\n",
    "    train = df_h[df_h['Date']<'20141231']\n",
    "    test = df_h[df_h['Date']>'20141231']\n",
    "    y_train = train[lbl]\n",
    "    y_test = test[lbl]\n",
    "    svm_pipeline.fit(train['news'],y_train)\n",
    "    predictions = svm_pipeline.predict(test['news'])                \n",
    "    Evaluation ('SVC()','news_stemmed'+lbl,y_test, predictions,sc_news,p1)"
   ]
  },
  {
   "cell_type": "code",
   "execution_count": 35,
   "id": "8127f2fa",
   "metadata": {},
   "outputs": [
    {
     "name": "stdout",
     "output_type": "stream",
     "text": [
      "news_lemmatized_posLabel accuracy= 0.5079365079365079\n"
     ]
    }
   ],
   "source": [
    "sc_news={}\n",
    "for i, lbl in enumerate(['Label','Label_1day','Label_2day', 'Label_3day', 'Label_4day', 'Label_5day']):\n",
    "    analyze_all_news(lbl)"
   ]
  },
  {
   "cell_type": "code",
   "execution_count": 41,
   "id": "5a5fdb13",
   "metadata": {},
   "outputs": [
    {
     "data": {
      "text/html": [
       "<div>\n",
       "<style scoped>\n",
       "    .dataframe tbody tr th:only-of-type {\n",
       "        vertical-align: middle;\n",
       "    }\n",
       "\n",
       "    .dataframe tbody tr th {\n",
       "        vertical-align: top;\n",
       "    }\n",
       "\n",
       "    .dataframe thead th {\n",
       "        text-align: right;\n",
       "    }\n",
       "</style>\n",
       "<table border=\"1\" class=\"dataframe\">\n",
       "  <thead>\n",
       "    <tr style=\"text-align: right;\">\n",
       "      <th></th>\n",
       "      <th>Method</th>\n",
       "      <th>cols</th>\n",
       "      <th>ROC_AUC</th>\n",
       "      <th>Precision</th>\n",
       "      <th>Accuracy</th>\n",
       "      <th>Recall</th>\n",
       "      <th>F1</th>\n",
       "    </tr>\n",
       "  </thead>\n",
       "  <tbody>\n",
       "    <tr>\n",
       "      <th>news_lemmatized_posLabel_2day</th>\n",
       "      <td>SVC()</td>\n",
       "      <td>news_lemmatized_posLabel_2day</td>\n",
       "      <td>0.5</td>\n",
       "      <td>0.000000</td>\n",
       "      <td>0.547619</td>\n",
       "      <td>0.0</td>\n",
       "      <td>0.000000</td>\n",
       "    </tr>\n",
       "    <tr>\n",
       "      <th>news_lemmatized_posLabel_4day</th>\n",
       "      <td>SVC()</td>\n",
       "      <td>news_lemmatized_posLabel_4day</td>\n",
       "      <td>0.5</td>\n",
       "      <td>0.000000</td>\n",
       "      <td>0.534392</td>\n",
       "      <td>0.0</td>\n",
       "      <td>0.000000</td>\n",
       "    </tr>\n",
       "    <tr>\n",
       "      <th>news_lemmatized_posLabel_3day</th>\n",
       "      <td>SVC()</td>\n",
       "      <td>news_lemmatized_posLabel_3day</td>\n",
       "      <td>0.5</td>\n",
       "      <td>0.000000</td>\n",
       "      <td>0.531746</td>\n",
       "      <td>0.0</td>\n",
       "      <td>0.000000</td>\n",
       "    </tr>\n",
       "    <tr>\n",
       "      <th>news_lemmatized_posLabel_5day</th>\n",
       "      <td>SVC()</td>\n",
       "      <td>news_lemmatized_posLabel_5day</td>\n",
       "      <td>0.5</td>\n",
       "      <td>0.000000</td>\n",
       "      <td>0.531746</td>\n",
       "      <td>0.0</td>\n",
       "      <td>0.000000</td>\n",
       "    </tr>\n",
       "    <tr>\n",
       "      <th>news_lemmatized_posLabel</th>\n",
       "      <td>SVC()</td>\n",
       "      <td>news_lemmatized_posLabel</td>\n",
       "      <td>0.5</td>\n",
       "      <td>0.507937</td>\n",
       "      <td>0.507937</td>\n",
       "      <td>1.0</td>\n",
       "      <td>0.673684</td>\n",
       "    </tr>\n",
       "    <tr>\n",
       "      <th>news_lemmatized_posLabel_1day</th>\n",
       "      <td>SVC()</td>\n",
       "      <td>news_lemmatized_posLabel_1day</td>\n",
       "      <td>0.5</td>\n",
       "      <td>0.000000</td>\n",
       "      <td>0.507937</td>\n",
       "      <td>0.0</td>\n",
       "      <td>0.000000</td>\n",
       "    </tr>\n",
       "  </tbody>\n",
       "</table>\n",
       "</div>"
      ],
      "text/plain": [
       "                              Method                           cols  ROC_AUC  \\\n",
       "news_lemmatized_posLabel_2day  SVC()  news_lemmatized_posLabel_2day      0.5   \n",
       "news_lemmatized_posLabel_4day  SVC()  news_lemmatized_posLabel_4day      0.5   \n",
       "news_lemmatized_posLabel_3day  SVC()  news_lemmatized_posLabel_3day      0.5   \n",
       "news_lemmatized_posLabel_5day  SVC()  news_lemmatized_posLabel_5day      0.5   \n",
       "news_lemmatized_posLabel       SVC()       news_lemmatized_posLabel      0.5   \n",
       "news_lemmatized_posLabel_1day  SVC()  news_lemmatized_posLabel_1day      0.5   \n",
       "\n",
       "                               Precision  Accuracy  Recall        F1  \n",
       "news_lemmatized_posLabel_2day   0.000000  0.547619     0.0  0.000000  \n",
       "news_lemmatized_posLabel_4day   0.000000  0.534392     0.0  0.000000  \n",
       "news_lemmatized_posLabel_3day   0.000000  0.531746     0.0  0.000000  \n",
       "news_lemmatized_posLabel_5day   0.000000  0.531746     0.0  0.000000  \n",
       "news_lemmatized_posLabel        0.507937  0.507937     1.0  0.673684  \n",
       "news_lemmatized_posLabel_1day   0.000000  0.507937     0.0  0.000000  "
      ]
     },
     "execution_count": 41,
     "metadata": {},
     "output_type": "execute_result"
    }
   ],
   "source": [
    "df_sc_news = pd.DataFrame.from_dict(sc_news, orient='index')\n",
    "df_sc_news.sort_values(by=['ROC_AUC','Accuracy'],ascending=False,inplace=True)\n",
    "df_sc_news"
   ]
  },
  {
   "cell_type": "markdown",
   "id": "d5faeaa2",
   "metadata": {},
   "source": [
    "# Parameters Tuning"
   ]
  },
  {
   "cell_type": "markdown",
   "id": "2d0acd95",
   "metadata": {},
   "source": [
    "## One Headline"
   ]
  },
  {
   "cell_type": "code",
   "execution_count": 121,
   "id": "03c496cc",
   "metadata": {},
   "outputs": [],
   "source": [
    "from sklearn.naive_bayes import BernoulliNB\n",
    "nb_pipeline = Pipeline([\n",
    "    ('bow', CountVectorizer(analyzer=lambda x: x)),  \n",
    "    ('tfidf', TfidfTransformer()),  # integer counts to weighted TF-IDF scores\n",
    "    ('clf', SVC()) # train on TF-IDF vectors w/ Naive Bayes classifier\n",
    "])"
   ]
  },
  {
   "cell_type": "code",
   "execution_count": 122,
   "id": "a885b587",
   "metadata": {},
   "outputs": [],
   "source": [
    "params = {'bow__ngram_range': [(1, 1), (1, 2), (1, 3)],                    \n",
    "          'tfidf__use_idf': (True, False),                   \n",
    "          'tfidf__norm': ('l1', 'l2',None)\n",
    "          }"
   ]
  },
  {
   "cell_type": "code",
   "execution_count": 123,
   "id": "a8e68b2a",
   "metadata": {},
   "outputs": [],
   "source": [
    "df_h = df[['Date','Label_1day','Top9']].copy()   \n",
    "train = df_h[df_h['Date']<'20141231']\n",
    "test = df_h[df_h['Date']>'20141231']\n",
    "y_train = train['Label_1day']\n",
    "y_test = test['Label_1day']"
   ]
  },
  {
   "cell_type": "code",
   "execution_count": 70,
   "id": "5a8413d0",
   "metadata": {},
   "outputs": [],
   "source": [
    "gs = GridSearchCV(estimator=nb_pipeline, param_grid=params, n_jobs=-1, cv=4)\n",
    "gs_results = gs.fit(train['Top9'], y_train)"
   ]
  },
  {
   "cell_type": "code",
   "execution_count": 71,
   "id": "035bd1a2",
   "metadata": {},
   "outputs": [
    {
     "name": "stdout",
     "output_type": "stream",
     "text": [
      "best parameters:\n",
      "{'bow__ngram_range': (1, 1), 'tfidf__norm': None, 'tfidf__use_idf': True}\n",
      "accuracy: 0.5471942397195166\n"
     ]
    }
   ],
   "source": [
    "print(f\"best parameters:\\n{gs_results.best_params_}\\naccuracy: {gs_results.best_score_}\")"
   ]
  },
  {
   "cell_type": "code",
   "execution_count": 124,
   "id": "1706c019",
   "metadata": {},
   "outputs": [],
   "source": [
    "nb_pipe = Pipeline([\n",
    "    ('bow', CountVectorizer(analyzer=lambda x: x )),  \n",
    "    ('tfidf', TfidfTransformer(use_idf=False)),  \n",
    "    ('classifier', SVC())]) "
   ]
  },
  {
   "cell_type": "code",
   "execution_count": 125,
   "id": "6e2d7b43",
   "metadata": {},
   "outputs": [
    {
     "name": "stdout",
     "output_type": "stream",
     "text": [
      "              precision    recall  f1-score   support\n",
      "\n",
      "           0       0.53      0.90      0.66       192\n",
      "           1       0.62      0.17      0.27       186\n",
      "\n",
      "    accuracy                           0.54       378\n",
      "   macro avg       0.57      0.53      0.47       378\n",
      "weighted avg       0.57      0.54      0.47       378\n",
      "\n",
      "Accuracy: 0.5396825396825397\n"
     ]
    }
   ],
   "source": [
    "nb_pipe.fit(train['Top9'],y_train)\n",
    "prediction = nb_pipe.predict(test['Top9'])\n",
    "\n",
    "print(classification_report(y_test, prediction))\n",
    "matrix=confusion_matrix(y_test,prediction)\n",
    "score=accuracy_score(y_test,prediction)\n",
    "print(\"Accuracy:\",score)"
   ]
  },
  {
   "cell_type": "code",
   "execution_count": 126,
   "id": "b1d6fa58",
   "metadata": {},
   "outputs": [
    {
     "data": {
      "text/plain": [
       "Text(0.5, 15.0, 'Predicted')"
      ]
     },
     "execution_count": 126,
     "metadata": {},
     "output_type": "execute_result"
    },
    {
     "data": {
      "image/png": "[encoded data removed]",
      "text/plain": [
       "<Figure size 432x288 with 2 Axes>"
      ]
     },
     "metadata": {
      "needs_background": "light"
     },
     "output_type": "display_data"
    }
   ],
   "source": [
    "group_names = ['TN','FP','FN','TP']\n",
    "group_counts = [\"{0:0.0f}\".format(value) for value in\n",
    "            matrix.flatten()]\n",
    "group_percentages = [\"{0:.2%}\".format(value) for value in\n",
    "                 matrix.flatten()/np.sum(matrix)]\n",
    "labels = [f\"{v1}\\n{v2}\\n{v3}\" for v1, v2, v3 in\n",
    "      zip(group_names,group_counts,group_percentages)]\n",
    "\n",
    "labels = np.asarray(labels).reshape(2,2)\n",
    "plt.title('Naive Bayes - Confusion Matrix')\n",
    "\n",
    "sns.heatmap(matrix, annot=labels, fmt=\"\", cmap='Reds')\n",
    "plt.ylabel('True Label', fontsize=12)\n",
    "plt.xlabel('Predicted',fontsize=12)"
   ]
  },
  {
   "cell_type": "markdown",
   "id": "d73d6481",
   "metadata": {},
   "source": [
    "## Two Headlines"
   ]
  },
  {
   "cell_type": "code",
   "execution_count": 142,
   "id": "019922ae",
   "metadata": {},
   "outputs": [],
   "source": [
    "nb_pipeline = Pipeline([\n",
    "    ('bow', CountVectorizer(analyzer=lambda x: x)),  \n",
    "    ('tfidf', TfidfTransformer()),  # integer counts to weighted TF-IDF scores\n",
    "    ('clf', SVC()) # train on TF-IDF vectors w/ Naive Bayes classifier\n",
    "])"
   ]
  },
  {
   "cell_type": "code",
   "execution_count": 144,
   "id": "53f6763d",
   "metadata": {},
   "outputs": [],
   "source": [
    "params = {'bow__ngram_range': [(1, 1), (1, 2)],\n",
    "          'clf__C': (.1,1, 10, 100),\n",
    "          'clf__gamma': (1, 0.1 , 0.01, 0.001),\n",
    "          'clf__kernel': ('rbf', 'poly', 'sigmoid')}         "
   ]
  },
  {
   "cell_type": "code",
   "execution_count": 145,
   "id": "f8155bf5",
   "metadata": {},
   "outputs": [],
   "source": [
    "df_h = df[['Date','Label_1day','Top6','Top12']].copy()   \n",
    "df_h['news'] = df_h['Top6']+df_h['Top12']\n",
    "train = df_h[df_h['Date']<'20141231']\n",
    "test = df_h[df_h['Date']>'20141231']\n",
    "y_train = train['Label_1day']\n",
    "y_test = test['Label_1day']"
   ]
  },
  {
   "cell_type": "code",
   "execution_count": 146,
   "id": "196ef213",
   "metadata": {},
   "outputs": [],
   "source": [
    "gs = GridSearchCV(estimator=nb_pipeline, param_grid=params, n_jobs=-1, cv=4)\n",
    "gs_results = gs.fit(train['news'], y_train)"
   ]
  },
  {
   "cell_type": "code",
   "execution_count": 147,
   "id": "fdf65a34",
   "metadata": {},
   "outputs": [
    {
     "name": "stdout",
     "output_type": "stream",
     "text": [
      "best parameters:\n",
      "{'bow__ngram_range': (1, 1), 'clf__C': 1, 'clf__gamma': 1, 'clf__kernel': 'rbf'}\n",
      "accuracy: 0.5484441934249349\n"
     ]
    }
   ],
   "source": [
    "print(f\"best parameters:\\n{gs_results.best_params_}\\naccuracy: {gs_results.best_score_}\")"
   ]
  },
  {
   "cell_type": "code",
   "execution_count": 150,
   "id": "c22326b2",
   "metadata": {},
   "outputs": [],
   "source": [
    "nb_pipe = Pipeline([\n",
    "    ('bow', CountVectorizer(ngram_range=(1, 1),analyzer=lambda x: x )),  \n",
    "    ('tfidf', TfidfTransformer(use_idf=True) ),  \n",
    "    ('classifier', SVC( C=1, gamma=1, kernel='rbf' )) ])"
   ]
  },
  {
   "cell_type": "code",
   "execution_count": 151,
   "id": "0edee69a",
   "metadata": {},
   "outputs": [
    {
     "name": "stdout",
     "output_type": "stream",
     "text": [
      "              precision    recall  f1-score   support\n",
      "\n",
      "           0       0.53      0.98      0.69       192\n",
      "           1       0.84      0.11      0.20       186\n",
      "\n",
      "    accuracy                           0.55       378\n",
      "   macro avg       0.69      0.55      0.44       378\n",
      "weighted avg       0.68      0.55      0.45       378\n",
      "\n",
      "Accuracy: 0.5529100529100529\n"
     ]
    }
   ],
   "source": [
    "nb_pipe.fit(train['news'],y_train)\n",
    "prediction = nb_pipe.predict(test['news'])\n",
    "\n",
    "print(classification_report(y_test, prediction))\n",
    "matrix=confusion_matrix(y_test,prediction)\n",
    "score=accuracy_score(y_test,prediction)\n",
    "print(\"Accuracy:\",score)"
   ]
  },
  {
   "cell_type": "code",
   "execution_count": 152,
   "id": "f2da783e",
   "metadata": {},
   "outputs": [
    {
     "data": {
      "text/plain": [
       "Text(0.5, 15.0, 'Predicted')"
      ]
     },
     "execution_count": 152,
     "metadata": {},
     "output_type": "execute_result"
    },
    {
     "data": {
      "image/png": "[encoded data removed]",
      "text/plain": [
       "<Figure size 432x288 with 2 Axes>"
      ]
     },
     "metadata": {
      "needs_background": "light"
     },
     "output_type": "display_data"
    }
   ],
   "source": [
    "group_names = ['TN','FP','FN','TP']\n",
    "group_counts = [\"{0:0.0f}\".format(value) for value in\n",
    "            matrix.flatten()]\n",
    "group_percentages = [\"{0:.2%}\".format(value) for value in\n",
    "                 matrix.flatten()/np.sum(matrix)]\n",
    "labels = [f\"{v1}\\n{v2}\\n{v3}\" for v1, v2, v3 in\n",
    "      zip(group_names,group_counts,group_percentages)]\n",
    "\n",
    "labels = np.asarray(labels).reshape(2,2)\n",
    "plt.title('Naive Bayes - Confusion Matrix')\n",
    "\n",
    "sns.heatmap(matrix, annot=labels, fmt=\"\", cmap='Reds')\n",
    "plt.ylabel('True Label', fontsize=12)\n",
    "plt.xlabel('Predicted',fontsize=12)"
   ]
  },
  {
   "cell_type": "markdown",
   "id": "b52a1ef0",
   "metadata": {},
   "source": [
    "## Three Headlines "
   ]
  },
  {
   "cell_type": "code",
   "execution_count": 157,
   "id": "4bad30d4",
   "metadata": {},
   "outputs": [],
   "source": [
    "nb_pipeline = Pipeline([\n",
    "    ('bow', CountVectorizer(analyzer=lambda x: x)),  \n",
    "    ('tfidf', TfidfTransformer()),  # integer counts to weighted TF-IDF scores\n",
    "    ('clf', SVC()) # train on TF-IDF vectors w/ Naive Bayes classifier\n",
    "])"
   ]
  },
  {
   "cell_type": "code",
   "execution_count": 213,
   "id": "5733a3f2",
   "metadata": {},
   "outputs": [],
   "source": [
    "params = {'bow__ngram_range': [(1, 1)],          \n",
    "          'clf__gamma': (1,0.5,0.2),\n",
    "          'clf__kernel': ('rbf','sigmoid')}  "
   ]
  },
  {
   "cell_type": "code",
   "execution_count": 214,
   "id": "ab4ce49b",
   "metadata": {},
   "outputs": [],
   "source": [
    "df_h = df[['Date','Label','Top6','Top12','Top23']].copy()   \n",
    "df_h['news'] = df_h['Top6']+df_h['Top12']+df_h['Top23']\n",
    "train = df_h[df_h['Date']<'20141231']\n",
    "test = df_h[df_h['Date']>'20141231']\n",
    "y_train = train['Label']\n",
    "y_test = test['Label']"
   ]
  },
  {
   "cell_type": "code",
   "execution_count": 215,
   "id": "2be8a861",
   "metadata": {},
   "outputs": [],
   "source": [
    "gs = GridSearchCV(estimator=nb_pipeline, param_grid=params, n_jobs=-1, cv=4)\n",
    "gs_results = gs.fit(train['news'], y_train)"
   ]
  },
  {
   "cell_type": "code",
   "execution_count": 216,
   "id": "a5fb1b7f",
   "metadata": {},
   "outputs": [
    {
     "name": "stdout",
     "output_type": "stream",
     "text": [
      "best parameters:\n",
      "{'bow__ngram_range': (1, 1), 'clf__gamma': 0.5, 'clf__kernel': 'rbf'}\n",
      "accuracy: 0.5459689764576621\n"
     ]
    }
   ],
   "source": [
    "print(f\"best parameters:\\n{gs_results.best_params_}\\naccuracy: {gs_results.best_score_}\")"
   ]
  },
  {
   "cell_type": "code",
   "execution_count": 219,
   "id": "8cb2e774",
   "metadata": {},
   "outputs": [],
   "source": [
    "nb_pipe = Pipeline([\n",
    "    ('bow', CountVectorizer(ngram_range=(1, 1),analyzer=lambda x: x )),  \n",
    "    ('tfidf', TfidfTransformer(use_idf=False)),  \n",
    "    ('classifier', SVC(gamma=0.5, kernel='rbf')) ]) "
   ]
  },
  {
   "cell_type": "code",
   "execution_count": 220,
   "id": "78b3fc6c",
   "metadata": {},
   "outputs": [
    {
     "name": "stdout",
     "output_type": "stream",
     "text": [
      "              precision    recall  f1-score   support\n",
      "\n",
      "           0       0.64      0.17      0.27       186\n",
      "           1       0.53      0.91      0.67       192\n",
      "\n",
      "    accuracy                           0.54       378\n",
      "   macro avg       0.59      0.54      0.47       378\n",
      "weighted avg       0.58      0.54      0.47       378\n",
      "\n",
      "Accuracy: 0.544973544973545\n"
     ]
    }
   ],
   "source": [
    "nb_pipe.fit(train['news'],y_train)\n",
    "prediction = nb_pipe.predict(test['news'])\n",
    "\n",
    "print(classification_report(y_test, prediction))\n",
    "matrix=confusion_matrix(y_test,prediction)\n",
    "score=accuracy_score(y_test,prediction)\n",
    "print(\"Accuracy:\",score)"
   ]
  },
  {
   "cell_type": "code",
   "execution_count": 221,
   "id": "559bfaa9",
   "metadata": {},
   "outputs": [
    {
     "data": {
      "text/plain": [
       "Text(0.5, 15.0, 'Predicted')"
      ]
     },
     "execution_count": 221,
     "metadata": {},
     "output_type": "execute_result"
    },
    {
     "data": {
      "image/png": "[encoded data removed]",
      "text/plain": [
       "<Figure size 432x288 with 2 Axes>"
      ]
     },
     "metadata": {
      "needs_background": "light"
     },
     "output_type": "display_data"
    }
   ],
   "source": [
    "group_names = ['TN','FP','FN','TP']\n",
    "group_counts = [\"{0:0.0f}\".format(value) for value in\n",
    "            matrix.flatten()]\n",
    "group_percentages = [\"{0:.2%}\".format(value) for value in\n",
    "                 matrix.flatten()/np.sum(matrix)]\n",
    "labels = [f\"{v1}\\n{v2}\\n{v3}\" for v1, v2, v3 in\n",
    "      zip(group_names,group_counts,group_percentages)]\n",
    "\n",
    "labels = np.asarray(labels).reshape(2,2)\n",
    "plt.title('Naive Bayes - Confusion Matrix')\n",
    "\n",
    "sns.heatmap(matrix, annot=labels, fmt=\"\", cmap='Reds')\n",
    "plt.ylabel('True Label', fontsize=12)\n",
    "plt.xlabel('Predicted',fontsize=12)"
   ]
  },
  {
   "cell_type": "code",
   "execution_count": null,
   "id": "ac22895f",
   "metadata": {},
   "outputs": [],
   "source": []
  }
 ],
 "metadata": {
  "kernelspec": {
   "display_name": "Python 3 (ipykernel)",
   "language": "python",
   "name": "python3"
  },
  "language_info": {
   "codemirror_mode": {
    "name": "ipython",
    "version": 3
   },
   "file_extension": ".py",
   "mimetype": "text/x-python",
   "name": "python",
   "nbconvert_exporter": "python",
   "pygments_lexer": "ipython3",
   "version": "3.8.13"
  }
 },
 "nbformat": 4,
 "nbformat_minor": 5
}
