{
 "cells": [
  {
   "cell_type": "code",
   "execution_count": 1,
   "id": "500a1330",
   "metadata": {},
   "outputs": [],
   "source": [
    "import warnings\n",
    "warnings.filterwarnings(\"ignore\")\n",
    "\n",
    "import pandas as pd\n",
    "import numpy as np\n",
    "import seaborn as sns\n",
    "import matplotlib.pyplot as plt\n",
    "from ast import literal_eval\n",
    "from sklearn.naive_bayes import MultinomialNB\n",
    "\n",
    "from sklearn.feature_extraction.text import CountVectorizer,TfidfVectorizer,TfidfTransformer\n",
    "from sklearn.metrics import classification_report,confusion_matrix,accuracy_score,roc_curve, auc\n",
    "from sklearn.metrics import roc_auc_score,precision_score, recall_score, f1_score\n",
    "from sklearn.model_selection import GridSearchCV\n",
    "from sklearn.pipeline import Pipeline\n",
    "from tqdm import tqdm"
   ]
  },
  {
   "cell_type": "code",
   "execution_count": 2,
   "id": "3dae4936",
   "metadata": {},
   "outputs": [],
   "source": [
    "df  = pd.read_csv('dataset/pre_process_all_news_days.csv', encoding = \"ISO-8859-1\", parse_dates=[\"Date\"])"
   ]
  },
  {
   "cell_type": "code",
   "execution_count": 3,
   "id": "42772c35",
   "metadata": {},
   "outputs": [],
   "source": [
    "#Get the name of the headline columns\n",
    "cols = []\n",
    "for i in range(1,26):\n",
    "    col = (\"Top{}\".format(i))    \n",
    "    cols.append(col)"
   ]
  },
  {
   "cell_type": "code",
   "execution_count": 4,
   "id": "0085f427",
   "metadata": {},
   "outputs": [
    {
     "name": "stderr",
     "output_type": "stream",
     "text": [
      "100%|██████████| 25/25 [00:03<00:00,  7.25it/s]\n"
     ]
    }
   ],
   "source": [
    "for col in tqdm(cols):\n",
    "    # Structure the data\n",
    "    df[col] = df[col].apply(lambda x: literal_eval(x))  "
   ]
  },
  {
   "cell_type": "code",
   "execution_count": 5,
   "id": "c2465dbb",
   "metadata": {},
   "outputs": [],
   "source": [
    "def Evaluation (Method,Comment,Actual, Predicted,Scores):\n",
    "    ROC_AUC=roc_auc_score(Actual,Predicted)    \n",
    "    Precision=precision_score(Actual,Predicted)\n",
    "    Accuracy=accuracy_score(Actual,Predicted)\n",
    "    Recall=recall_score(Actual,Predicted)\n",
    "    F1=f1_score(Actual,Predicted)    \n",
    "    Scores[Comment] = {'Method':Method,'ROC_AUC':ROC_AUC,'Accuracy':Accuracy,\n",
    "                       'Precision':Precision,'Recall':Recall,'F1':F1}    "
   ]
  },
  {
   "cell_type": "code",
   "execution_count": 6,
   "id": "d2c6bb57",
   "metadata": {},
   "outputs": [],
   "source": [
    "#Creating a Data Pipeline for Naive Bayes classifier classifier - baseline\n",
    "nb_pipeline = Pipeline([\n",
    "    ('bow', CountVectorizer(analyzer=lambda x: x)),  \n",
    "    ('tfidf', TfidfTransformer()),  # integer counts to weighted TF-IDF scores\n",
    "    ('classifier', MultinomialNB()) # train on TF-IDF vectors w/ Naive Bayes classifier\n",
    "])"
   ]
  },
  {
   "cell_type": "code",
   "execution_count": 7,
   "id": "c6c91912",
   "metadata": {},
   "outputs": [],
   "source": [
    "def headlines_analyze(lbl,sc):\n",
    "    df_h = df[['Date',lbl]].copy()\n",
    "    for cl in cols:    \n",
    "        df_h['news'] = df[cl]\n",
    "        train = df_h[df_h['Date']<'20141231']\n",
    "        test = df_h[df_h['Date']>'20141231']\n",
    "        y_train = train[lbl]\n",
    "        y_test = test[lbl]\n",
    "        nb_pipeline.fit(train['news'],y_train)\n",
    "        predictions = nb_pipeline.predict(test['news'])    \n",
    "        Evaluation ('MultinomialNB()',cl+'_'+lbl,y_test, predictions,sc)"
   ]
  },
  {
   "cell_type": "code",
   "execution_count": 8,
   "id": "a2b283bc",
   "metadata": {},
   "outputs": [],
   "source": [
    "sc={}\n",
    "for i, lbl in enumerate(['Label','Label_1day','Label_2day', 'Label_3day', 'Label_4day', 'Label_5day']):\n",
    "    headlines_analyze(lbl,sc)"
   ]
  },
  {
   "cell_type": "code",
   "execution_count": 9,
   "id": "d57ec7cc",
   "metadata": {},
   "outputs": [],
   "source": [
    "df_sc = pd.DataFrame.from_dict(sc, orient='index')"
   ]
  },
  {
   "cell_type": "code",
   "execution_count": 10,
   "id": "18870fea",
   "metadata": {},
   "outputs": [
    {
     "data": {
      "text/html": [
       "<div>\n",
       "<style scoped>\n",
       "    .dataframe tbody tr th:only-of-type {\n",
       "        vertical-align: middle;\n",
       "    }\n",
       "\n",
       "    .dataframe tbody tr th {\n",
       "        vertical-align: top;\n",
       "    }\n",
       "\n",
       "    .dataframe thead th {\n",
       "        text-align: right;\n",
       "    }\n",
       "</style>\n",
       "<table border=\"1\" class=\"dataframe\">\n",
       "  <thead>\n",
       "    <tr style=\"text-align: right;\">\n",
       "      <th></th>\n",
       "      <th>Method</th>\n",
       "      <th>ROC_AUC</th>\n",
       "      <th>Accuracy</th>\n",
       "      <th>Precision</th>\n",
       "      <th>Recall</th>\n",
       "      <th>F1</th>\n",
       "    </tr>\n",
       "  </thead>\n",
       "  <tbody>\n",
       "    <tr>\n",
       "      <th>Top12_Label_1day</th>\n",
       "      <td>MultinomialNB()</td>\n",
       "      <td>0.556704</td>\n",
       "      <td>0.560847</td>\n",
       "      <td>0.611111</td>\n",
       "      <td>0.295699</td>\n",
       "      <td>0.398551</td>\n",
       "    </tr>\n",
       "    <tr>\n",
       "      <th>Top12_Label</th>\n",
       "      <td>MultinomialNB()</td>\n",
       "      <td>0.554099</td>\n",
       "      <td>0.558201</td>\n",
       "      <td>0.543554</td>\n",
       "      <td>0.812500</td>\n",
       "      <td>0.651357</td>\n",
       "    </tr>\n",
       "    <tr>\n",
       "      <th>Top25_Label</th>\n",
       "      <td>MultinomialNB()</td>\n",
       "      <td>0.544103</td>\n",
       "      <td>0.547619</td>\n",
       "      <td>0.538462</td>\n",
       "      <td>0.765625</td>\n",
       "      <td>0.632258</td>\n",
       "    </tr>\n",
       "    <tr>\n",
       "      <th>Top25_Label_1day</th>\n",
       "      <td>MultinomialNB()</td>\n",
       "      <td>0.536038</td>\n",
       "      <td>0.539683</td>\n",
       "      <td>0.558824</td>\n",
       "      <td>0.306452</td>\n",
       "      <td>0.395833</td>\n",
       "    </tr>\n",
       "    <tr>\n",
       "      <th>Top11_Label_1day</th>\n",
       "      <td>MultinomialNB()</td>\n",
       "      <td>0.535114</td>\n",
       "      <td>0.539683</td>\n",
       "      <td>0.575000</td>\n",
       "      <td>0.247312</td>\n",
       "      <td>0.345865</td>\n",
       "    </tr>\n",
       "    <tr>\n",
       "      <th>Top10_Label_2day</th>\n",
       "      <td>MultinomialNB()</td>\n",
       "      <td>0.535088</td>\n",
       "      <td>0.568783</td>\n",
       "      <td>0.574074</td>\n",
       "      <td>0.181287</td>\n",
       "      <td>0.275556</td>\n",
       "    </tr>\n",
       "    <tr>\n",
       "      <th>Top11_Label</th>\n",
       "      <td>MultinomialNB()</td>\n",
       "      <td>0.532510</td>\n",
       "      <td>0.537037</td>\n",
       "      <td>0.528620</td>\n",
       "      <td>0.817708</td>\n",
       "      <td>0.642127</td>\n",
       "    </tr>\n",
       "    <tr>\n",
       "      <th>Top7_Label_5day</th>\n",
       "      <td>MultinomialNB()</td>\n",
       "      <td>0.531158</td>\n",
       "      <td>0.555556</td>\n",
       "      <td>0.604651</td>\n",
       "      <td>0.146893</td>\n",
       "      <td>0.236364</td>\n",
       "    </tr>\n",
       "    <tr>\n",
       "      <th>Top13_Label_5day</th>\n",
       "      <td>MultinomialNB()</td>\n",
       "      <td>0.529471</td>\n",
       "      <td>0.555556</td>\n",
       "      <td>0.636364</td>\n",
       "      <td>0.118644</td>\n",
       "      <td>0.200000</td>\n",
       "    </tr>\n",
       "    <tr>\n",
       "      <th>Top6_Label</th>\n",
       "      <td>MultinomialNB()</td>\n",
       "      <td>0.529318</td>\n",
       "      <td>0.534392</td>\n",
       "      <td>0.525806</td>\n",
       "      <td>0.848958</td>\n",
       "      <td>0.649402</td>\n",
       "    </tr>\n",
       "  </tbody>\n",
       "</table>\n",
       "</div>"
      ],
      "text/plain": [
       "                           Method   ROC_AUC  Accuracy  Precision    Recall  \\\n",
       "Top12_Label_1day  MultinomialNB()  0.556704  0.560847   0.611111  0.295699   \n",
       "Top12_Label       MultinomialNB()  0.554099  0.558201   0.543554  0.812500   \n",
       "Top25_Label       MultinomialNB()  0.544103  0.547619   0.538462  0.765625   \n",
       "Top25_Label_1day  MultinomialNB()  0.536038  0.539683   0.558824  0.306452   \n",
       "Top11_Label_1day  MultinomialNB()  0.535114  0.539683   0.575000  0.247312   \n",
       "Top10_Label_2day  MultinomialNB()  0.535088  0.568783   0.574074  0.181287   \n",
       "Top11_Label       MultinomialNB()  0.532510  0.537037   0.528620  0.817708   \n",
       "Top7_Label_5day   MultinomialNB()  0.531158  0.555556   0.604651  0.146893   \n",
       "Top13_Label_5day  MultinomialNB()  0.529471  0.555556   0.636364  0.118644   \n",
       "Top6_Label        MultinomialNB()  0.529318  0.534392   0.525806  0.848958   \n",
       "\n",
       "                        F1  \n",
       "Top12_Label_1day  0.398551  \n",
       "Top12_Label       0.651357  \n",
       "Top25_Label       0.632258  \n",
       "Top25_Label_1day  0.395833  \n",
       "Top11_Label_1day  0.345865  \n",
       "Top10_Label_2day  0.275556  \n",
       "Top11_Label       0.642127  \n",
       "Top7_Label_5day   0.236364  \n",
       "Top13_Label_5day  0.200000  \n",
       "Top6_Label        0.649402  "
      ]
     },
     "execution_count": 10,
     "metadata": {},
     "output_type": "execute_result"
    }
   ],
   "source": [
    "df_sc.sort_values(by=['ROC_AUC','Accuracy'],ascending=False,inplace=True)\n",
    "df_sc.head(10)"
   ]
  },
  {
   "cell_type": "code",
   "execution_count": 11,
   "id": "7b33dd40",
   "metadata": {},
   "outputs": [],
   "source": [
    "def headlines_analyze_two(lbl,sc):\n",
    "    df_h = df[['Date',lbl]].copy()\n",
    "    for i in tqdm(range(1,26)):\n",
    "        col1 = (\"Top{}\".format(i))\n",
    "        for j in range(i+1,26):        \n",
    "            col2 = (\"Top{}\".format(j))\n",
    "            cls = col1+'+'+col2             \n",
    "            df_h['news'] = df[col1]+ df[col2]\n",
    "            train = df_h[df_h['Date']<'20141231']\n",
    "            test = df_h[df_h['Date']>'20141231']\n",
    "            y_train = train[lbl]\n",
    "            y_test = test[lbl]\n",
    "            nb_pipeline.fit(train['news'],y_train)\n",
    "            predictions = nb_pipeline.predict(test['news'])                \n",
    "            Evaluation ('MultinomialNB()',cls+'_'+lbl,y_test, predictions,sc)"
   ]
  },
  {
   "cell_type": "code",
   "execution_count": 12,
   "id": "fedc63b1",
   "metadata": {},
   "outputs": [
    {
     "name": "stderr",
     "output_type": "stream",
     "text": [
      "100%|██████████| 25/25 [00:22<00:00,  1.12it/s]\n",
      "100%|██████████| 25/25 [00:29<00:00,  1.20s/it]\n",
      "100%|██████████| 25/25 [00:22<00:00,  1.11it/s]\n",
      "100%|██████████| 25/25 [00:23<00:00,  1.07it/s]\n",
      "100%|██████████| 25/25 [00:22<00:00,  1.09it/s]\n",
      "100%|██████████| 25/25 [00:22<00:00,  1.09it/s]\n"
     ]
    }
   ],
   "source": [
    "sc_2c={}\n",
    "for i, lbl in enumerate(['Label','Label_1day','Label_2day', 'Label_3day', 'Label_4day', 'Label_5day']):\n",
    "    headlines_analyze_two(lbl,sc_2c)"
   ]
  },
  {
   "cell_type": "code",
   "execution_count": 13,
   "id": "054d1868",
   "metadata": {},
   "outputs": [
    {
     "data": {
      "text/html": [
       "<div>\n",
       "<style scoped>\n",
       "    .dataframe tbody tr th:only-of-type {\n",
       "        vertical-align: middle;\n",
       "    }\n",
       "\n",
       "    .dataframe tbody tr th {\n",
       "        vertical-align: top;\n",
       "    }\n",
       "\n",
       "    .dataframe thead th {\n",
       "        text-align: right;\n",
       "    }\n",
       "</style>\n",
       "<table border=\"1\" class=\"dataframe\">\n",
       "  <thead>\n",
       "    <tr style=\"text-align: right;\">\n",
       "      <th></th>\n",
       "      <th>Method</th>\n",
       "      <th>ROC_AUC</th>\n",
       "      <th>Accuracy</th>\n",
       "      <th>Precision</th>\n",
       "      <th>Recall</th>\n",
       "      <th>F1</th>\n",
       "    </tr>\n",
       "  </thead>\n",
       "  <tbody>\n",
       "    <tr>\n",
       "      <th>Top10+Top25_Label</th>\n",
       "      <td>MultinomialNB()</td>\n",
       "      <td>0.549899</td>\n",
       "      <td>0.555556</td>\n",
       "      <td>0.537037</td>\n",
       "      <td>0.906250</td>\n",
       "      <td>0.674419</td>\n",
       "    </tr>\n",
       "    <tr>\n",
       "      <th>Top10+Top25_Label_1day</th>\n",
       "      <td>MultinomialNB()</td>\n",
       "      <td>0.547211</td>\n",
       "      <td>0.552910</td>\n",
       "      <td>0.660377</td>\n",
       "      <td>0.188172</td>\n",
       "      <td>0.292887</td>\n",
       "    </tr>\n",
       "    <tr>\n",
       "      <th>Top10+Top16_Label</th>\n",
       "      <td>MultinomialNB()</td>\n",
       "      <td>0.542339</td>\n",
       "      <td>0.547619</td>\n",
       "      <td>0.533333</td>\n",
       "      <td>0.875000</td>\n",
       "      <td>0.662722</td>\n",
       "    </tr>\n",
       "    <tr>\n",
       "      <th>Top16+Top18_Label_1day</th>\n",
       "      <td>MultinomialNB()</td>\n",
       "      <td>0.541919</td>\n",
       "      <td>0.547619</td>\n",
       "      <td>0.641509</td>\n",
       "      <td>0.182796</td>\n",
       "      <td>0.284519</td>\n",
       "    </tr>\n",
       "    <tr>\n",
       "      <th>Top10+Top16_Label_1day</th>\n",
       "      <td>MultinomialNB()</td>\n",
       "      <td>0.539651</td>\n",
       "      <td>0.544974</td>\n",
       "      <td>0.612903</td>\n",
       "      <td>0.204301</td>\n",
       "      <td>0.306452</td>\n",
       "    </tr>\n",
       "    <tr>\n",
       "      <th>Top18+Top19_Label</th>\n",
       "      <td>MultinomialNB()</td>\n",
       "      <td>0.539315</td>\n",
       "      <td>0.544974</td>\n",
       "      <td>0.530864</td>\n",
       "      <td>0.895833</td>\n",
       "      <td>0.666667</td>\n",
       "    </tr>\n",
       "    <tr>\n",
       "      <th>Top11+Top20_Label_1day</th>\n",
       "      <td>MultinomialNB()</td>\n",
       "      <td>0.539231</td>\n",
       "      <td>0.544974</td>\n",
       "      <td>0.634615</td>\n",
       "      <td>0.177419</td>\n",
       "      <td>0.277311</td>\n",
       "    </tr>\n",
       "    <tr>\n",
       "      <th>Top11+Top20_Label</th>\n",
       "      <td>MultinomialNB()</td>\n",
       "      <td>0.539231</td>\n",
       "      <td>0.544974</td>\n",
       "      <td>0.530675</td>\n",
       "      <td>0.901042</td>\n",
       "      <td>0.667954</td>\n",
       "    </tr>\n",
       "    <tr>\n",
       "      <th>Top16+Top18_Label</th>\n",
       "      <td>MultinomialNB()</td>\n",
       "      <td>0.539231</td>\n",
       "      <td>0.544974</td>\n",
       "      <td>0.530675</td>\n",
       "      <td>0.901042</td>\n",
       "      <td>0.667954</td>\n",
       "    </tr>\n",
       "    <tr>\n",
       "      <th>Top6+Top9_Label_2day</th>\n",
       "      <td>MultinomialNB()</td>\n",
       "      <td>0.539156</td>\n",
       "      <td>0.579365</td>\n",
       "      <td>0.714286</td>\n",
       "      <td>0.116959</td>\n",
       "      <td>0.201005</td>\n",
       "    </tr>\n",
       "  </tbody>\n",
       "</table>\n",
       "</div>"
      ],
      "text/plain": [
       "                                 Method   ROC_AUC  Accuracy  Precision  \\\n",
       "Top10+Top25_Label       MultinomialNB()  0.549899  0.555556   0.537037   \n",
       "Top10+Top25_Label_1day  MultinomialNB()  0.547211  0.552910   0.660377   \n",
       "Top10+Top16_Label       MultinomialNB()  0.542339  0.547619   0.533333   \n",
       "Top16+Top18_Label_1day  MultinomialNB()  0.541919  0.547619   0.641509   \n",
       "Top10+Top16_Label_1day  MultinomialNB()  0.539651  0.544974   0.612903   \n",
       "Top18+Top19_Label       MultinomialNB()  0.539315  0.544974   0.530864   \n",
       "Top11+Top20_Label_1day  MultinomialNB()  0.539231  0.544974   0.634615   \n",
       "Top11+Top20_Label       MultinomialNB()  0.539231  0.544974   0.530675   \n",
       "Top16+Top18_Label       MultinomialNB()  0.539231  0.544974   0.530675   \n",
       "Top6+Top9_Label_2day    MultinomialNB()  0.539156  0.579365   0.714286   \n",
       "\n",
       "                          Recall        F1  \n",
       "Top10+Top25_Label       0.906250  0.674419  \n",
       "Top10+Top25_Label_1day  0.188172  0.292887  \n",
       "Top10+Top16_Label       0.875000  0.662722  \n",
       "Top16+Top18_Label_1day  0.182796  0.284519  \n",
       "Top10+Top16_Label_1day  0.204301  0.306452  \n",
       "Top18+Top19_Label       0.895833  0.666667  \n",
       "Top11+Top20_Label_1day  0.177419  0.277311  \n",
       "Top11+Top20_Label       0.901042  0.667954  \n",
       "Top16+Top18_Label       0.901042  0.667954  \n",
       "Top6+Top9_Label_2day    0.116959  0.201005  "
      ]
     },
     "execution_count": 13,
     "metadata": {},
     "output_type": "execute_result"
    }
   ],
   "source": [
    "df_sc2 = pd.DataFrame.from_dict(sc_2c, orient='index')\n",
    "df_sc2.sort_values(by=['ROC_AUC','Accuracy'],ascending=False,inplace=True)\n",
    "df_sc2.head(10)"
   ]
  },
  {
   "cell_type": "code",
   "execution_count": 14,
   "id": "249bc5b5",
   "metadata": {},
   "outputs": [],
   "source": [
    "def headlines_analyze_three(lbl,sc):\n",
    "    df_h = df[['Date',lbl]].copy()\n",
    "    for i in tqdm(range(1,26)):\n",
    "        col1 = (\"Top{}\".format(i))\n",
    "        for j in range(i+1,26):        \n",
    "            col2 = (\"Top{}\".format(j))\n",
    "            for k in range(j+1,26):\n",
    "                col3 = (\"Top{}\".format(k))\n",
    "                cls = col1+'+'+col2+'+'+col3\n",
    "                df_h['news'] = df[col1]+ df[col2]+ df[col3]\n",
    "                train = df_h[df_h['Date']<'20141231']\n",
    "                test = df_h[df_h['Date']>'20141231']\n",
    "                y_train = train[lbl]\n",
    "                y_test = test[lbl]\n",
    "                nb_pipeline.fit(train['news'],y_train)\n",
    "                predictions = nb_pipeline.predict(test['news'])                \n",
    "                Evaluation ('MultinomialNB()',cls+'_'+lbl,y_test, predictions,sc)"
   ]
  },
  {
   "cell_type": "code",
   "execution_count": 15,
   "id": "9e6f7230",
   "metadata": {},
   "outputs": [
    {
     "name": "stderr",
     "output_type": "stream",
     "text": [
      "100%|██████████| 25/25 [03:53<00:00,  9.34s/it]\n",
      "100%|██████████| 25/25 [03:58<00:00,  9.54s/it]\n",
      "100%|██████████| 25/25 [03:32<00:00,  8.51s/it]\n",
      "100%|██████████| 25/25 [03:32<00:00,  8.49s/it]\n",
      "100%|██████████| 25/25 [03:47<00:00,  9.10s/it]\n",
      "100%|██████████| 25/25 [03:36<00:00,  8.68s/it]\n"
     ]
    }
   ],
   "source": [
    "sc_3c={}\n",
    "for i, lbl in enumerate(['Label','Label_1day','Label_2day', 'Label_3day', 'Label_4day', 'Label_5day']):\n",
    "    headlines_analyze_three(lbl,sc_3c)"
   ]
  },
  {
   "cell_type": "code",
   "execution_count": 16,
   "id": "300fe5fc",
   "metadata": {},
   "outputs": [
    {
     "data": {
      "text/html": [
       "<div>\n",
       "<style scoped>\n",
       "    .dataframe tbody tr th:only-of-type {\n",
       "        vertical-align: middle;\n",
       "    }\n",
       "\n",
       "    .dataframe tbody tr th {\n",
       "        vertical-align: top;\n",
       "    }\n",
       "\n",
       "    .dataframe thead th {\n",
       "        text-align: right;\n",
       "    }\n",
       "</style>\n",
       "<table border=\"1\" class=\"dataframe\">\n",
       "  <thead>\n",
       "    <tr style=\"text-align: right;\">\n",
       "      <th></th>\n",
       "      <th>Method</th>\n",
       "      <th>ROC_AUC</th>\n",
       "      <th>Accuracy</th>\n",
       "      <th>Precision</th>\n",
       "      <th>Recall</th>\n",
       "      <th>F1</th>\n",
       "    </tr>\n",
       "  </thead>\n",
       "  <tbody>\n",
       "    <tr>\n",
       "      <th>Top2+Top7+Top10_Label_1day</th>\n",
       "      <td>MultinomialNB()</td>\n",
       "      <td>0.549311</td>\n",
       "      <td>0.555556</td>\n",
       "      <td>0.725000</td>\n",
       "      <td>0.155914</td>\n",
       "      <td>0.256637</td>\n",
       "    </tr>\n",
       "    <tr>\n",
       "      <th>Top2+Top13+Top19_Label</th>\n",
       "      <td>MultinomialNB()</td>\n",
       "      <td>0.546791</td>\n",
       "      <td>0.552910</td>\n",
       "      <td>0.534328</td>\n",
       "      <td>0.932292</td>\n",
       "      <td>0.679317</td>\n",
       "    </tr>\n",
       "    <tr>\n",
       "      <th>Top2+Top7+Top10_Label</th>\n",
       "      <td>MultinomialNB()</td>\n",
       "      <td>0.546707</td>\n",
       "      <td>0.552910</td>\n",
       "      <td>0.534125</td>\n",
       "      <td>0.937500</td>\n",
       "      <td>0.680529</td>\n",
       "    </tr>\n",
       "    <tr>\n",
       "      <th>Top10+Top12+Top18_Label</th>\n",
       "      <td>MultinomialNB()</td>\n",
       "      <td>0.545951</td>\n",
       "      <td>0.552910</td>\n",
       "      <td>0.532394</td>\n",
       "      <td>0.984375</td>\n",
       "      <td>0.691042</td>\n",
       "    </tr>\n",
       "    <tr>\n",
       "      <th>Top18+Top19+Top21_Label</th>\n",
       "      <td>MultinomialNB()</td>\n",
       "      <td>0.544187</td>\n",
       "      <td>0.550265</td>\n",
       "      <td>0.532934</td>\n",
       "      <td>0.927083</td>\n",
       "      <td>0.676806</td>\n",
       "    </tr>\n",
       "    <tr>\n",
       "      <th>Top2+Top13+Top19_Label_1day</th>\n",
       "      <td>MultinomialNB()</td>\n",
       "      <td>0.544103</td>\n",
       "      <td>0.550265</td>\n",
       "      <td>0.690476</td>\n",
       "      <td>0.155914</td>\n",
       "      <td>0.254386</td>\n",
       "    </tr>\n",
       "    <tr>\n",
       "      <th>Top7+Top10+Top25_Label</th>\n",
       "      <td>MultinomialNB()</td>\n",
       "      <td>0.544019</td>\n",
       "      <td>0.550265</td>\n",
       "      <td>0.532544</td>\n",
       "      <td>0.937500</td>\n",
       "      <td>0.679245</td>\n",
       "    </tr>\n",
       "    <tr>\n",
       "      <th>Top4+Top10+Top19_Label_1day</th>\n",
       "      <td>MultinomialNB()</td>\n",
       "      <td>0.543935</td>\n",
       "      <td>0.550265</td>\n",
       "      <td>0.710526</td>\n",
       "      <td>0.145161</td>\n",
       "      <td>0.241071</td>\n",
       "    </tr>\n",
       "    <tr>\n",
       "      <th>Top10+Top12+Top18_Label_1day</th>\n",
       "      <td>MultinomialNB()</td>\n",
       "      <td>0.543263</td>\n",
       "      <td>0.550265</td>\n",
       "      <td>0.863636</td>\n",
       "      <td>0.102151</td>\n",
       "      <td>0.182692</td>\n",
       "    </tr>\n",
       "    <tr>\n",
       "      <th>Top18+Top19+Top21_Label_1day</th>\n",
       "      <td>MultinomialNB()</td>\n",
       "      <td>0.541415</td>\n",
       "      <td>0.547619</td>\n",
       "      <td>0.682927</td>\n",
       "      <td>0.150538</td>\n",
       "      <td>0.246696</td>\n",
       "    </tr>\n",
       "  </tbody>\n",
       "</table>\n",
       "</div>"
      ],
      "text/plain": [
       "                                       Method   ROC_AUC  Accuracy  Precision  \\\n",
       "Top2+Top7+Top10_Label_1day    MultinomialNB()  0.549311  0.555556   0.725000   \n",
       "Top2+Top13+Top19_Label        MultinomialNB()  0.546791  0.552910   0.534328   \n",
       "Top2+Top7+Top10_Label         MultinomialNB()  0.546707  0.552910   0.534125   \n",
       "Top10+Top12+Top18_Label       MultinomialNB()  0.545951  0.552910   0.532394   \n",
       "Top18+Top19+Top21_Label       MultinomialNB()  0.544187  0.550265   0.532934   \n",
       "Top2+Top13+Top19_Label_1day   MultinomialNB()  0.544103  0.550265   0.690476   \n",
       "Top7+Top10+Top25_Label        MultinomialNB()  0.544019  0.550265   0.532544   \n",
       "Top4+Top10+Top19_Label_1day   MultinomialNB()  0.543935  0.550265   0.710526   \n",
       "Top10+Top12+Top18_Label_1day  MultinomialNB()  0.543263  0.550265   0.863636   \n",
       "Top18+Top19+Top21_Label_1day  MultinomialNB()  0.541415  0.547619   0.682927   \n",
       "\n",
       "                                Recall        F1  \n",
       "Top2+Top7+Top10_Label_1day    0.155914  0.256637  \n",
       "Top2+Top13+Top19_Label        0.932292  0.679317  \n",
       "Top2+Top7+Top10_Label         0.937500  0.680529  \n",
       "Top10+Top12+Top18_Label       0.984375  0.691042  \n",
       "Top18+Top19+Top21_Label       0.927083  0.676806  \n",
       "Top2+Top13+Top19_Label_1day   0.155914  0.254386  \n",
       "Top7+Top10+Top25_Label        0.937500  0.679245  \n",
       "Top4+Top10+Top19_Label_1day   0.145161  0.241071  \n",
       "Top10+Top12+Top18_Label_1day  0.102151  0.182692  \n",
       "Top18+Top19+Top21_Label_1day  0.150538  0.246696  "
      ]
     },
     "execution_count": 16,
     "metadata": {},
     "output_type": "execute_result"
    }
   ],
   "source": [
    "df_sc3 = pd.DataFrame.from_dict(sc_3c, orient='index')\n",
    "df_sc3.sort_values(by=['ROC_AUC','Accuracy'],ascending=False,inplace=True)\n",
    "df_sc3.head(10)"
   ]
  },
  {
   "cell_type": "code",
   "execution_count": 17,
   "id": "a7b2a873",
   "metadata": {},
   "outputs": [],
   "source": [
    "def analyze_all_news(lbl):\n",
    "    df_h = df[['Date',lbl]].copy()\n",
    "    df_h['news'] = df['news_stemmed']\n",
    "    train = df_h[df_h['Date']<'20141231']\n",
    "    test = df_h[df_h['Date']>'20141231']\n",
    "    y_train = train[lbl]\n",
    "    y_test = test[lbl]\n",
    "    nb_pipeline.fit(train['news'],y_train)\n",
    "    predictions = nb_pipeline.predict(test['news'])                \n",
    "    Evaluation ('XGBClassifier()','news_stemmed'+lbl,y_test, predictions,sc_news)"
   ]
  },
  {
   "cell_type": "code",
   "execution_count": 18,
   "id": "dbef0a2d",
   "metadata": {},
   "outputs": [],
   "source": [
    "sc_news={}\n",
    "for i, lbl in enumerate(['Label','Label_1day','Label_2day', 'Label_3day', 'Label_4day', 'Label_5day']):\n",
    "    analyze_all_news(lbl)"
   ]
  },
  {
   "cell_type": "code",
   "execution_count": 19,
   "id": "5a5fdb13",
   "metadata": {},
   "outputs": [
    {
     "data": {
      "text/html": [
       "<div>\n",
       "<style scoped>\n",
       "    .dataframe tbody tr th:only-of-type {\n",
       "        vertical-align: middle;\n",
       "    }\n",
       "\n",
       "    .dataframe tbody tr th {\n",
       "        vertical-align: top;\n",
       "    }\n",
       "\n",
       "    .dataframe thead th {\n",
       "        text-align: right;\n",
       "    }\n",
       "</style>\n",
       "<table border=\"1\" class=\"dataframe\">\n",
       "  <thead>\n",
       "    <tr style=\"text-align: right;\">\n",
       "      <th></th>\n",
       "      <th>Method</th>\n",
       "      <th>ROC_AUC</th>\n",
       "      <th>Accuracy</th>\n",
       "      <th>Precision</th>\n",
       "      <th>Recall</th>\n",
       "      <th>F1</th>\n",
       "    </tr>\n",
       "  </thead>\n",
       "  <tbody>\n",
       "    <tr>\n",
       "      <th>news_stemmedLabel_2day</th>\n",
       "      <td>XGBClassifier()</td>\n",
       "      <td>0.5</td>\n",
       "      <td>0.547619</td>\n",
       "      <td>0.000000</td>\n",
       "      <td>0.0</td>\n",
       "      <td>0.000000</td>\n",
       "    </tr>\n",
       "    <tr>\n",
       "      <th>news_stemmedLabel_4day</th>\n",
       "      <td>XGBClassifier()</td>\n",
       "      <td>0.5</td>\n",
       "      <td>0.534392</td>\n",
       "      <td>0.000000</td>\n",
       "      <td>0.0</td>\n",
       "      <td>0.000000</td>\n",
       "    </tr>\n",
       "    <tr>\n",
       "      <th>news_stemmedLabel_3day</th>\n",
       "      <td>XGBClassifier()</td>\n",
       "      <td>0.5</td>\n",
       "      <td>0.531746</td>\n",
       "      <td>0.000000</td>\n",
       "      <td>0.0</td>\n",
       "      <td>0.000000</td>\n",
       "    </tr>\n",
       "    <tr>\n",
       "      <th>news_stemmedLabel_5day</th>\n",
       "      <td>XGBClassifier()</td>\n",
       "      <td>0.5</td>\n",
       "      <td>0.531746</td>\n",
       "      <td>0.000000</td>\n",
       "      <td>0.0</td>\n",
       "      <td>0.000000</td>\n",
       "    </tr>\n",
       "    <tr>\n",
       "      <th>news_stemmedLabel</th>\n",
       "      <td>XGBClassifier()</td>\n",
       "      <td>0.5</td>\n",
       "      <td>0.507937</td>\n",
       "      <td>0.507937</td>\n",
       "      <td>1.0</td>\n",
       "      <td>0.673684</td>\n",
       "    </tr>\n",
       "    <tr>\n",
       "      <th>news_stemmedLabel_1day</th>\n",
       "      <td>XGBClassifier()</td>\n",
       "      <td>0.5</td>\n",
       "      <td>0.507937</td>\n",
       "      <td>0.000000</td>\n",
       "      <td>0.0</td>\n",
       "      <td>0.000000</td>\n",
       "    </tr>\n",
       "  </tbody>\n",
       "</table>\n",
       "</div>"
      ],
      "text/plain": [
       "                                 Method  ROC_AUC  Accuracy  Precision  Recall  \\\n",
       "news_stemmedLabel_2day  XGBClassifier()      0.5  0.547619   0.000000     0.0   \n",
       "news_stemmedLabel_4day  XGBClassifier()      0.5  0.534392   0.000000     0.0   \n",
       "news_stemmedLabel_3day  XGBClassifier()      0.5  0.531746   0.000000     0.0   \n",
       "news_stemmedLabel_5day  XGBClassifier()      0.5  0.531746   0.000000     0.0   \n",
       "news_stemmedLabel       XGBClassifier()      0.5  0.507937   0.507937     1.0   \n",
       "news_stemmedLabel_1day  XGBClassifier()      0.5  0.507937   0.000000     0.0   \n",
       "\n",
       "                              F1  \n",
       "news_stemmedLabel_2day  0.000000  \n",
       "news_stemmedLabel_4day  0.000000  \n",
       "news_stemmedLabel_3day  0.000000  \n",
       "news_stemmedLabel_5day  0.000000  \n",
       "news_stemmedLabel       0.673684  \n",
       "news_stemmedLabel_1day  0.000000  "
      ]
     },
     "execution_count": 19,
     "metadata": {},
     "output_type": "execute_result"
    }
   ],
   "source": [
    "df_sc_news = pd.DataFrame.from_dict(sc_news, orient='index')\n",
    "df_sc_news.sort_values(by=['ROC_AUC','Accuracy'],ascending=False,inplace=True)\n",
    "df_sc_news"
   ]
  },
  {
   "cell_type": "markdown",
   "id": "d5faeaa2",
   "metadata": {},
   "source": [
    "# Parameters Tuning"
   ]
  },
  {
   "cell_type": "markdown",
   "id": "2d0acd95",
   "metadata": {},
   "source": [
    "## One Headline"
   ]
  },
  {
   "cell_type": "code",
   "execution_count": 102,
   "id": "03c496cc",
   "metadata": {},
   "outputs": [],
   "source": [
    "from sklearn.naive_bayes import BernoulliNB\n",
    "nb_pipeline = Pipeline([\n",
    "    ('bow', CountVectorizer(analyzer=lambda x: x)),  \n",
    "    ('tfidf', TfidfTransformer()),  # integer counts to weighted TF-IDF scores\n",
    "    ('classifier', BernoulliNB()) # train on TF-IDF vectors w/ Naive Bayes classifier\n",
    "])"
   ]
  },
  {
   "cell_type": "code",
   "execution_count": 112,
   "id": "a885b587",
   "metadata": {},
   "outputs": [],
   "source": [
    "params = {'bow__ngram_range': [(1, 1), (1, 2), (2, 2)],\n",
    "          'bow__max_features': (10000,15000, 20000),\n",
    "          'bow__min_df': (5,10),\n",
    "          'tfidf__use_idf': (True, False),          \n",
    "          'classifier__alpha': (1,0.5,1e-2, 1e-3)}"
   ]
  },
  {
   "cell_type": "code",
   "execution_count": 113,
   "id": "a8e68b2a",
   "metadata": {},
   "outputs": [],
   "source": [
    "df_h = df[['Date','Label_1day','Top25']].copy()   \n",
    "train = df_h[df_h['Date']<'20141231']\n",
    "test = df_h[df_h['Date']>'20141231']\n",
    "y_train = train['Label_1day']\n",
    "y_test = test['Label_1day']"
   ]
  },
  {
   "cell_type": "code",
   "execution_count": 114,
   "id": "5a8413d0",
   "metadata": {},
   "outputs": [],
   "source": [
    "gs = GridSearchCV(estimator=nb_pipeline, param_grid=params, n_jobs=-1, cv=4)\n",
    "gs_results = gs.fit(train['Top25'], y_train)"
   ]
  },
  {
   "cell_type": "code",
   "execution_count": 115,
   "id": "035bd1a2",
   "metadata": {},
   "outputs": [
    {
     "name": "stdout",
     "output_type": "stream",
     "text": [
      "best parameters:\n",
      "{'bow__max_features': 10000, 'bow__min_df': 10, 'bow__ngram_range': (1, 1), 'classifier__alpha': 0.5, 'tfidf__use_idf': True}\n",
      "accuracy: 0.5559022505339308\n"
     ]
    }
   ],
   "source": [
    "print(f\"best parameters:\\n{gs_results.best_params_}\\naccuracy: {gs_results.best_score_}\")"
   ]
  },
  {
   "cell_type": "code",
   "execution_count": 121,
   "id": "1706c019",
   "metadata": {},
   "outputs": [],
   "source": [
    "nb_pipe = Pipeline([\n",
    "    ('bow', CountVectorizer(min_df=10, max_features=10000, ngram_range=(1, 1), analyzer=lambda x: x )),  \n",
    "    ('tfidf', TfidfTransformer(use_idf=True)),  \n",
    "    ('classifier', BernoulliNB(alpha=0.5 )) ])"
   ]
  },
  {
   "cell_type": "code",
   "execution_count": 122,
   "id": "6e2d7b43",
   "metadata": {},
   "outputs": [
    {
     "name": "stdout",
     "output_type": "stream",
     "text": [
      "              precision    recall  f1-score   support\n",
      "\n",
      "           0       0.54      0.62      0.58       192\n",
      "           1       0.54      0.45      0.49       186\n",
      "\n",
      "    accuracy                           0.54       378\n",
      "   macro avg       0.54      0.54      0.54       378\n",
      "weighted avg       0.54      0.54      0.54       378\n",
      "\n",
      "Accuracy: 0.5396825396825397\n"
     ]
    }
   ],
   "source": [
    "nb_pipe.fit(train['Top25'],y_train)\n",
    "prediction = nb_pipe.predict(test['Top25'])\n",
    "\n",
    "print(classification_report(y_test, prediction))\n",
    "matrix=confusion_matrix(y_test,prediction)\n",
    "score=accuracy_score(y_test,prediction)\n",
    "print(\"Accuracy:\",score)"
   ]
  },
  {
   "cell_type": "code",
   "execution_count": 118,
   "id": "b1d6fa58",
   "metadata": {},
   "outputs": [
    {
     "data": {
      "text/plain": [
       "Text(0.5, 15.0, 'Predicted')"
      ]
     },
     "execution_count": 118,
     "metadata": {},
     "output_type": "execute_result"
    },
    {
     "data": {
      "image/png": "[encoded data removed]",
      "text/plain": [
       "<Figure size 432x288 with 2 Axes>"
      ]
     },
     "metadata": {
      "needs_background": "light"
     },
     "output_type": "display_data"
    }
   ],
   "source": [
    "group_names = ['TN','FP','FN','TP']\n",
    "group_counts = [\"{0:0.0f}\".format(value) for value in\n",
    "            matrix.flatten()]\n",
    "group_percentages = [\"{0:.2%}\".format(value) for value in\n",
    "                 matrix.flatten()/np.sum(matrix)]\n",
    "labels = [f\"{v1}\\n{v2}\\n{v3}\" for v1, v2, v3 in\n",
    "      zip(group_names,group_counts,group_percentages)]\n",
    "\n",
    "labels = np.asarray(labels).reshape(2,2)\n",
    "plt.title('Naive Bayes - Confusion Matrix')\n",
    "\n",
    "sns.heatmap(matrix, annot=labels, fmt=\"\", cmap='Reds')\n",
    "plt.ylabel('True Label', fontsize=12)\n",
    "plt.xlabel('Predicted',fontsize=12)"
   ]
  },
  {
   "cell_type": "markdown",
   "id": "d73d6481",
   "metadata": {},
   "source": [
    "## Two Headlines"
   ]
  },
  {
   "cell_type": "code",
   "execution_count": 166,
   "id": "019922ae",
   "metadata": {},
   "outputs": [],
   "source": [
    "nb_pipeline = Pipeline([\n",
    "    ('bow', CountVectorizer(analyzer=lambda x: x)),  \n",
    "    ('tfidf', TfidfTransformer()),  # integer counts to weighted TF-IDF scores\n",
    "    ('classifier', MultinomialNB()) # train on TF-IDF vectors w/ Naive Bayes classifier\n",
    "])"
   ]
  },
  {
   "cell_type": "code",
   "execution_count": 167,
   "id": "53f6763d",
   "metadata": {},
   "outputs": [],
   "source": [
    "params = {'bow__ngram_range': [(1, 1), (1, 2), (2, 2)],\n",
    "          'bow__max_features': (1,4,5,8),\n",
    "          'bow__min_df': (1,2,4,5)\n",
    "         }"
   ]
  },
  {
   "cell_type": "code",
   "execution_count": 168,
   "id": "f8155bf5",
   "metadata": {},
   "outputs": [],
   "source": [
    "df_h = df[['Date','Label','Top10','Top25']].copy()   \n",
    "df_h['news'] = df_h['Top10']+df_h['Top25']\n",
    "train = df_h[df_h['Date']<'20141231']\n",
    "test = df_h[df_h['Date']>'20141231']\n",
    "y_train = train['Label']\n",
    "y_test = test['Label']"
   ]
  },
  {
   "cell_type": "code",
   "execution_count": 169,
   "id": "196ef213",
   "metadata": {},
   "outputs": [],
   "source": [
    "gs = GridSearchCV(estimator=nb_pipeline, param_grid=params, n_jobs=-1, cv=4)\n",
    "gs_results = gs.fit(train['news'], y_train)"
   ]
  },
  {
   "cell_type": "code",
   "execution_count": 170,
   "id": "fdf65a34",
   "metadata": {},
   "outputs": [
    {
     "name": "stdout",
     "output_type": "stream",
     "text": [
      "best parameters:\n",
      "{'bow__max_features': 1, 'bow__min_df': 1, 'bow__ngram_range': (1, 1)}\n",
      "accuracy: 0.5422360900213572\n"
     ]
    }
   ],
   "source": [
    "print(f\"best parameters:\\n{gs_results.best_params_}\\naccuracy: {gs_results.best_score_}\")"
   ]
  },
  {
   "cell_type": "code",
   "execution_count": 179,
   "id": "c22326b2",
   "metadata": {},
   "outputs": [],
   "source": [
    "nb_pipe = Pipeline([\n",
    "    ('bow', CountVectorizer(analyzer=lambda x: x )),  \n",
    "    ('tfidf', TfidfTransformer()),  \n",
    "    ('classifier', MultinomialNB( )) ])"
   ]
  },
  {
   "cell_type": "code",
   "execution_count": 180,
   "id": "0edee69a",
   "metadata": {},
   "outputs": [
    {
     "name": "stdout",
     "output_type": "stream",
     "text": [
      "              precision    recall  f1-score   support\n",
      "\n",
      "           0       0.70      0.20      0.31       186\n",
      "           1       0.54      0.92      0.68       192\n",
      "\n",
      "    accuracy                           0.56       378\n",
      "   macro avg       0.62      0.56      0.50       378\n",
      "weighted avg       0.62      0.56      0.50       378\n",
      "\n",
      "Accuracy: 0.5634920634920635\n"
     ]
    }
   ],
   "source": [
    "nb_pipe.fit(train['news'],y_train)\n",
    "prediction = nb_pipe.predict(test['news'])\n",
    "\n",
    "print(classification_report(y_test, prediction))\n",
    "matrix=confusion_matrix(y_test,prediction)\n",
    "score=accuracy_score(y_test,prediction)\n",
    "print(\"Accuracy:\",score)"
   ]
  },
  {
   "cell_type": "code",
   "execution_count": 181,
   "id": "f2da783e",
   "metadata": {},
   "outputs": [
    {
     "data": {
      "text/plain": [
       "Text(0.5, 15.0, 'Predicted')"
      ]
     },
     "execution_count": 181,
     "metadata": {},
     "output_type": "execute_result"
    },
    {
     "data": {
      "image/png": "[encoded data removed]",
      "text/plain": [
       "<Figure size 432x288 with 2 Axes>"
      ]
     },
     "metadata": {
      "needs_background": "light"
     },
     "output_type": "display_data"
    }
   ],
   "source": [
    "group_names = ['TN','FP','FN','TP']\n",
    "group_counts = [\"{0:0.0f}\".format(value) for value in\n",
    "            matrix.flatten()]\n",
    "group_percentages = [\"{0:.2%}\".format(value) for value in\n",
    "                 matrix.flatten()/np.sum(matrix)]\n",
    "labels = [f\"{v1}\\n{v2}\\n{v3}\" for v1, v2, v3 in\n",
    "      zip(group_names,group_counts,group_percentages)]\n",
    "\n",
    "labels = np.asarray(labels).reshape(2,2)\n",
    "plt.title('Naive Bayes - Confusion Matrix')\n",
    "\n",
    "sns.heatmap(matrix, annot=labels, fmt=\"\", cmap='Reds')\n",
    "plt.ylabel('True Label', fontsize=12)\n",
    "plt.xlabel('Predicted',fontsize=12)"
   ]
  },
  {
   "cell_type": "markdown",
   "id": "b52a1ef0",
   "metadata": {},
   "source": [
    "## Three Headlines "
   ]
  },
  {
   "cell_type": "code",
   "execution_count": 182,
   "id": "4bad30d4",
   "metadata": {},
   "outputs": [],
   "source": [
    "nb_pipeline = Pipeline([\n",
    "    ('bow', CountVectorizer(analyzer=lambda x: x)),  \n",
    "    ('tfidf', TfidfTransformer()),  # integer counts to weighted TF-IDF scores\n",
    "    ('classifier', MultinomialNB()) # train on TF-IDF vectors w/ Naive Bayes classifier\n",
    "])"
   ]
  },
  {
   "cell_type": "code",
   "execution_count": 183,
   "id": "5733a3f2",
   "metadata": {},
   "outputs": [],
   "source": [
    "params = {'bow__ngram_range': [(1, 1), (1, 2), (2, 2)],\n",
    "          'bow__max_features': (1,4,5,8),\n",
    "          'bow__min_df': (1,2,4,5)\n",
    "         }"
   ]
  },
  {
   "cell_type": "code",
   "execution_count": 184,
   "id": "ab4ce49b",
   "metadata": {},
   "outputs": [],
   "source": [
    "df_h = df[['Date','Label','Top10','Top16','Top25']].copy()   \n",
    "df_h['news'] = df_h['Top10']+df_h['Top16']+df_h['Top25']\n",
    "train = df_h[df_h['Date']<'20141231']\n",
    "test = df_h[df_h['Date']>'20141231']\n",
    "y_train = train['Label']\n",
    "y_test = test['Label']"
   ]
  },
  {
   "cell_type": "code",
   "execution_count": 185,
   "id": "2be8a861",
   "metadata": {},
   "outputs": [],
   "source": [
    "gs = GridSearchCV(estimator=nb_pipeline, param_grid=params, n_jobs=-1, cv=4)\n",
    "gs_results = gs.fit(train['news'], y_train)"
   ]
  },
  {
   "cell_type": "code",
   "execution_count": 186,
   "id": "a5fb1b7f",
   "metadata": {},
   "outputs": [
    {
     "name": "stdout",
     "output_type": "stream",
     "text": [
      "best parameters:\n",
      "{'bow__max_features': 1, 'bow__min_df': 1, 'bow__ngram_range': (1, 1)}\n",
      "accuracy: 0.5422360900213572\n"
     ]
    }
   ],
   "source": [
    "print(f\"best parameters:\\n{gs_results.best_params_}\\naccuracy: {gs_results.best_score_}\")"
   ]
  },
  {
   "cell_type": "code",
   "execution_count": 194,
   "id": "8cb2e774",
   "metadata": {},
   "outputs": [],
   "source": [
    "nb_pipe = Pipeline([\n",
    "    ('bow', CountVectorizer(min_df=1, ngram_range=(1, 1),analyzer=lambda x: x )),  \n",
    "    ('tfidf', TfidfTransformer()),  \n",
    "    ('classifier', MultinomialNB( )) ])"
   ]
  },
  {
   "cell_type": "code",
   "execution_count": 195,
   "id": "78b3fc6c",
   "metadata": {},
   "outputs": [
    {
     "name": "stdout",
     "output_type": "stream",
     "text": [
      "              precision    recall  f1-score   support\n",
      "\n",
      "           0       0.76      0.14      0.24       186\n",
      "           1       0.53      0.96      0.69       192\n",
      "\n",
      "    accuracy                           0.56       378\n",
      "   macro avg       0.65      0.55      0.46       378\n",
      "weighted avg       0.65      0.56      0.47       378\n",
      "\n",
      "Accuracy: 0.5555555555555556\n"
     ]
    }
   ],
   "source": [
    "nb_pipe.fit(train['news'],y_train)\n",
    "prediction = nb_pipe.predict(test['news'])\n",
    "\n",
    "print(classification_report(y_test, prediction))\n",
    "matrix=confusion_matrix(y_test,prediction)\n",
    "score=accuracy_score(y_test,prediction)\n",
    "print(\"Accuracy:\",score)"
   ]
  },
  {
   "cell_type": "code",
   "execution_count": 196,
   "id": "559bfaa9",
   "metadata": {},
   "outputs": [
    {
     "data": {
      "text/plain": [
       "Text(0.5, 15.0, 'Predicted')"
      ]
     },
     "execution_count": 196,
     "metadata": {},
     "output_type": "execute_result"
    },
    {
     "data": {
      "image/png": "[encoded data removed]",
      "text/plain": [
       "<Figure size 432x288 with 2 Axes>"
      ]
     },
     "metadata": {
      "needs_background": "light"
     },
     "output_type": "display_data"
    }
   ],
   "source": [
    "group_names = ['TN','FP','FN','TP']\n",
    "group_counts = [\"{0:0.0f}\".format(value) for value in\n",
    "            matrix.flatten()]\n",
    "group_percentages = [\"{0:.2%}\".format(value) for value in\n",
    "                 matrix.flatten()/np.sum(matrix)]\n",
    "labels = [f\"{v1}\\n{v2}\\n{v3}\" for v1, v2, v3 in\n",
    "      zip(group_names,group_counts,group_percentages)]\n",
    "\n",
    "labels = np.asarray(labels).reshape(2,2)\n",
    "plt.title('Naive Bayes - Confusion Matrix')\n",
    "\n",
    "sns.heatmap(matrix, annot=labels, fmt=\"\", cmap='Reds')\n",
    "plt.ylabel('True Label', fontsize=12)\n",
    "plt.xlabel('Predicted',fontsize=12)"
   ]
  },
  {
   "cell_type": "code",
   "execution_count": null,
   "id": "ac22895f",
   "metadata": {},
   "outputs": [],
   "source": []
  }
 ],
 "metadata": {
  "kernelspec": {
   "display_name": "Python 3 (ipykernel)",
   "language": "python",
   "name": "python3"
  },
  "language_info": {
   "codemirror_mode": {
    "name": "ipython",
    "version": 3
   },
   "file_extension": ".py",
   "mimetype": "text/x-python",
   "name": "python",
   "nbconvert_exporter": "python",
   "pygments_lexer": "ipython3",
   "version": "3.8.13"
  }
 },
 "nbformat": 4,
 "nbformat_minor": 5
}
