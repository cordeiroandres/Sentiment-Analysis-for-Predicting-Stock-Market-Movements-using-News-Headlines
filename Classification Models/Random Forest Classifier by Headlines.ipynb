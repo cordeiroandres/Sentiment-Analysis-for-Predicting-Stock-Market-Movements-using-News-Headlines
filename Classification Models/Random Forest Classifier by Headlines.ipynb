{
 "cells": [
  {
   "cell_type": "code",
   "execution_count": 1,
   "id": "500a1330",
   "metadata": {},
   "outputs": [],
   "source": [
    "import warnings\n",
    "warnings.filterwarnings(\"ignore\")\n",
    "\n",
    "import pandas as pd\n",
    "import numpy as np\n",
    "import seaborn as sns\n",
    "import matplotlib.pyplot as plt\n",
    "from ast import literal_eval\n",
    "from sklearn.ensemble import RandomForestClassifier\n",
    "\n",
    "from sklearn.feature_extraction.text import CountVectorizer,TfidfVectorizer,TfidfTransformer\n",
    "from sklearn.metrics import classification_report,confusion_matrix,roc_curve, auc\n",
    "from sklearn.metrics import roc_auc_score,precision_score, recall_score, f1_score,accuracy_score\n",
    "from sklearn.model_selection import GridSearchCV\n",
    "from sklearn.pipeline import Pipeline\n",
    "from tqdm import tqdm"
   ]
  },
  {
   "cell_type": "code",
   "execution_count": 2,
   "id": "3dae4936",
   "metadata": {},
   "outputs": [],
   "source": [
    "df  = pd.read_csv('dataset/pre_process_all_news_days.csv', encoding = \"ISO-8859-1\", parse_dates=[\"Date\"])"
   ]
  },
  {
   "cell_type": "code",
   "execution_count": 3,
   "id": "90f9e483",
   "metadata": {},
   "outputs": [],
   "source": [
    "#Get the name of the headline columns\n",
    "cols = []\n",
    "for i in range(1,26):\n",
    "    col = (\"Top{}\".format(i))\n",
    "    cols.append(col)"
   ]
  },
  {
   "cell_type": "code",
   "execution_count": 4,
   "id": "abdfd91e",
   "metadata": {},
   "outputs": [
    {
     "name": "stderr",
     "output_type": "stream",
     "text": [
      "100%|██████████| 25/25 [00:02<00:00,  9.42it/s]\n"
     ]
    }
   ],
   "source": [
    "for col in tqdm(cols):\n",
    "    df[col] = df[col].apply(lambda x: literal_eval(x))"
   ]
  },
  {
   "cell_type": "code",
   "execution_count": 5,
   "id": "c2465dbb",
   "metadata": {},
   "outputs": [],
   "source": [
    "def Evaluation (Method,Comment,Actual, Predicted,Scores):\n",
    "    ROC_AUC=roc_auc_score(Actual,Predicted)    \n",
    "    Precision=precision_score(Actual,Predicted)\n",
    "    Accuracy=accuracy_score(Actual,Predicted)\n",
    "    Recall=recall_score(Actual,Predicted)\n",
    "    F1=f1_score(Actual,Predicted)    \n",
    "    Scores[Comment] = {'Method':Method,'ROC_AUC':ROC_AUC,'Accuracy':Accuracy,\n",
    "                       'Precision':Precision,'Recall':Recall,'F1':F1}     \n",
    "    "
   ]
  },
  {
   "cell_type": "code",
   "execution_count": 6,
   "id": "d2c6bb57",
   "metadata": {},
   "outputs": [],
   "source": [
    "#Creating a Data Pipeline for Naive Bayes classifier classifier - baseline\n",
    "rf_pipeline = Pipeline([\n",
    "    ('bow', CountVectorizer(analyzer=lambda x: x)),  \n",
    "    ('tfidf', TfidfTransformer()),  # integer counts to weighted TF-IDF scores\n",
    "    ('classifier', RandomForestClassifier()) # train on TF-IDF vectors w/ Naive Bayes classifier\n",
    "])"
   ]
  },
  {
   "cell_type": "code",
   "execution_count": 7,
   "id": "c6c91912",
   "metadata": {},
   "outputs": [],
   "source": [
    "def headlines_analyze(lbl,sc):\n",
    "    df_h = df[['Date',lbl]].copy()\n",
    "    for cl in cols:    \n",
    "        df_h['news'] = df[cl]\n",
    "        train = df_h[df_h['Date']<'20141231']\n",
    "        test = df_h[df_h['Date']>'20141231']\n",
    "        y_train = train[lbl]\n",
    "        y_test = test[lbl]\n",
    "\n",
    "        rf_pipeline.fit(train['news'],y_train)\n",
    "        predictions = rf_pipeline.predict(test['news'])    \n",
    "        Evaluation ('RandomForestClassifier()',cl+'_'+lbl,y_test, predictions,sc)"
   ]
  },
  {
   "cell_type": "code",
   "execution_count": 8,
   "id": "a2b283bc",
   "metadata": {},
   "outputs": [],
   "source": [
    "sc={}\n",
    "for i, lbl in enumerate(['Label','Label_1day','Label_2day', 'Label_3day', 'Label_4day', 'Label_5day']):\n",
    "    headlines_analyze(lbl,sc)"
   ]
  },
  {
   "cell_type": "code",
   "execution_count": 9,
   "id": "f9c906fe",
   "metadata": {},
   "outputs": [
    {
     "data": {
      "text/html": [
       "<div>\n",
       "<style scoped>\n",
       "    .dataframe tbody tr th:only-of-type {\n",
       "        vertical-align: middle;\n",
       "    }\n",
       "\n",
       "    .dataframe tbody tr th {\n",
       "        vertical-align: top;\n",
       "    }\n",
       "\n",
       "    .dataframe thead th {\n",
       "        text-align: right;\n",
       "    }\n",
       "</style>\n",
       "<table border=\"1\" class=\"dataframe\">\n",
       "  <thead>\n",
       "    <tr style=\"text-align: right;\">\n",
       "      <th></th>\n",
       "      <th>Method</th>\n",
       "      <th>ROC_AUC</th>\n",
       "      <th>Accuracy</th>\n",
       "      <th>Precision</th>\n",
       "      <th>Recall</th>\n",
       "      <th>F1</th>\n",
       "    </tr>\n",
       "  </thead>\n",
       "  <tbody>\n",
       "    <tr>\n",
       "      <th>Top25_Label</th>\n",
       "      <td>RandomForestClassifier()</td>\n",
       "      <td>0.578377</td>\n",
       "      <td>0.582011</td>\n",
       "      <td>0.561594</td>\n",
       "      <td>0.807292</td>\n",
       "      <td>0.662393</td>\n",
       "    </tr>\n",
       "    <tr>\n",
       "      <th>Top25_Label_1day</th>\n",
       "      <td>RandomForestClassifier()</td>\n",
       "      <td>0.567456</td>\n",
       "      <td>0.571429</td>\n",
       "      <td>0.627660</td>\n",
       "      <td>0.317204</td>\n",
       "      <td>0.421429</td>\n",
       "    </tr>\n",
       "    <tr>\n",
       "      <th>Top16_Label_3day</th>\n",
       "      <td>RandomForestClassifier()</td>\n",
       "      <td>0.559617</td>\n",
       "      <td>0.579365</td>\n",
       "      <td>0.628571</td>\n",
       "      <td>0.248588</td>\n",
       "      <td>0.356275</td>\n",
       "    </tr>\n",
       "    <tr>\n",
       "      <th>Top13_Label_5day</th>\n",
       "      <td>RandomForestClassifier()</td>\n",
       "      <td>0.558605</td>\n",
       "      <td>0.579365</td>\n",
       "      <td>0.640625</td>\n",
       "      <td>0.231638</td>\n",
       "      <td>0.340249</td>\n",
       "    </tr>\n",
       "    <tr>\n",
       "      <th>Top12_Label</th>\n",
       "      <td>RandomForestClassifier()</td>\n",
       "      <td>0.546623</td>\n",
       "      <td>0.550265</td>\n",
       "      <td>0.539855</td>\n",
       "      <td>0.776042</td>\n",
       "      <td>0.636752</td>\n",
       "    </tr>\n",
       "    <tr>\n",
       "      <th>Top24_Label</th>\n",
       "      <td>RandomForestClassifier()</td>\n",
       "      <td>0.545363</td>\n",
       "      <td>0.547619</td>\n",
       "      <td>0.543210</td>\n",
       "      <td>0.687500</td>\n",
       "      <td>0.606897</td>\n",
       "    </tr>\n",
       "    <tr>\n",
       "      <th>Top1_Label_3day</th>\n",
       "      <td>RandomForestClassifier()</td>\n",
       "      <td>0.543005</td>\n",
       "      <td>0.563492</td>\n",
       "      <td>0.590909</td>\n",
       "      <td>0.220339</td>\n",
       "      <td>0.320988</td>\n",
       "    </tr>\n",
       "    <tr>\n",
       "      <th>Top18_Label_4day</th>\n",
       "      <td>RandomForestClassifier()</td>\n",
       "      <td>0.538732</td>\n",
       "      <td>0.558201</td>\n",
       "      <td>0.555556</td>\n",
       "      <td>0.255682</td>\n",
       "      <td>0.350195</td>\n",
       "    </tr>\n",
       "    <tr>\n",
       "      <th>Top16_Label_4day</th>\n",
       "      <td>RandomForestClassifier()</td>\n",
       "      <td>0.538001</td>\n",
       "      <td>0.558201</td>\n",
       "      <td>0.558442</td>\n",
       "      <td>0.244318</td>\n",
       "      <td>0.339921</td>\n",
       "    </tr>\n",
       "    <tr>\n",
       "      <th>Top7_Label</th>\n",
       "      <td>RandomForestClassifier()</td>\n",
       "      <td>0.536710</td>\n",
       "      <td>0.539683</td>\n",
       "      <td>0.534615</td>\n",
       "      <td>0.723958</td>\n",
       "      <td>0.615044</td>\n",
       "    </tr>\n",
       "  </tbody>\n",
       "</table>\n",
       "</div>"
      ],
      "text/plain": [
       "                                    Method   ROC_AUC  Accuracy  Precision  \\\n",
       "Top25_Label       RandomForestClassifier()  0.578377  0.582011   0.561594   \n",
       "Top25_Label_1day  RandomForestClassifier()  0.567456  0.571429   0.627660   \n",
       "Top16_Label_3day  RandomForestClassifier()  0.559617  0.579365   0.628571   \n",
       "Top13_Label_5day  RandomForestClassifier()  0.558605  0.579365   0.640625   \n",
       "Top12_Label       RandomForestClassifier()  0.546623  0.550265   0.539855   \n",
       "Top24_Label       RandomForestClassifier()  0.545363  0.547619   0.543210   \n",
       "Top1_Label_3day   RandomForestClassifier()  0.543005  0.563492   0.590909   \n",
       "Top18_Label_4day  RandomForestClassifier()  0.538732  0.558201   0.555556   \n",
       "Top16_Label_4day  RandomForestClassifier()  0.538001  0.558201   0.558442   \n",
       "Top7_Label        RandomForestClassifier()  0.536710  0.539683   0.534615   \n",
       "\n",
       "                    Recall        F1  \n",
       "Top25_Label       0.807292  0.662393  \n",
       "Top25_Label_1day  0.317204  0.421429  \n",
       "Top16_Label_3day  0.248588  0.356275  \n",
       "Top13_Label_5day  0.231638  0.340249  \n",
       "Top12_Label       0.776042  0.636752  \n",
       "Top24_Label       0.687500  0.606897  \n",
       "Top1_Label_3day   0.220339  0.320988  \n",
       "Top18_Label_4day  0.255682  0.350195  \n",
       "Top16_Label_4day  0.244318  0.339921  \n",
       "Top7_Label        0.723958  0.615044  "
      ]
     },
     "execution_count": 9,
     "metadata": {},
     "output_type": "execute_result"
    }
   ],
   "source": [
    "df_sc = pd.DataFrame.from_dict(sc, orient='index')\n",
    "df_sc.sort_values(by=['ROC_AUC','Accuracy'],ascending=False,inplace=True)\n",
    "df_sc.head(10)"
   ]
  },
  {
   "cell_type": "code",
   "execution_count": 12,
   "id": "7b33dd40",
   "metadata": {},
   "outputs": [],
   "source": [
    "def headlines_analyze_two(lbl,sc):\n",
    "    df_h = df[['Date',lbl]].copy()\n",
    "    for i in tqdm(range(1,26)):\n",
    "        col1 = (\"Top{}\".format(i))\n",
    "        for j in range(i+1,26):        \n",
    "            col2 = (\"Top{}\".format(j))\n",
    "            cls = col1+'+'+col2             \n",
    "            df_h['news'] = df[col1]+ df[col2]\n",
    "            train = df_h[df_h['Date']<'20141231']\n",
    "            test = df_h[df_h['Date']>'20141231']\n",
    "            y_train = train[lbl]\n",
    "            y_test = test[lbl]\n",
    "            rf_pipeline.fit(train['news'],y_train)\n",
    "            predictions = rf_pipeline.predict(test['news'])                \n",
    "            Evaluation ('RandomForestClassifier()',cls+'_'+lbl,y_test, predictions,sc)"
   ]
  },
  {
   "cell_type": "code",
   "execution_count": 13,
   "id": "fedc63b1",
   "metadata": {},
   "outputs": [
    {
     "name": "stderr",
     "output_type": "stream",
     "text": [
      "100%|██████████| 25/25 [19:44<00:00, 47.36s/it]\n",
      "100%|██████████| 25/25 [27:48<00:00, 66.74s/it] \n",
      "100%|██████████| 25/25 [25:59<00:00, 62.39s/it]\n",
      "100%|██████████| 25/25 [23:14<00:00, 55.79s/it]\n",
      "100%|██████████| 25/25 [20:17<00:00, 48.68s/it]\n",
      "100%|██████████| 25/25 [25:05<00:00, 60.20s/it]\n"
     ]
    }
   ],
   "source": [
    "sc_2c={}\n",
    "for i, lbl in enumerate(['Label','Label_1day','Label_2day', 'Label_3day', 'Label_4day', 'Label_5day']):\n",
    "    headlines_analyze_two(lbl,sc_2c)"
   ]
  },
  {
   "cell_type": "code",
   "execution_count": 14,
   "id": "054d1868",
   "metadata": {},
   "outputs": [
    {
     "data": {
      "text/html": [
       "<div>\n",
       "<style scoped>\n",
       "    .dataframe tbody tr th:only-of-type {\n",
       "        vertical-align: middle;\n",
       "    }\n",
       "\n",
       "    .dataframe tbody tr th {\n",
       "        vertical-align: top;\n",
       "    }\n",
       "\n",
       "    .dataframe thead th {\n",
       "        text-align: right;\n",
       "    }\n",
       "</style>\n",
       "<table border=\"1\" class=\"dataframe\">\n",
       "  <thead>\n",
       "    <tr style=\"text-align: right;\">\n",
       "      <th></th>\n",
       "      <th>Method</th>\n",
       "      <th>ROC_AUC</th>\n",
       "      <th>Accuracy</th>\n",
       "      <th>Precision</th>\n",
       "      <th>Recall</th>\n",
       "      <th>F1</th>\n",
       "    </tr>\n",
       "  </thead>\n",
       "  <tbody>\n",
       "    <tr>\n",
       "      <th>Top20+Top25_Label_1day</th>\n",
       "      <td>RandomForestClassifier()</td>\n",
       "      <td>0.572917</td>\n",
       "      <td>0.576720</td>\n",
       "      <td>0.632653</td>\n",
       "      <td>0.333333</td>\n",
       "      <td>0.436620</td>\n",
       "    </tr>\n",
       "    <tr>\n",
       "      <th>Top1+Top18_Label</th>\n",
       "      <td>RandomForestClassifier()</td>\n",
       "      <td>0.570481</td>\n",
       "      <td>0.574074</td>\n",
       "      <td>0.556364</td>\n",
       "      <td>0.796875</td>\n",
       "      <td>0.655246</td>\n",
       "    </tr>\n",
       "    <tr>\n",
       "      <th>Top10+Top16_Label_1day</th>\n",
       "      <td>RandomForestClassifier()</td>\n",
       "      <td>0.564768</td>\n",
       "      <td>0.568783</td>\n",
       "      <td>0.623656</td>\n",
       "      <td>0.311828</td>\n",
       "      <td>0.415771</td>\n",
       "    </tr>\n",
       "    <tr>\n",
       "      <th>Top2+Top6_Label_2day</th>\n",
       "      <td>RandomForestClassifier()</td>\n",
       "      <td>0.563056</td>\n",
       "      <td>0.589947</td>\n",
       "      <td>0.600000</td>\n",
       "      <td>0.280702</td>\n",
       "      <td>0.382470</td>\n",
       "    </tr>\n",
       "    <tr>\n",
       "      <th>Top11+Top13_Label</th>\n",
       "      <td>RandomForestClassifier()</td>\n",
       "      <td>0.562836</td>\n",
       "      <td>0.566138</td>\n",
       "      <td>0.552239</td>\n",
       "      <td>0.770833</td>\n",
       "      <td>0.643478</td>\n",
       "    </tr>\n",
       "    <tr>\n",
       "      <th>Top23+Top24_Label_4day</th>\n",
       "      <td>RandomForestClassifier()</td>\n",
       "      <td>0.561825</td>\n",
       "      <td>0.579365</td>\n",
       "      <td>0.593407</td>\n",
       "      <td>0.306818</td>\n",
       "      <td>0.404494</td>\n",
       "    </tr>\n",
       "    <tr>\n",
       "      <th>Top16+Top20_Label</th>\n",
       "      <td>RandomForestClassifier()</td>\n",
       "      <td>0.560064</td>\n",
       "      <td>0.563492</td>\n",
       "      <td>0.549815</td>\n",
       "      <td>0.776042</td>\n",
       "      <td>0.643629</td>\n",
       "    </tr>\n",
       "    <tr>\n",
       "      <th>Top9+Top20_Label</th>\n",
       "      <td>RandomForestClassifier()</td>\n",
       "      <td>0.558048</td>\n",
       "      <td>0.560847</td>\n",
       "      <td>0.550781</td>\n",
       "      <td>0.734375</td>\n",
       "      <td>0.629464</td>\n",
       "    </tr>\n",
       "    <tr>\n",
       "      <th>Top4+Top15_Label_3day</th>\n",
       "      <td>RandomForestClassifier()</td>\n",
       "      <td>0.557340</td>\n",
       "      <td>0.574074</td>\n",
       "      <td>0.590909</td>\n",
       "      <td>0.293785</td>\n",
       "      <td>0.392453</td>\n",
       "    </tr>\n",
       "    <tr>\n",
       "      <th>Top6+Top24_Label_1day</th>\n",
       "      <td>RandomForestClassifier()</td>\n",
       "      <td>0.557292</td>\n",
       "      <td>0.560847</td>\n",
       "      <td>0.596154</td>\n",
       "      <td>0.333333</td>\n",
       "      <td>0.427586</td>\n",
       "    </tr>\n",
       "  </tbody>\n",
       "</table>\n",
       "</div>"
      ],
      "text/plain": [
       "                                          Method   ROC_AUC  Accuracy  \\\n",
       "Top20+Top25_Label_1day  RandomForestClassifier()  0.572917  0.576720   \n",
       "Top1+Top18_Label        RandomForestClassifier()  0.570481  0.574074   \n",
       "Top10+Top16_Label_1day  RandomForestClassifier()  0.564768  0.568783   \n",
       "Top2+Top6_Label_2day    RandomForestClassifier()  0.563056  0.589947   \n",
       "Top11+Top13_Label       RandomForestClassifier()  0.562836  0.566138   \n",
       "Top23+Top24_Label_4day  RandomForestClassifier()  0.561825  0.579365   \n",
       "Top16+Top20_Label       RandomForestClassifier()  0.560064  0.563492   \n",
       "Top9+Top20_Label        RandomForestClassifier()  0.558048  0.560847   \n",
       "Top4+Top15_Label_3day   RandomForestClassifier()  0.557340  0.574074   \n",
       "Top6+Top24_Label_1day   RandomForestClassifier()  0.557292  0.560847   \n",
       "\n",
       "                        Precision    Recall        F1  \n",
       "Top20+Top25_Label_1day   0.632653  0.333333  0.436620  \n",
       "Top1+Top18_Label         0.556364  0.796875  0.655246  \n",
       "Top10+Top16_Label_1day   0.623656  0.311828  0.415771  \n",
       "Top2+Top6_Label_2day     0.600000  0.280702  0.382470  \n",
       "Top11+Top13_Label        0.552239  0.770833  0.643478  \n",
       "Top23+Top24_Label_4day   0.593407  0.306818  0.404494  \n",
       "Top16+Top20_Label        0.549815  0.776042  0.643629  \n",
       "Top9+Top20_Label         0.550781  0.734375  0.629464  \n",
       "Top4+Top15_Label_3day    0.590909  0.293785  0.392453  \n",
       "Top6+Top24_Label_1day    0.596154  0.333333  0.427586  "
      ]
     },
     "execution_count": 14,
     "metadata": {},
     "output_type": "execute_result"
    }
   ],
   "source": [
    "df_sc2 = pd.DataFrame.from_dict(sc_2c, orient='index')\n",
    "df_sc2.sort_values(by=['ROC_AUC','Accuracy'],ascending=False,inplace=True)\n",
    "df_sc2.head(10)"
   ]
  },
  {
   "cell_type": "code",
   "execution_count": 15,
   "id": "249bc5b5",
   "metadata": {},
   "outputs": [],
   "source": [
    "def headlines_analyze_three(lbl,sc):\n",
    "    df_h = df[['Date',lbl]].copy()\n",
    "    for i in tqdm(range(1,26)):\n",
    "        col1 = (\"Top{}\".format(i))\n",
    "        for j in range(i+1,26):        \n",
    "            col2 = (\"Top{}\".format(j))\n",
    "            for k in range(j+1,26):\n",
    "                col3 = (\"Top{}\".format(k))\n",
    "                cls = col1+'+'+col2+'+'+col3\n",
    "                df_h['news'] = df[col1]+ df[col2]+ df[col3]\n",
    "                train = df_h[df_h['Date']<'20141231']\n",
    "                test = df_h[df_h['Date']>'20141231']\n",
    "                y_train = train[lbl]\n",
    "                y_test = test[lbl]\n",
    "                rf_pipeline.fit(train['news'],y_train)\n",
    "                predictions = rf_pipeline.predict(test['news'])                \n",
    "                Evaluation ('RandomForestClassifier()',cls+'_'+lbl,y_test, predictions,sc)"
   ]
  },
  {
   "cell_type": "code",
   "execution_count": 16,
   "id": "9e6f7230",
   "metadata": {},
   "outputs": [
    {
     "name": "stderr",
     "output_type": "stream",
     "text": [
      "100%|██████████| 25/25 [2:58:38<00:00, 428.75s/it]  \n",
      "100%|██████████| 25/25 [2:55:49<00:00, 421.99s/it]  \n",
      "100%|██████████| 25/25 [2:51:21<00:00, 411.24s/it]  \n",
      "100%|██████████| 25/25 [2:46:33<00:00, 399.74s/it]  \n",
      "100%|██████████| 25/25 [2:36:18<00:00, 375.14s/it]  \n",
      "100%|██████████| 25/25 [2:30:33<00:00, 361.34s/it]  \n"
     ]
    }
   ],
   "source": [
    "sc_3c={}\n",
    "for i, lbl in enumerate(['Label','Label_1day','Label_2day', 'Label_3day', 'Label_4day', 'Label_5day']):\n",
    "    headlines_analyze_three(lbl,sc_3c)"
   ]
  },
  {
   "cell_type": "code",
   "execution_count": 17,
   "id": "300fe5fc",
   "metadata": {},
   "outputs": [
    {
     "data": {
      "text/html": [
       "<div>\n",
       "<style scoped>\n",
       "    .dataframe tbody tr th:only-of-type {\n",
       "        vertical-align: middle;\n",
       "    }\n",
       "\n",
       "    .dataframe tbody tr th {\n",
       "        vertical-align: top;\n",
       "    }\n",
       "\n",
       "    .dataframe thead th {\n",
       "        text-align: right;\n",
       "    }\n",
       "</style>\n",
       "<table border=\"1\" class=\"dataframe\">\n",
       "  <thead>\n",
       "    <tr style=\"text-align: right;\">\n",
       "      <th></th>\n",
       "      <th>Method</th>\n",
       "      <th>ROC_AUC</th>\n",
       "      <th>Accuracy</th>\n",
       "      <th>Precision</th>\n",
       "      <th>Recall</th>\n",
       "      <th>F1</th>\n",
       "    </tr>\n",
       "  </thead>\n",
       "  <tbody>\n",
       "    <tr>\n",
       "      <th>Top8+Top16+Top20_Label_1day</th>\n",
       "      <td>RandomForestClassifier()</td>\n",
       "      <td>0.581653</td>\n",
       "      <td>0.584656</td>\n",
       "      <td>0.623932</td>\n",
       "      <td>0.392473</td>\n",
       "      <td>0.481848</td>\n",
       "    </tr>\n",
       "    <tr>\n",
       "      <th>Top6+Top11+Top20_Label_2day</th>\n",
       "      <td>RandomForestClassifier()</td>\n",
       "      <td>0.581617</td>\n",
       "      <td>0.605820</td>\n",
       "      <td>0.622222</td>\n",
       "      <td>0.327485</td>\n",
       "      <td>0.429119</td>\n",
       "    </tr>\n",
       "    <tr>\n",
       "      <th>Top10+Top16+Top22_Label_1day</th>\n",
       "      <td>RandomForestClassifier()</td>\n",
       "      <td>0.581149</td>\n",
       "      <td>0.584656</td>\n",
       "      <td>0.638095</td>\n",
       "      <td>0.360215</td>\n",
       "      <td>0.460481</td>\n",
       "    </tr>\n",
       "    <tr>\n",
       "      <th>Top1+Top8+Top9_Label_1day</th>\n",
       "      <td>RandomForestClassifier()</td>\n",
       "      <td>0.576697</td>\n",
       "      <td>0.579365</td>\n",
       "      <td>0.608000</td>\n",
       "      <td>0.408602</td>\n",
       "      <td>0.488746</td>\n",
       "    </tr>\n",
       "    <tr>\n",
       "      <th>Top10+Top16+Top20_Label_1day</th>\n",
       "      <td>RandomForestClassifier()</td>\n",
       "      <td>0.576109</td>\n",
       "      <td>0.579365</td>\n",
       "      <td>0.621622</td>\n",
       "      <td>0.370968</td>\n",
       "      <td>0.464646</td>\n",
       "    </tr>\n",
       "    <tr>\n",
       "      <th>Top10+Top12+Top16_Label_2day</th>\n",
       "      <td>RandomForestClassifier()</td>\n",
       "      <td>0.574879</td>\n",
       "      <td>0.597884</td>\n",
       "      <td>0.600000</td>\n",
       "      <td>0.333333</td>\n",
       "      <td>0.428571</td>\n",
       "    </tr>\n",
       "    <tr>\n",
       "      <th>Top7+Top10+Top12_Label</th>\n",
       "      <td>RandomForestClassifier()</td>\n",
       "      <td>0.574597</td>\n",
       "      <td>0.576720</td>\n",
       "      <td>0.566667</td>\n",
       "      <td>0.708333</td>\n",
       "      <td>0.629630</td>\n",
       "    </tr>\n",
       "    <tr>\n",
       "      <th>Top14+Top23+Top25_Label</th>\n",
       "      <td>RandomForestClassifier()</td>\n",
       "      <td>0.573673</td>\n",
       "      <td>0.576720</td>\n",
       "      <td>0.561069</td>\n",
       "      <td>0.765625</td>\n",
       "      <td>0.647577</td>\n",
       "    </tr>\n",
       "    <tr>\n",
       "      <th>Top4+Top8+Top20_Label</th>\n",
       "      <td>RandomForestClassifier()</td>\n",
       "      <td>0.571741</td>\n",
       "      <td>0.574074</td>\n",
       "      <td>0.563265</td>\n",
       "      <td>0.718750</td>\n",
       "      <td>0.631579</td>\n",
       "    </tr>\n",
       "    <tr>\n",
       "      <th>Top10+Top14+Top22_Label_3day</th>\n",
       "      <td>RandomForestClassifier()</td>\n",
       "      <td>0.571127</td>\n",
       "      <td>0.587302</td>\n",
       "      <td>0.615385</td>\n",
       "      <td>0.316384</td>\n",
       "      <td>0.417910</td>\n",
       "    </tr>\n",
       "  </tbody>\n",
       "</table>\n",
       "</div>"
      ],
      "text/plain": [
       "                                                Method   ROC_AUC  Accuracy  \\\n",
       "Top8+Top16+Top20_Label_1day   RandomForestClassifier()  0.581653  0.584656   \n",
       "Top6+Top11+Top20_Label_2day   RandomForestClassifier()  0.581617  0.605820   \n",
       "Top10+Top16+Top22_Label_1day  RandomForestClassifier()  0.581149  0.584656   \n",
       "Top1+Top8+Top9_Label_1day     RandomForestClassifier()  0.576697  0.579365   \n",
       "Top10+Top16+Top20_Label_1day  RandomForestClassifier()  0.576109  0.579365   \n",
       "Top10+Top12+Top16_Label_2day  RandomForestClassifier()  0.574879  0.597884   \n",
       "Top7+Top10+Top12_Label        RandomForestClassifier()  0.574597  0.576720   \n",
       "Top14+Top23+Top25_Label       RandomForestClassifier()  0.573673  0.576720   \n",
       "Top4+Top8+Top20_Label         RandomForestClassifier()  0.571741  0.574074   \n",
       "Top10+Top14+Top22_Label_3day  RandomForestClassifier()  0.571127  0.587302   \n",
       "\n",
       "                              Precision    Recall        F1  \n",
       "Top8+Top16+Top20_Label_1day    0.623932  0.392473  0.481848  \n",
       "Top6+Top11+Top20_Label_2day    0.622222  0.327485  0.429119  \n",
       "Top10+Top16+Top22_Label_1day   0.638095  0.360215  0.460481  \n",
       "Top1+Top8+Top9_Label_1day      0.608000  0.408602  0.488746  \n",
       "Top10+Top16+Top20_Label_1day   0.621622  0.370968  0.464646  \n",
       "Top10+Top12+Top16_Label_2day   0.600000  0.333333  0.428571  \n",
       "Top7+Top10+Top12_Label         0.566667  0.708333  0.629630  \n",
       "Top14+Top23+Top25_Label        0.561069  0.765625  0.647577  \n",
       "Top4+Top8+Top20_Label          0.563265  0.718750  0.631579  \n",
       "Top10+Top14+Top22_Label_3day   0.615385  0.316384  0.417910  "
      ]
     },
     "execution_count": 17,
     "metadata": {},
     "output_type": "execute_result"
    }
   ],
   "source": [
    "df_sc3 = pd.DataFrame.from_dict(sc_3c, orient='index')\n",
    "df_sc3.sort_values(by=['ROC_AUC','Accuracy'],ascending=False,inplace=True)\n",
    "df_sc3.head(10)"
   ]
  },
  {
   "cell_type": "code",
   "execution_count": 26,
   "id": "d648f28c",
   "metadata": {},
   "outputs": [],
   "source": [
    "def analyze_all_news(lbl):\n",
    "    df_h = df[['Date',lbl]].copy()\n",
    "    df_h['news'] = df['news_stemmed']\n",
    "    train = df_h[df_h['Date']<'20141231']\n",
    "    test = df_h[df_h['Date']>'20141231']\n",
    "    y_train = train[lbl]\n",
    "    y_test = test[lbl]\n",
    "    rf_pipeline.fit(train['news'],y_train)\n",
    "    predictions = rf_pipeline.predict(test['news'])                \n",
    "    Evaluation ('RandomForestClassifier()','news_stemmed'+lbl,y_test, predictions,sc_news)"
   ]
  },
  {
   "cell_type": "code",
   "execution_count": 27,
   "id": "5f5bc91e",
   "metadata": {},
   "outputs": [],
   "source": [
    "sc_news={}\n",
    "for i, lbl in enumerate(['Label','Label_1day','Label_2day', 'Label_3day', 'Label_4day', 'Label_5day']):\n",
    "    analyze_all_news(lbl)"
   ]
  },
  {
   "cell_type": "code",
   "execution_count": 28,
   "id": "5a5fdb13",
   "metadata": {},
   "outputs": [
    {
     "data": {
      "text/html": [
       "<div>\n",
       "<style scoped>\n",
       "    .dataframe tbody tr th:only-of-type {\n",
       "        vertical-align: middle;\n",
       "    }\n",
       "\n",
       "    .dataframe tbody tr th {\n",
       "        vertical-align: top;\n",
       "    }\n",
       "\n",
       "    .dataframe thead th {\n",
       "        text-align: right;\n",
       "    }\n",
       "</style>\n",
       "<table border=\"1\" class=\"dataframe\">\n",
       "  <thead>\n",
       "    <tr style=\"text-align: right;\">\n",
       "      <th></th>\n",
       "      <th>Method</th>\n",
       "      <th>ROC_AUC</th>\n",
       "      <th>Accuracy</th>\n",
       "      <th>Precision</th>\n",
       "      <th>Recall</th>\n",
       "      <th>F1</th>\n",
       "    </tr>\n",
       "  </thead>\n",
       "  <tbody>\n",
       "    <tr>\n",
       "      <th>news_stemmedLabel_1day</th>\n",
       "      <td>RandomForestClassifier()</td>\n",
       "      <td>0.514617</td>\n",
       "      <td>0.518519</td>\n",
       "      <td>0.520833</td>\n",
       "      <td>0.268817</td>\n",
       "      <td>0.354610</td>\n",
       "    </tr>\n",
       "    <tr>\n",
       "      <th>news_stemmedLabel_4day</th>\n",
       "      <td>RandomForestClassifier()</td>\n",
       "      <td>0.500619</td>\n",
       "      <td>0.526455</td>\n",
       "      <td>0.468085</td>\n",
       "      <td>0.125000</td>\n",
       "      <td>0.197309</td>\n",
       "    </tr>\n",
       "    <tr>\n",
       "      <th>news_stemmedLabel_3day</th>\n",
       "      <td>RandomForestClassifier()</td>\n",
       "      <td>0.500422</td>\n",
       "      <td>0.526455</td>\n",
       "      <td>0.470588</td>\n",
       "      <td>0.090395</td>\n",
       "      <td>0.151659</td>\n",
       "    </tr>\n",
       "    <tr>\n",
       "      <th>news_stemmedLabel</th>\n",
       "      <td>RandomForestClassifier()</td>\n",
       "      <td>0.486055</td>\n",
       "      <td>0.489418</td>\n",
       "      <td>0.498141</td>\n",
       "      <td>0.697917</td>\n",
       "      <td>0.581345</td>\n",
       "    </tr>\n",
       "    <tr>\n",
       "      <th>news_stemmedLabel_5day</th>\n",
       "      <td>RandomForestClassifier()</td>\n",
       "      <td>0.480184</td>\n",
       "      <td>0.505291</td>\n",
       "      <td>0.375000</td>\n",
       "      <td>0.084746</td>\n",
       "      <td>0.138249</td>\n",
       "    </tr>\n",
       "    <tr>\n",
       "      <th>news_stemmedLabel_2day</th>\n",
       "      <td>RandomForestClassifier()</td>\n",
       "      <td>0.479024</td>\n",
       "      <td>0.507937</td>\n",
       "      <td>0.400000</td>\n",
       "      <td>0.175439</td>\n",
       "      <td>0.243902</td>\n",
       "    </tr>\n",
       "  </tbody>\n",
       "</table>\n",
       "</div>"
      ],
      "text/plain": [
       "                                          Method   ROC_AUC  Accuracy  \\\n",
       "news_stemmedLabel_1day  RandomForestClassifier()  0.514617  0.518519   \n",
       "news_stemmedLabel_4day  RandomForestClassifier()  0.500619  0.526455   \n",
       "news_stemmedLabel_3day  RandomForestClassifier()  0.500422  0.526455   \n",
       "news_stemmedLabel       RandomForestClassifier()  0.486055  0.489418   \n",
       "news_stemmedLabel_5day  RandomForestClassifier()  0.480184  0.505291   \n",
       "news_stemmedLabel_2day  RandomForestClassifier()  0.479024  0.507937   \n",
       "\n",
       "                        Precision    Recall        F1  \n",
       "news_stemmedLabel_1day   0.520833  0.268817  0.354610  \n",
       "news_stemmedLabel_4day   0.468085  0.125000  0.197309  \n",
       "news_stemmedLabel_3day   0.470588  0.090395  0.151659  \n",
       "news_stemmedLabel        0.498141  0.697917  0.581345  \n",
       "news_stemmedLabel_5day   0.375000  0.084746  0.138249  \n",
       "news_stemmedLabel_2day   0.400000  0.175439  0.243902  "
      ]
     },
     "execution_count": 28,
     "metadata": {},
     "output_type": "execute_result"
    }
   ],
   "source": [
    "df_sc_news = pd.DataFrame.from_dict(sc_news, orient='index')\n",
    "df_sc_news.sort_values(by=['ROC_AUC','Accuracy'],ascending=False,inplace=True)\n",
    "df_sc_news"
   ]
  },
  {
   "cell_type": "markdown",
   "id": "d5faeaa2",
   "metadata": {},
   "source": [
    "# Parameters Tuning"
   ]
  },
  {
   "cell_type": "code",
   "execution_count": null,
   "id": "a86fee2e",
   "metadata": {},
   "outputs": [],
   "source": [
    "import seaborn as sns\n",
    "import matplotlib.pyplot as plt\n",
    "\n",
    "def plot_confusion_matrix(y_true, y_pred, labels):\n",
    "    cm = confusion_matrix(y_true, y_pred, labels)\n",
    "    plt.figure(figsize=(8, 6))\n",
    "    ax = sns.heatmap(cm, annot=True, cmap='Blues', fmt='g', xticklabels=labels, yticklabels=labels)\n",
    "\n",
    "    # Compute percentages and add labels to cells\n",
    "    for i in range(len(labels)):\n",
    "        for j in range(len(labels)):\n",
    "            count = cm[i, j]\n",
    "            pct = '{:.1%}'.format(count / np.sum(cm))\n",
    "            ax.text(j + 0.5, i + 0.5, f'{count}\\n{pct}', ha='center', va='center',\n",
    "                    color='white' if count > np.sum(cm) / 2 else 'black', fontsize=12)\n",
    "\n",
    "    ax.set_xlabel('Predicted labels')\n",
    "    ax.set_ylabel('True labels')\n",
    "    ax.set_title('Confusion Matrix')\n",
    "    plt.show()\n"
   ]
  },
  {
   "cell_type": "code",
   "execution_count": null,
   "id": "6bdf5517",
   "metadata": {},
   "outputs": [],
   "source": []
  },
  {
   "cell_type": "code",
   "execution_count": 61,
   "id": "6e14b1d8",
   "metadata": {},
   "outputs": [],
   "source": [
    "import seaborn as sns\n",
    "import matplotlib.pyplot as plt\n",
    "\n",
    "def plot_confusion_matrix(y_true, y_pred):\n",
    "    # Define labels\n",
    "    labels = ['Class 0', 'Class 1']\n",
    "    cm = confusion_matrix(y_true, y_pred)\n",
    "    plt.figure(figsize=(8, 6))\n",
    "    ax = sns.heatmap(cm, annot=True, cmap='Blues', fmt='g', xticklabels=labels, yticklabels=labels)\n",
    "    ax.set_xlabel('Predicted labels')\n",
    "    ax.set_ylabel('True labels')\n",
    "    ax.set_title('Confusion Matrix')\n",
    "    plt.show()"
   ]
  },
  {
   "cell_type": "code",
   "execution_count": 60,
   "id": "37491171",
   "metadata": {},
   "outputs": [
    {
     "data": {
      "image/png": "[encoded data removed]",
      "text/plain": [
       "<Figure size 576x432 with 2 Axes>"
      ]
     },
     "metadata": {
      "needs_background": "light"
     },
     "output_type": "display_data"
    }
   ],
   "source": [
    "import numpy as np\n",
    "from sklearn.metrics import confusion_matrix\n",
    "\n",
    "# Generate example data\n",
    "y_true=[1,1,1,1,0,0,0,0,0,0]\n",
    "y_pred=[0,1,0,1,1,0,0,1,0,1]\n",
    "\n",
    "# Compute confusion matrix\n",
    "cm = confusion_matrix(y_true, y_pred)\n",
    "\n",
    "# Plot confusion matrix\n",
    "plot_confusion_matrix(y_true, y_pred)\n"
   ]
  },
  {
   "cell_type": "code",
   "execution_count": 63,
   "id": "8c38d53c",
   "metadata": {},
   "outputs": [
    {
     "data": {
      "text/plain": [
       "array([[3, 3],\n",
       "       [2, 2]], dtype=int64)"
      ]
     },
     "execution_count": 63,
     "metadata": {},
     "output_type": "execute_result"
    }
   ],
   "source": [
    "# Generate example data\n",
    "y_true=[1,1,1,1,0,0,0,0,0,0]\n",
    "y_pred=[0,1,0,1,1,0,0,1,0,1]\n",
    "\n",
    "# Compute confusion matrix\n",
    "cm = confusion_matrix(y_true, y_pred)\n",
    "cm"
   ]
  },
  {
   "cell_type": "code",
   "execution_count": 71,
   "id": "77c25257",
   "metadata": {},
   "outputs": [],
   "source": [
    "y_true=[1,1,1,1,0,0,0,0,0,0]\n",
    "y_pred=[1,1,0,1,0,0,0,0,0,1]\n",
    "cm = confusion_matrix(y_true, y_pred)"
   ]
  },
  {
   "cell_type": "code",
   "execution_count": 73,
   "id": "3f0decff",
   "metadata": {},
   "outputs": [],
   "source": [
    "def plot_confusion_matrix(cm, title):\n",
    "    group_names = ['TN','FP','FN','TP']\n",
    "\n",
    "    group_counts = [\"{0:0.0f}\".format(value) for value in\n",
    "                cm.flatten()]\n",
    "\n",
    "    group_percentages = [\"{0:.2%}\".format(value) for value in\n",
    "                     cm.flatten()/np.sum(cm)]\n",
    "\n",
    "    labels = [f\"{v1}\\n{v2}\\n{v3}\" for v1, v2, v3 in\n",
    "          zip(group_names,group_counts,group_percentages)]\n",
    "\n",
    "    labels = np.asarray(labels).reshape(2,2)    \n",
    "    \n",
    "    ax= sns.heatmap(cm, annot=labels, fmt=\"\", cmap='Reds')\n",
    "    ax.set_title(title);\n",
    "    ax.set_xlabel('Predicted Values')\n",
    "    ax.set_ylabel('Actual Values ');\n",
    "    plt.show()"
   ]
  },
  {
   "cell_type": "code",
   "execution_count": 75,
   "id": "e421301c",
   "metadata": {},
   "outputs": [
    {
     "data": {
      "image/png": "[encoded data removed]",
      "text/plain": [
       "<Figure size 432x288 with 2 Axes>"
      ]
     },
     "metadata": {
      "needs_background": "light"
     },
     "output_type": "display_data"
    }
   ],
   "source": [
    "t='TUPutCM'\n",
    "plot_confusion_matrix(cm,t)"
   ]
  },
  {
   "cell_type": "code",
   "execution_count": null,
   "id": "7f5408d8",
   "metadata": {},
   "outputs": [],
   "source": [
    "text_data = train_data.news_stemmed.values\n",
    "Y_train_LSTM = train_data.Label_1day.values\n",
    "Y_train_CNN = train_data.Label_5day.values\n",
    "Y_train_RNN = train_data.Label_4day.values\n",
    "\n",
    "text_val = val_data.news_stemmed.values\n",
    "Y_val_LSTM = val_data.Label_1day.values\n",
    "Y_val_CNN = val_data.Label_5day.values\n",
    "Y_val_RNN = val_data.Label_4day.values\n",
    "\n",
    "text_test = test_data.news_stemmed.values\n",
    "Y_test_LSTM = test_data.Label_1day.values\n",
    "Y_test_CNN = test_data.Label_5day.values\n",
    "Y_test_RNN = test_data.Label_4day.values\n",
    "# Plot confusion matrix\n",
    "plot_confusion_matrix(y_true, y_pred)"
   ]
  },
  {
   "cell_type": "markdown",
   "id": "2d0acd95",
   "metadata": {},
   "source": [
    "## One Headline"
   ]
  },
  {
   "cell_type": "code",
   "execution_count": 41,
   "id": "03c496cc",
   "metadata": {},
   "outputs": [],
   "source": [
    "rf_pipeline = Pipeline([\n",
    "    ('vect', CountVectorizer(analyzer=lambda x: x)),  \n",
    "    ('tfidf', TfidfTransformer()),\n",
    "    ('clf', RandomForestClassifier()) ])"
   ]
  },
  {
   "cell_type": "code",
   "execution_count": 42,
   "id": "a885b587",
   "metadata": {},
   "outputs": [],
   "source": [
    "params = {'vect__ngram_range': [(1, 1), (1, 2)],\n",
    "          'vect__max_features': (10000,15000),\n",
    "          'vect__min_df': (5,10),                             \n",
    "          'clf__n_estimators': (100,200),\n",
    "          'clf__max_depth': (15, 30,40),\n",
    "          'clf__min_samples_split' : (5, 10, 15),\n",
    "          'clf__min_samples_leaf' : (1, 5, 10)}"
   ]
  },
  {
   "cell_type": "code",
   "execution_count": 58,
   "id": "a8e68b2a",
   "metadata": {},
   "outputs": [],
   "source": [
    "df_h = df[['Date','Label_5day','Top13']].copy()   \n",
    "train = df_h[df_h['Date']<'20141231']\n",
    "test = df_h[df_h['Date']>'20141231']\n",
    "y_train = train['Label_5day']\n",
    "y_test = test['Label_5day']"
   ]
  },
  {
   "cell_type": "code",
   "execution_count": 44,
   "id": "5a8413d0",
   "metadata": {},
   "outputs": [],
   "source": [
    "gs = GridSearchCV(estimator=rf_pipeline, param_grid=params, n_jobs=-1, cv=4)\n",
    "gs_results = gs.fit(train['Top13'], y_train)"
   ]
  },
  {
   "cell_type": "code",
   "execution_count": 45,
   "id": "035bd1a2",
   "metadata": {},
   "outputs": [
    {
     "name": "stdout",
     "output_type": "stream",
     "text": [
      "best parameters:\n",
      "{'clf__max_depth': 30, 'clf__min_samples_leaf': 10, 'clf__min_samples_split': 15, 'clf__n_estimators': 100, 'vect__max_features': 10000, 'vect__min_df': 5, 'vect__ngram_range': (1, 2)}\n",
      "accuracy: 0.5925459550880832\n"
     ]
    }
   ],
   "source": [
    "print(f\"best parameters:\\n{gs_results.best_params_}\\naccuracy: {gs_results.best_score_}\")"
   ]
  },
  {
   "cell_type": "code",
   "execution_count": 105,
   "id": "1706c019",
   "metadata": {},
   "outputs": [],
   "source": [
    "rf_pipe = Pipeline([    \n",
    "    ('vect', CountVectorizer(analyzer=lambda x: x )),  #min_df=5, max_features=10000,ngram_range=(1,2), \n",
    "    ('tfidf', TfidfTransformer(use_idf=True)),  #, norm='l2'  use_idf=False\n",
    "    ('clf', RandomForestClassifier(\n",
    "                                   #random_state=1,\n",
    "                                   #max_depth= 30, \n",
    "                                   #min_samples_leaf= 10, \n",
    "                                   #min_samples_split= 15,\n",
    "                                   #n_estimators= 100 \n",
    "                                  )) ])"
   ]
  },
  {
   "cell_type": "code",
   "execution_count": 106,
   "id": "6e2d7b43",
   "metadata": {},
   "outputs": [
    {
     "name": "stdout",
     "output_type": "stream",
     "text": [
      "              precision    recall  f1-score   support\n",
      "\n",
      "           0       0.57      0.86      0.69       201\n",
      "           1       0.64      0.28      0.39       177\n",
      "\n",
      "    accuracy                           0.59       378\n",
      "   macro avg       0.61      0.57      0.54       378\n",
      "weighted avg       0.60      0.59      0.55       378\n",
      "\n",
      "Accuracy: 0.5873015873015873\n"
     ]
    }
   ],
   "source": [
    "rf_pipe.fit(train['Top13'],y_train)\n",
    "prediction = rf_pipe.predict(test['Top13'])\n",
    "\n",
    "print(classification_report(y_test, prediction))\n",
    "matrix=confusion_matrix(y_test,prediction)\n",
    "score=accuracy_score(y_test,prediction)\n",
    "print(\"Accuracy:\",score)"
   ]
  },
  {
   "cell_type": "code",
   "execution_count": 107,
   "id": "b1d6fa58",
   "metadata": {},
   "outputs": [
    {
     "data": {
      "text/plain": [
       "Text(0.5, 15.0, 'Predicted')"
      ]
     },
     "execution_count": 107,
     "metadata": {},
     "output_type": "execute_result"
    },
    {
     "data": {
      "image/png": "[encoded data removed]",
      "text/plain": [
       "<Figure size 432x288 with 2 Axes>"
      ]
     },
     "metadata": {
      "needs_background": "light"
     },
     "output_type": "display_data"
    }
   ],
   "source": [
    "group_names = ['TN','FP','FN','TP']\n",
    "group_counts = [\"{0:0.0f}\".format(value) for value in\n",
    "            matrix.flatten()]\n",
    "group_percentages = [\"{0:.2%}\".format(value) for value in\n",
    "                 matrix.flatten()/np.sum(matrix)]\n",
    "labels = [f\"{v1}\\n{v2}\\n{v3}\" for v1, v2, v3 in\n",
    "      zip(group_names,group_counts,group_percentages)]\n",
    "\n",
    "labels = np.asarray(labels).reshape(2,2)\n",
    "plt.title('Naive Bayes - Confusion Matrix')\n",
    "\n",
    "sns.heatmap(matrix, annot=labels, fmt=\"\", cmap='Reds')\n",
    "plt.ylabel('True Label', fontsize=12)\n",
    "plt.xlabel('Predicted',fontsize=12)"
   ]
  },
  {
   "cell_type": "markdown",
   "id": "d73d6481",
   "metadata": {},
   "source": [
    "## Two Headlines"
   ]
  },
  {
   "cell_type": "code",
   "execution_count": 46,
   "id": "019922ae",
   "metadata": {},
   "outputs": [],
   "source": [
    "rf_pipeline = Pipeline([\n",
    "    ('vect', CountVectorizer(analyzer=lambda x: x)),  \n",
    "    ('tfidf', TfidfTransformer()),\n",
    "    ('clf', RandomForestClassifier()) ])"
   ]
  },
  {
   "cell_type": "code",
   "execution_count": 47,
   "id": "53f6763d",
   "metadata": {},
   "outputs": [],
   "source": [
    "params = {'vect__ngram_range': [(1, 1), (1, 2)],\n",
    "          'vect__max_features': (10000,15000),\n",
    "          'vect__min_df': (5,10),          \n",
    "          'clf__n_estimators': (100,200),\n",
    "          'clf__max_depth': (15, 30,40),\n",
    "          'clf__min_samples_split' : (5, 10, 15),\n",
    "          'clf__min_samples_leaf' : (1, 5, 10)}       "
   ]
  },
  {
   "cell_type": "code",
   "execution_count": 140,
   "id": "f8155bf5",
   "metadata": {},
   "outputs": [],
   "source": [
    "df_h = df[['Date','Label_4day','Top20','Top25']].copy()   \n",
    "df_h['news'] = df_h['Top20']+df_h['Top25']\n",
    "train = df_h[df_h['Date']<'20141231']\n",
    "test = df_h[df_h['Date']>'20141231']\n",
    "y_train = train['Label_4day']\n",
    "y_test = test['Label_4day']"
   ]
  },
  {
   "cell_type": "code",
   "execution_count": 49,
   "id": "196ef213",
   "metadata": {},
   "outputs": [],
   "source": [
    "gs = GridSearchCV(estimator=rf_pipeline, param_grid=params, n_jobs=-1, cv=4)\n",
    "gs_results = gs.fit(train['news'], y_train)"
   ]
  },
  {
   "cell_type": "code",
   "execution_count": 50,
   "id": "fdf65a34",
   "metadata": {},
   "outputs": [
    {
     "name": "stdout",
     "output_type": "stream",
     "text": [
      "best parameters:\n",
      "{'clf__max_depth': 30, 'clf__min_samples_leaf': 10, 'clf__min_samples_split': 15, 'clf__n_estimators': 200, 'vect__max_features': 10000, 'vect__min_df': 5, 'vect__ngram_range': (1, 1)}\n",
      "accuracy: 0.5509209535449304\n"
     ]
    }
   ],
   "source": [
    "print(f\"best parameters:\\n{gs_results.best_params_}\\naccuracy: {gs_results.best_score_}\")"
   ]
  },
  {
   "cell_type": "code",
   "execution_count": 175,
   "id": "c22326b2",
   "metadata": {},
   "outputs": [],
   "source": [
    "rf_pipeline = Pipeline([\n",
    "    ('vect', CountVectorizer(#min_df=5, \n",
    "                             max_features=10000,\n",
    "                             ngram_range=(1, 1),\n",
    "                             analyzer=lambda x: x )),  \n",
    "    ('tfidf', TfidfTransformer(use_idf=True)),  #, norm='l2' \n",
    "    ('clf', RandomForestClassifier(\n",
    "                            random_state=1,\n",
    "                                 #  max_depth= 30,\n",
    "                                #   min_samples_leaf= 10,\n",
    "                                 #  min_samples_split= 15, \n",
    "                                   n_estimators= 200 \n",
    "                                  )) ])"
   ]
  },
  {
   "cell_type": "code",
   "execution_count": 176,
   "id": "0edee69a",
   "metadata": {},
   "outputs": [
    {
     "name": "stdout",
     "output_type": "stream",
     "text": [
      "              precision    recall  f1-score   support\n",
      "\n",
      "           0       0.57      0.82      0.67       202\n",
      "           1       0.58      0.28      0.38       176\n",
      "\n",
      "    accuracy                           0.57       378\n",
      "   macro avg       0.57      0.55      0.52       378\n",
      "weighted avg       0.57      0.57      0.53       378\n",
      "\n",
      "Accuracy: 0.5687830687830688\n"
     ]
    }
   ],
   "source": [
    "rf_pipeline.fit(train['news'],y_train)\n",
    "prediction = rf_pipeline.predict(test['news'])\n",
    "\n",
    "print(classification_report(y_test, prediction))\n",
    "matrix=confusion_matrix(y_test,prediction)\n",
    "score=accuracy_score(y_test,prediction)\n",
    "print(\"Accuracy:\",score)"
   ]
  },
  {
   "cell_type": "code",
   "execution_count": 177,
   "id": "f2da783e",
   "metadata": {},
   "outputs": [
    {
     "data": {
      "text/plain": [
       "Text(0.5, 15.0, 'Predicted')"
      ]
     },
     "execution_count": 177,
     "metadata": {},
     "output_type": "execute_result"
    },
    {
     "data": {
      "image/png": "[encoded data removed]",
      "text/plain": [
       "<Figure size 432x288 with 2 Axes>"
      ]
     },
     "metadata": {
      "needs_background": "light"
     },
     "output_type": "display_data"
    }
   ],
   "source": [
    "group_names = ['TN','FP','FN','TP']\n",
    "group_counts = [\"{0:0.0f}\".format(value) for value in\n",
    "            matrix.flatten()]\n",
    "group_percentages = [\"{0:.2%}\".format(value) for value in\n",
    "                 matrix.flatten()/np.sum(matrix)]\n",
    "labels = [f\"{v1}\\n{v2}\\n{v3}\" for v1, v2, v3 in\n",
    "      zip(group_names,group_counts,group_percentages)]\n",
    "\n",
    "labels = np.asarray(labels).reshape(2,2)\n",
    "plt.title('Naive Bayes - Confusion Matrix')\n",
    "\n",
    "sns.heatmap(matrix, annot=labels, fmt=\"\", cmap='Reds')\n",
    "plt.ylabel('True Label', fontsize=12)\n",
    "plt.xlabel('Predicted',fontsize=12)"
   ]
  },
  {
   "cell_type": "markdown",
   "id": "b52a1ef0",
   "metadata": {},
   "source": [
    "## Three Headlines "
   ]
  },
  {
   "cell_type": "code",
   "execution_count": 178,
   "id": "4bad30d4",
   "metadata": {},
   "outputs": [],
   "source": [
    "rf_pipeline = Pipeline([\n",
    "    ('vect', CountVectorizer(analyzer=lambda x: x)),  \n",
    "    ('tfidf', TfidfTransformer()),\n",
    "    ('clf', RandomForestClassifier()) ])"
   ]
  },
  {
   "cell_type": "code",
   "execution_count": 179,
   "id": "5733a3f2",
   "metadata": {},
   "outputs": [],
   "source": [
    "params = {'vect__ngram_range': [(1, 1), (1, 2)],\n",
    "          'vect__max_features': (10000,15000),\n",
    "          'vect__min_df': (5,10),                        \n",
    "          'clf__n_estimators': (100,200),\n",
    "          'clf__max_depth': (15, 30,40),\n",
    "          'clf__min_samples_split' : (5, 10, 15),\n",
    "          'clf__min_samples_leaf' : (1, 5, 10)}"
   ]
  },
  {
   "cell_type": "code",
   "execution_count": 221,
   "id": "ab4ce49b",
   "metadata": {},
   "outputs": [],
   "source": [
    "df_h = df[['Date','Label_2day','Top1','Top6','Top16']].copy()   \n",
    "df_h['news'] = df_h['Top1']+df_h['Top6']+df_h['Top16']\n",
    "train = df_h[df_h['Date']<'20141231']\n",
    "test = df_h[df_h['Date']>'20141231']\n",
    "y_train = train['Label_2day']\n",
    "y_test = test['Label_2day']"
   ]
  },
  {
   "cell_type": "code",
   "execution_count": 54,
   "id": "2be8a861",
   "metadata": {},
   "outputs": [
    {
     "ename": "ValueError",
     "evalue": "Invalid parameter 'clf' for estimator Pipeline(steps=[('bow',\n                 CountVectorizer(analyzer=<function <lambda> at 0x000001BE04DA8DC0>)),\n                ('tfidf', TfidfTransformer()),\n                ('classifier', RandomForestClassifier())]). Valid parameters are: ['memory', 'steps', 'verbose'].",
     "output_type": "error",
     "traceback": [
      "\u001b[1;31m---------------------------------------------------------------------------\u001b[0m",
      "\u001b[1;31m_RemoteTraceback\u001b[0m                          Traceback (most recent call last)",
      "\u001b[1;31m_RemoteTraceback\u001b[0m: \n\"\"\"\nTraceback (most recent call last):\n  File \"C:\\Users\\deiro\\anaconda3\\lib\\site-packages\\joblib\\externals\\loky\\process_executor.py\", line 436, in _process_worker\n    r = call_item()\n  File \"C:\\Users\\deiro\\anaconda3\\lib\\site-packages\\joblib\\externals\\loky\\process_executor.py\", line 288, in __call__\n    return self.fn(*self.args, **self.kwargs)\n  File \"C:\\Users\\deiro\\anaconda3\\lib\\site-packages\\joblib\\_parallel_backends.py\", line 595, in __call__\n    return self.func(*args, **kwargs)\n  File \"C:\\Users\\deiro\\anaconda3\\lib\\site-packages\\joblib\\parallel.py\", line 262, in __call__\n    return [func(*args, **kwargs)\n  File \"C:\\Users\\deiro\\anaconda3\\lib\\site-packages\\joblib\\parallel.py\", line 262, in <listcomp>\n    return [func(*args, **kwargs)\n  File \"C:\\Users\\deiro\\anaconda3\\lib\\site-packages\\sklearn\\utils\\fixes.py\", line 117, in __call__\n    return self.function(*args, **kwargs)\n  File \"C:\\Users\\deiro\\anaconda3\\lib\\site-packages\\sklearn\\model_selection\\_validation.py\", line 674, in _fit_and_score\n    estimator = estimator.set_params(**cloned_parameters)\n  File \"C:\\Users\\deiro\\anaconda3\\lib\\site-packages\\sklearn\\pipeline.py\", line 188, in set_params\n    self._set_params(\"steps\", **kwargs)\n  File \"C:\\Users\\deiro\\anaconda3\\lib\\site-packages\\sklearn\\utils\\metaestimators.py\", line 72, in _set_params\n    super().set_params(**params)\n  File \"C:\\Users\\deiro\\anaconda3\\lib\\site-packages\\sklearn\\base.py\", line 246, in set_params\n    raise ValueError(\nValueError: Invalid parameter 'clf' for estimator Pipeline(steps=[('bow',\n                 CountVectorizer(analyzer=<function <lambda> at 0x000001BE04DA8DC0>)),\n                ('tfidf', TfidfTransformer()),\n                ('classifier', RandomForestClassifier())]). Valid parameters are: ['memory', 'steps', 'verbose'].\n\"\"\"",
      "\nThe above exception was the direct cause of the following exception:\n",
      "\u001b[1;31mValueError\u001b[0m                                Traceback (most recent call last)",
      "Input \u001b[1;32mIn [54]\u001b[0m, in \u001b[0;36m<cell line: 2>\u001b[1;34m()\u001b[0m\n\u001b[0;32m      1\u001b[0m gs \u001b[38;5;241m=\u001b[39m GridSearchCV(estimator\u001b[38;5;241m=\u001b[39mnb_pipeline, param_grid\u001b[38;5;241m=\u001b[39mparams, n_jobs\u001b[38;5;241m=\u001b[39m\u001b[38;5;241m-\u001b[39m\u001b[38;5;241m1\u001b[39m, cv\u001b[38;5;241m=\u001b[39m\u001b[38;5;241m4\u001b[39m)\n\u001b[1;32m----> 2\u001b[0m gs_results \u001b[38;5;241m=\u001b[39m \u001b[43mgs\u001b[49m\u001b[38;5;241;43m.\u001b[39;49m\u001b[43mfit\u001b[49m\u001b[43m(\u001b[49m\u001b[43mtrain\u001b[49m\u001b[43m[\u001b[49m\u001b[38;5;124;43m'\u001b[39;49m\u001b[38;5;124;43mnews\u001b[39;49m\u001b[38;5;124;43m'\u001b[39;49m\u001b[43m]\u001b[49m\u001b[43m,\u001b[49m\u001b[43m \u001b[49m\u001b[43my_train\u001b[49m\u001b[43m)\u001b[49m\n",
      "File \u001b[1;32m~\\anaconda3\\lib\\site-packages\\sklearn\\model_selection\\_search.py:875\u001b[0m, in \u001b[0;36mBaseSearchCV.fit\u001b[1;34m(self, X, y, groups, **fit_params)\u001b[0m\n\u001b[0;32m    869\u001b[0m     results \u001b[38;5;241m=\u001b[39m \u001b[38;5;28mself\u001b[39m\u001b[38;5;241m.\u001b[39m_format_results(\n\u001b[0;32m    870\u001b[0m         all_candidate_params, n_splits, all_out, all_more_results\n\u001b[0;32m    871\u001b[0m     )\n\u001b[0;32m    873\u001b[0m     \u001b[38;5;28;01mreturn\u001b[39;00m results\n\u001b[1;32m--> 875\u001b[0m \u001b[38;5;28;43mself\u001b[39;49m\u001b[38;5;241;43m.\u001b[39;49m\u001b[43m_run_search\u001b[49m\u001b[43m(\u001b[49m\u001b[43mevaluate_candidates\u001b[49m\u001b[43m)\u001b[49m\n\u001b[0;32m    877\u001b[0m \u001b[38;5;66;03m# multimetric is determined here because in the case of a callable\u001b[39;00m\n\u001b[0;32m    878\u001b[0m \u001b[38;5;66;03m# self.scoring the return type is only known after calling\u001b[39;00m\n\u001b[0;32m    879\u001b[0m first_test_score \u001b[38;5;241m=\u001b[39m all_out[\u001b[38;5;241m0\u001b[39m][\u001b[38;5;124m\"\u001b[39m\u001b[38;5;124mtest_scores\u001b[39m\u001b[38;5;124m\"\u001b[39m]\n",
      "File \u001b[1;32m~\\anaconda3\\lib\\site-packages\\sklearn\\model_selection\\_search.py:1379\u001b[0m, in \u001b[0;36mGridSearchCV._run_search\u001b[1;34m(self, evaluate_candidates)\u001b[0m\n\u001b[0;32m   1377\u001b[0m \u001b[38;5;28;01mdef\u001b[39;00m \u001b[38;5;21m_run_search\u001b[39m(\u001b[38;5;28mself\u001b[39m, evaluate_candidates):\n\u001b[0;32m   1378\u001b[0m     \u001b[38;5;124;03m\"\"\"Search all candidates in param_grid\"\"\"\u001b[39;00m\n\u001b[1;32m-> 1379\u001b[0m     \u001b[43mevaluate_candidates\u001b[49m\u001b[43m(\u001b[49m\u001b[43mParameterGrid\u001b[49m\u001b[43m(\u001b[49m\u001b[38;5;28;43mself\u001b[39;49m\u001b[38;5;241;43m.\u001b[39;49m\u001b[43mparam_grid\u001b[49m\u001b[43m)\u001b[49m\u001b[43m)\u001b[49m\n",
      "File \u001b[1;32m~\\anaconda3\\lib\\site-packages\\sklearn\\model_selection\\_search.py:822\u001b[0m, in \u001b[0;36mBaseSearchCV.fit.<locals>.evaluate_candidates\u001b[1;34m(candidate_params, cv, more_results)\u001b[0m\n\u001b[0;32m    814\u001b[0m \u001b[38;5;28;01mif\u001b[39;00m \u001b[38;5;28mself\u001b[39m\u001b[38;5;241m.\u001b[39mverbose \u001b[38;5;241m>\u001b[39m \u001b[38;5;241m0\u001b[39m:\n\u001b[0;32m    815\u001b[0m     \u001b[38;5;28mprint\u001b[39m(\n\u001b[0;32m    816\u001b[0m         \u001b[38;5;124m\"\u001b[39m\u001b[38;5;124mFitting \u001b[39m\u001b[38;5;132;01m{0}\u001b[39;00m\u001b[38;5;124m folds for each of \u001b[39m\u001b[38;5;132;01m{1}\u001b[39;00m\u001b[38;5;124m candidates,\u001b[39m\u001b[38;5;124m\"\u001b[39m\n\u001b[0;32m    817\u001b[0m         \u001b[38;5;124m\"\u001b[39m\u001b[38;5;124m totalling \u001b[39m\u001b[38;5;132;01m{2}\u001b[39;00m\u001b[38;5;124m fits\u001b[39m\u001b[38;5;124m\"\u001b[39m\u001b[38;5;241m.\u001b[39mformat(\n\u001b[0;32m    818\u001b[0m             n_splits, n_candidates, n_candidates \u001b[38;5;241m*\u001b[39m n_splits\n\u001b[0;32m    819\u001b[0m         )\n\u001b[0;32m    820\u001b[0m     )\n\u001b[1;32m--> 822\u001b[0m out \u001b[38;5;241m=\u001b[39m \u001b[43mparallel\u001b[49m\u001b[43m(\u001b[49m\n\u001b[0;32m    823\u001b[0m \u001b[43m    \u001b[49m\u001b[43mdelayed\u001b[49m\u001b[43m(\u001b[49m\u001b[43m_fit_and_score\u001b[49m\u001b[43m)\u001b[49m\u001b[43m(\u001b[49m\n\u001b[0;32m    824\u001b[0m \u001b[43m        \u001b[49m\u001b[43mclone\u001b[49m\u001b[43m(\u001b[49m\u001b[43mbase_estimator\u001b[49m\u001b[43m)\u001b[49m\u001b[43m,\u001b[49m\n\u001b[0;32m    825\u001b[0m \u001b[43m        \u001b[49m\u001b[43mX\u001b[49m\u001b[43m,\u001b[49m\n\u001b[0;32m    826\u001b[0m \u001b[43m        \u001b[49m\u001b[43my\u001b[49m\u001b[43m,\u001b[49m\n\u001b[0;32m    827\u001b[0m \u001b[43m        \u001b[49m\u001b[43mtrain\u001b[49m\u001b[38;5;241;43m=\u001b[39;49m\u001b[43mtrain\u001b[49m\u001b[43m,\u001b[49m\n\u001b[0;32m    828\u001b[0m \u001b[43m        \u001b[49m\u001b[43mtest\u001b[49m\u001b[38;5;241;43m=\u001b[39;49m\u001b[43mtest\u001b[49m\u001b[43m,\u001b[49m\n\u001b[0;32m    829\u001b[0m \u001b[43m        \u001b[49m\u001b[43mparameters\u001b[49m\u001b[38;5;241;43m=\u001b[39;49m\u001b[43mparameters\u001b[49m\u001b[43m,\u001b[49m\n\u001b[0;32m    830\u001b[0m \u001b[43m        \u001b[49m\u001b[43msplit_progress\u001b[49m\u001b[38;5;241;43m=\u001b[39;49m\u001b[43m(\u001b[49m\u001b[43msplit_idx\u001b[49m\u001b[43m,\u001b[49m\u001b[43m \u001b[49m\u001b[43mn_splits\u001b[49m\u001b[43m)\u001b[49m\u001b[43m,\u001b[49m\n\u001b[0;32m    831\u001b[0m \u001b[43m        \u001b[49m\u001b[43mcandidate_progress\u001b[49m\u001b[38;5;241;43m=\u001b[39;49m\u001b[43m(\u001b[49m\u001b[43mcand_idx\u001b[49m\u001b[43m,\u001b[49m\u001b[43m \u001b[49m\u001b[43mn_candidates\u001b[49m\u001b[43m)\u001b[49m\u001b[43m,\u001b[49m\n\u001b[0;32m    832\u001b[0m \u001b[43m        \u001b[49m\u001b[38;5;241;43m*\u001b[39;49m\u001b[38;5;241;43m*\u001b[39;49m\u001b[43mfit_and_score_kwargs\u001b[49m\u001b[43m,\u001b[49m\n\u001b[0;32m    833\u001b[0m \u001b[43m    \u001b[49m\u001b[43m)\u001b[49m\n\u001b[0;32m    834\u001b[0m \u001b[43m    \u001b[49m\u001b[38;5;28;43;01mfor\u001b[39;49;00m\u001b[43m \u001b[49m\u001b[43m(\u001b[49m\u001b[43mcand_idx\u001b[49m\u001b[43m,\u001b[49m\u001b[43m \u001b[49m\u001b[43mparameters\u001b[49m\u001b[43m)\u001b[49m\u001b[43m,\u001b[49m\u001b[43m \u001b[49m\u001b[43m(\u001b[49m\u001b[43msplit_idx\u001b[49m\u001b[43m,\u001b[49m\u001b[43m \u001b[49m\u001b[43m(\u001b[49m\u001b[43mtrain\u001b[49m\u001b[43m,\u001b[49m\u001b[43m \u001b[49m\u001b[43mtest\u001b[49m\u001b[43m)\u001b[49m\u001b[43m)\u001b[49m\u001b[43m \u001b[49m\u001b[38;5;129;43;01min\u001b[39;49;00m\u001b[43m \u001b[49m\u001b[43mproduct\u001b[49m\u001b[43m(\u001b[49m\n\u001b[0;32m    835\u001b[0m \u001b[43m        \u001b[49m\u001b[38;5;28;43menumerate\u001b[39;49m\u001b[43m(\u001b[49m\u001b[43mcandidate_params\u001b[49m\u001b[43m)\u001b[49m\u001b[43m,\u001b[49m\u001b[43m \u001b[49m\u001b[38;5;28;43menumerate\u001b[39;49m\u001b[43m(\u001b[49m\u001b[43mcv\u001b[49m\u001b[38;5;241;43m.\u001b[39;49m\u001b[43msplit\u001b[49m\u001b[43m(\u001b[49m\u001b[43mX\u001b[49m\u001b[43m,\u001b[49m\u001b[43m \u001b[49m\u001b[43my\u001b[49m\u001b[43m,\u001b[49m\u001b[43m \u001b[49m\u001b[43mgroups\u001b[49m\u001b[43m)\u001b[49m\u001b[43m)\u001b[49m\n\u001b[0;32m    836\u001b[0m \u001b[43m    \u001b[49m\u001b[43m)\u001b[49m\n\u001b[0;32m    837\u001b[0m \u001b[43m\u001b[49m\u001b[43m)\u001b[49m\n\u001b[0;32m    839\u001b[0m \u001b[38;5;28;01mif\u001b[39;00m \u001b[38;5;28mlen\u001b[39m(out) \u001b[38;5;241m<\u001b[39m \u001b[38;5;241m1\u001b[39m:\n\u001b[0;32m    840\u001b[0m     \u001b[38;5;28;01mraise\u001b[39;00m \u001b[38;5;167;01mValueError\u001b[39;00m(\n\u001b[0;32m    841\u001b[0m         \u001b[38;5;124m\"\u001b[39m\u001b[38;5;124mNo fits were performed. \u001b[39m\u001b[38;5;124m\"\u001b[39m\n\u001b[0;32m    842\u001b[0m         \u001b[38;5;124m\"\u001b[39m\u001b[38;5;124mWas the CV iterator empty? \u001b[39m\u001b[38;5;124m\"\u001b[39m\n\u001b[0;32m    843\u001b[0m         \u001b[38;5;124m\"\u001b[39m\u001b[38;5;124mWere there no candidates?\u001b[39m\u001b[38;5;124m\"\u001b[39m\n\u001b[0;32m    844\u001b[0m     )\n",
      "File \u001b[1;32m~\\anaconda3\\lib\\site-packages\\joblib\\parallel.py:1056\u001b[0m, in \u001b[0;36mParallel.__call__\u001b[1;34m(self, iterable)\u001b[0m\n\u001b[0;32m   1053\u001b[0m     \u001b[38;5;28mself\u001b[39m\u001b[38;5;241m.\u001b[39m_iterating \u001b[38;5;241m=\u001b[39m \u001b[38;5;28;01mFalse\u001b[39;00m\n\u001b[0;32m   1055\u001b[0m \u001b[38;5;28;01mwith\u001b[39;00m \u001b[38;5;28mself\u001b[39m\u001b[38;5;241m.\u001b[39m_backend\u001b[38;5;241m.\u001b[39mretrieval_context():\n\u001b[1;32m-> 1056\u001b[0m     \u001b[38;5;28;43mself\u001b[39;49m\u001b[38;5;241;43m.\u001b[39;49m\u001b[43mretrieve\u001b[49m\u001b[43m(\u001b[49m\u001b[43m)\u001b[49m\n\u001b[0;32m   1057\u001b[0m \u001b[38;5;66;03m# Make sure that we get a last message telling us we are done\u001b[39;00m\n\u001b[0;32m   1058\u001b[0m elapsed_time \u001b[38;5;241m=\u001b[39m time\u001b[38;5;241m.\u001b[39mtime() \u001b[38;5;241m-\u001b[39m \u001b[38;5;28mself\u001b[39m\u001b[38;5;241m.\u001b[39m_start_time\n",
      "File \u001b[1;32m~\\anaconda3\\lib\\site-packages\\joblib\\parallel.py:935\u001b[0m, in \u001b[0;36mParallel.retrieve\u001b[1;34m(self)\u001b[0m\n\u001b[0;32m    933\u001b[0m \u001b[38;5;28;01mtry\u001b[39;00m:\n\u001b[0;32m    934\u001b[0m     \u001b[38;5;28;01mif\u001b[39;00m \u001b[38;5;28mgetattr\u001b[39m(\u001b[38;5;28mself\u001b[39m\u001b[38;5;241m.\u001b[39m_backend, \u001b[38;5;124m'\u001b[39m\u001b[38;5;124msupports_timeout\u001b[39m\u001b[38;5;124m'\u001b[39m, \u001b[38;5;28;01mFalse\u001b[39;00m):\n\u001b[1;32m--> 935\u001b[0m         \u001b[38;5;28mself\u001b[39m\u001b[38;5;241m.\u001b[39m_output\u001b[38;5;241m.\u001b[39mextend(\u001b[43mjob\u001b[49m\u001b[38;5;241;43m.\u001b[39;49m\u001b[43mget\u001b[49m\u001b[43m(\u001b[49m\u001b[43mtimeout\u001b[49m\u001b[38;5;241;43m=\u001b[39;49m\u001b[38;5;28;43mself\u001b[39;49m\u001b[38;5;241;43m.\u001b[39;49m\u001b[43mtimeout\u001b[49m\u001b[43m)\u001b[49m)\n\u001b[0;32m    936\u001b[0m     \u001b[38;5;28;01melse\u001b[39;00m:\n\u001b[0;32m    937\u001b[0m         \u001b[38;5;28mself\u001b[39m\u001b[38;5;241m.\u001b[39m_output\u001b[38;5;241m.\u001b[39mextend(job\u001b[38;5;241m.\u001b[39mget())\n",
      "File \u001b[1;32m~\\anaconda3\\lib\\site-packages\\joblib\\_parallel_backends.py:542\u001b[0m, in \u001b[0;36mLokyBackend.wrap_future_result\u001b[1;34m(future, timeout)\u001b[0m\n\u001b[0;32m    539\u001b[0m \u001b[38;5;124;03m\"\"\"Wrapper for Future.result to implement the same behaviour as\u001b[39;00m\n\u001b[0;32m    540\u001b[0m \u001b[38;5;124;03mAsyncResults.get from multiprocessing.\"\"\"\u001b[39;00m\n\u001b[0;32m    541\u001b[0m \u001b[38;5;28;01mtry\u001b[39;00m:\n\u001b[1;32m--> 542\u001b[0m     \u001b[38;5;28;01mreturn\u001b[39;00m \u001b[43mfuture\u001b[49m\u001b[38;5;241;43m.\u001b[39;49m\u001b[43mresult\u001b[49m\u001b[43m(\u001b[49m\u001b[43mtimeout\u001b[49m\u001b[38;5;241;43m=\u001b[39;49m\u001b[43mtimeout\u001b[49m\u001b[43m)\u001b[49m\n\u001b[0;32m    543\u001b[0m \u001b[38;5;28;01mexcept\u001b[39;00m CfTimeoutError \u001b[38;5;28;01mas\u001b[39;00m e:\n\u001b[0;32m    544\u001b[0m     \u001b[38;5;28;01mraise\u001b[39;00m \u001b[38;5;167;01mTimeoutError\u001b[39;00m \u001b[38;5;28;01mfrom\u001b[39;00m \u001b[38;5;21;01me\u001b[39;00m\n",
      "File \u001b[1;32m~\\anaconda3\\lib\\concurrent\\futures\\_base.py:444\u001b[0m, in \u001b[0;36mFuture.result\u001b[1;34m(self, timeout)\u001b[0m\n\u001b[0;32m    442\u001b[0m     \u001b[38;5;28;01mraise\u001b[39;00m CancelledError()\n\u001b[0;32m    443\u001b[0m \u001b[38;5;28;01melif\u001b[39;00m \u001b[38;5;28mself\u001b[39m\u001b[38;5;241m.\u001b[39m_state \u001b[38;5;241m==\u001b[39m FINISHED:\n\u001b[1;32m--> 444\u001b[0m     \u001b[38;5;28;01mreturn\u001b[39;00m \u001b[38;5;28;43mself\u001b[39;49m\u001b[38;5;241;43m.\u001b[39;49m\u001b[43m__get_result\u001b[49m\u001b[43m(\u001b[49m\u001b[43m)\u001b[49m\n\u001b[0;32m    445\u001b[0m \u001b[38;5;28;01melse\u001b[39;00m:\n\u001b[0;32m    446\u001b[0m     \u001b[38;5;28;01mraise\u001b[39;00m \u001b[38;5;167;01mTimeoutError\u001b[39;00m()\n",
      "File \u001b[1;32m~\\anaconda3\\lib\\concurrent\\futures\\_base.py:389\u001b[0m, in \u001b[0;36mFuture.__get_result\u001b[1;34m(self)\u001b[0m\n\u001b[0;32m    387\u001b[0m \u001b[38;5;28;01mif\u001b[39;00m \u001b[38;5;28mself\u001b[39m\u001b[38;5;241m.\u001b[39m_exception:\n\u001b[0;32m    388\u001b[0m     \u001b[38;5;28;01mtry\u001b[39;00m:\n\u001b[1;32m--> 389\u001b[0m         \u001b[38;5;28;01mraise\u001b[39;00m \u001b[38;5;28mself\u001b[39m\u001b[38;5;241m.\u001b[39m_exception\n\u001b[0;32m    390\u001b[0m     \u001b[38;5;28;01mfinally\u001b[39;00m:\n\u001b[0;32m    391\u001b[0m         \u001b[38;5;66;03m# Break a reference cycle with the exception in self._exception\u001b[39;00m\n\u001b[0;32m    392\u001b[0m         \u001b[38;5;28mself\u001b[39m \u001b[38;5;241m=\u001b[39m \u001b[38;5;28;01mNone\u001b[39;00m\n",
      "\u001b[1;31mValueError\u001b[0m: Invalid parameter 'clf' for estimator Pipeline(steps=[('bow',\n                 CountVectorizer(analyzer=<function <lambda> at 0x000001BE04DA8DC0>)),\n                ('tfidf', TfidfTransformer()),\n                ('classifier', RandomForestClassifier())]). Valid parameters are: ['memory', 'steps', 'verbose']."
     ]
    }
   ],
   "source": [
    "gs = GridSearchCV(estimator=nb_pipeline, param_grid=params, n_jobs=-1, cv=4)\n",
    "gs_results = gs.fit(train['news'], y_train)"
   ]
  },
  {
   "cell_type": "code",
   "execution_count": null,
   "id": "a5fb1b7f",
   "metadata": {},
   "outputs": [],
   "source": [
    "print(f\"best parameters:\\n{gs_results.best_params_}\\naccuracy: {gs_results.best_score_}\")"
   ]
  },
  {
   "cell_type": "code",
   "execution_count": 261,
   "id": "8cb2e774",
   "metadata": {},
   "outputs": [],
   "source": [
    "rf_pipeline = Pipeline([\n",
    "    ('vect', CountVectorizer(min_df=1, \n",
    "                             max_features=10000, \n",
    "                             ngram_range=(1, 2), \n",
    "                             analyzer=lambda x: x )),  \n",
    "    ('tfidf', TfidfTransformer(\n",
    "                            use_idf=True,                             \n",
    "                              )),  \n",
    "    ('clf', RandomForestClassifier(random_state=1,\n",
    "                               #    max_depth= 30, \n",
    "                                   min_samples_leaf= 1, \n",
    "                              #     min_samples_split= 5, \n",
    "                                   n_estimators= 200 \n",
    "                                  )) ])"
   ]
  },
  {
   "cell_type": "code",
   "execution_count": 262,
   "id": "78b3fc6c",
   "metadata": {},
   "outputs": [
    {
     "name": "stdout",
     "output_type": "stream",
     "text": [
      "              precision    recall  f1-score   support\n",
      "\n",
      "           0       0.62      0.83      0.71       207\n",
      "           1       0.65      0.39      0.48       171\n",
      "\n",
      "    accuracy                           0.63       378\n",
      "   macro avg       0.63      0.61      0.60       378\n",
      "weighted avg       0.63      0.63      0.61       378\n",
      "\n",
      "Accuracy: 0.626984126984127\n"
     ]
    }
   ],
   "source": [
    "rf_pipeline.fit(train['news'],y_train)\n",
    "prediction = rf_pipeline.predict(test['news'])\n",
    "\n",
    "print(classification_report(y_test, prediction))\n",
    "matrix=confusion_matrix(y_test,prediction)\n",
    "score=accuracy_score(y_test,prediction)\n",
    "print(\"Accuracy:\",score)"
   ]
  },
  {
   "cell_type": "code",
   "execution_count": 263,
   "id": "559bfaa9",
   "metadata": {},
   "outputs": [
    {
     "data": {
      "text/plain": [
       "Text(0.5, 15.0, 'Predicted')"
      ]
     },
     "execution_count": 263,
     "metadata": {},
     "output_type": "execute_result"
    },
    {
     "data": {
      "image/png": "[encoded data removed]",
      "text/plain": [
       "<Figure size 432x288 with 2 Axes>"
      ]
     },
     "metadata": {
      "needs_background": "light"
     },
     "output_type": "display_data"
    }
   ],
   "source": [
    "group_names = ['TN','FP','FN','TP']\n",
    "group_counts = [\"{0:0.0f}\".format(value) for value in\n",
    "            matrix.flatten()]\n",
    "group_percentages = [\"{0:.2%}\".format(value) for value in\n",
    "                 matrix.flatten()/np.sum(matrix)]\n",
    "labels = [f\"{v1}\\n{v2}\\n{v3}\" for v1, v2, v3 in\n",
    "      zip(group_names,group_counts,group_percentages)]\n",
    "\n",
    "labels = np.asarray(labels).reshape(2,2)\n",
    "plt.title('Naive Bayes - Confusion Matrix')\n",
    "\n",
    "sns.heatmap(matrix, annot=labels, fmt=\"\", cmap='Reds')\n",
    "plt.ylabel('True Label', fontsize=12)\n",
    "plt.xlabel('Predicted',fontsize=12)"
   ]
  },
  {
   "cell_type": "code",
   "execution_count": null,
   "id": "ac22895f",
   "metadata": {},
   "outputs": [],
   "source": []
  }
 ],
 "metadata": {
  "kernelspec": {
   "display_name": "Python 3 (ipykernel)",
   "language": "python",
   "name": "python3"
  },
  "language_info": {
   "codemirror_mode": {
    "name": "ipython",
    "version": 3
   },
   "file_extension": ".py",
   "mimetype": "text/x-python",
   "name": "python",
   "nbconvert_exporter": "python",
   "pygments_lexer": "ipython3",
   "version": "3.8.13"
  }
 },
 "nbformat": 4,
 "nbformat_minor": 5
}
