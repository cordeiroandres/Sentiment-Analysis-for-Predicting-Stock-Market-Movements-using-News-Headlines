{
 "cells": [
  {
   "cell_type": "code",
   "execution_count": 1,
   "id": "500a1330",
   "metadata": {},
   "outputs": [],
   "source": [
    "import warnings\n",
    "warnings.filterwarnings(\"ignore\")\n",
    "\n",
    "import pandas as pd\n",
    "import numpy as np\n",
    "import seaborn as sns\n",
    "import matplotlib.pyplot as plt\n",
    "from ast import literal_eval\n",
    "from xgboost import XGBClassifier\n",
    "from sklearn.feature_extraction.text import CountVectorizer,TfidfVectorizer,TfidfTransformer\n",
    "from sklearn.metrics import classification_report,confusion_matrix,accuracy_score,roc_curve, auc\n",
    "from sklearn.model_selection import GridSearchCV\n",
    "from sklearn.pipeline import Pipeline\n",
    "from tqdm import tqdm"
   ]
  },
  {
   "cell_type": "code",
   "execution_count": 2,
   "id": "3dae4936",
   "metadata": {},
   "outputs": [],
   "source": [
    "df  = pd.read_csv('dataset/pre_process_all_news_days.csv', encoding = \"ISO-8859-1\", parse_dates=[\"Date\"])"
   ]
  },
  {
   "cell_type": "code",
   "execution_count": 3,
   "id": "90f9e483",
   "metadata": {},
   "outputs": [],
   "source": [
    "#Get the name of the headline columns\n",
    "cols = []\n",
    "for i in range(1,26):\n",
    "    col = (\"Top{}\".format(i))\n",
    "    cols.append(col)"
   ]
  },
  {
   "cell_type": "code",
   "execution_count": 4,
   "id": "abdfd91e",
   "metadata": {},
   "outputs": [
    {
     "name": "stderr",
     "output_type": "stream",
     "text": [
      "100%|██████████| 25/25 [00:02<00:00,  9.51it/s]\n"
     ]
    }
   ],
   "source": [
    "for col in tqdm(cols):\n",
    "    df[col] = df[col].apply(lambda x: literal_eval(x))"
   ]
  },
  {
   "cell_type": "code",
   "execution_count": 5,
   "id": "c2465dbb",
   "metadata": {},
   "outputs": [],
   "source": [
    "from sklearn.metrics import roc_auc_score\n",
    "from sklearn.metrics import roc_curve, auc,precision_score, accuracy_score, recall_score, f1_score\n",
    "\n",
    "def Evaluation (Method,Comment,Actual, Predicted,Scores):\n",
    "    ROC_AUC=roc_auc_score(Actual,Predicted)    \n",
    "    Precision=precision_score(Actual,Predicted)\n",
    "    Accuracy=accuracy_score(Actual,Predicted)\n",
    "    Recall=recall_score(Actual,Predicted)\n",
    "    F1=f1_score(Actual,Predicted)    \n",
    "    Scores[Comment] = {'Method':Method,'ROC_AUC':ROC_AUC,'Accuracy':Accuracy,\n",
    "                       'Precision':Precision,'Recall':Recall,'F1':F1} "
   ]
  },
  {
   "cell_type": "code",
   "execution_count": 6,
   "id": "d2c6bb57",
   "metadata": {},
   "outputs": [],
   "source": [
    "#Creating a Data Pipeline for Naive Bayes classifier classifier - baseline\n",
    "xg_pipeline = Pipeline([\n",
    "    ('bow', CountVectorizer(analyzer=lambda x: x)),  \n",
    "    ('tfidf', TfidfTransformer()),  # integer counts to weighted TF-IDF scores\n",
    "    ('classifier', XGBClassifier()) # train on TF-IDF vectors w/ Naive Bayes classifier\n",
    "])"
   ]
  },
  {
   "cell_type": "code",
   "execution_count": 7,
   "id": "c6c91912",
   "metadata": {},
   "outputs": [],
   "source": [
    "def headlines_analyze(lbl,sc):\n",
    "    df_h = df[['Date',lbl]].copy()\n",
    "    for cl in cols:    \n",
    "        df_h['news'] = df[cl]\n",
    "        train = df_h[df_h['Date']<'20141231']\n",
    "        test = df_h[df_h['Date']>'20141231']\n",
    "        \n",
    "        y_train = train[lbl]\n",
    "        y_test = test[lbl]\n",
    "\n",
    "        xg_pipeline.fit(train['news'],y_train)\n",
    "        predictions = xg_pipeline.predict(test['news'])    \n",
    "        Evaluation ('XGBClassifier()',cl+'_'+lbl,y_test, predictions,sc)"
   ]
  },
  {
   "cell_type": "code",
   "execution_count": 8,
   "id": "d57ec7cc",
   "metadata": {},
   "outputs": [],
   "source": [
    "sc={}\n",
    "for i, lbl in enumerate(['Label','Label_1day','Label_2day', 'Label_3day', 'Label_4day', 'Label_5day']):\n",
    "    headlines_analyze(lbl,sc)"
   ]
  },
  {
   "cell_type": "code",
   "execution_count": 9,
   "id": "f9c906fe",
   "metadata": {},
   "outputs": [
    {
     "data": {
      "text/html": [
       "<div>\n",
       "<style scoped>\n",
       "    .dataframe tbody tr th:only-of-type {\n",
       "        vertical-align: middle;\n",
       "    }\n",
       "\n",
       "    .dataframe tbody tr th {\n",
       "        vertical-align: top;\n",
       "    }\n",
       "\n",
       "    .dataframe thead th {\n",
       "        text-align: right;\n",
       "    }\n",
       "</style>\n",
       "<table border=\"1\" class=\"dataframe\">\n",
       "  <thead>\n",
       "    <tr style=\"text-align: right;\">\n",
       "      <th></th>\n",
       "      <th>Method</th>\n",
       "      <th>ROC_AUC</th>\n",
       "      <th>Accuracy</th>\n",
       "      <th>Precision</th>\n",
       "      <th>Recall</th>\n",
       "      <th>F1</th>\n",
       "    </tr>\n",
       "  </thead>\n",
       "  <tbody>\n",
       "    <tr>\n",
       "      <th>Top23_Label_4day</th>\n",
       "      <td>XGBClassifier()</td>\n",
       "      <td>0.563288</td>\n",
       "      <td>0.579365</td>\n",
       "      <td>0.585859</td>\n",
       "      <td>0.329545</td>\n",
       "      <td>0.421818</td>\n",
       "    </tr>\n",
       "    <tr>\n",
       "      <th>Top9_Label_5day</th>\n",
       "      <td>XGBClassifier()</td>\n",
       "      <td>0.559701</td>\n",
       "      <td>0.574074</td>\n",
       "      <td>0.578431</td>\n",
       "      <td>0.333333</td>\n",
       "      <td>0.422939</td>\n",
       "    </tr>\n",
       "    <tr>\n",
       "      <th>Top19_Label_3day</th>\n",
       "      <td>XGBClassifier()</td>\n",
       "      <td>0.557889</td>\n",
       "      <td>0.571429</td>\n",
       "      <td>0.570093</td>\n",
       "      <td>0.344633</td>\n",
       "      <td>0.429577</td>\n",
       "    </tr>\n",
       "    <tr>\n",
       "      <th>Top25_Label</th>\n",
       "      <td>XGBClassifier()</td>\n",
       "      <td>0.545867</td>\n",
       "      <td>0.547619</td>\n",
       "      <td>0.545455</td>\n",
       "      <td>0.656250</td>\n",
       "      <td>0.595745</td>\n",
       "    </tr>\n",
       "    <tr>\n",
       "      <th>Top19_Label_2day</th>\n",
       "      <td>XGBClassifier()</td>\n",
       "      <td>0.545639</td>\n",
       "      <td>0.560847</td>\n",
       "      <td>0.519685</td>\n",
       "      <td>0.385965</td>\n",
       "      <td>0.442953</td>\n",
       "    </tr>\n",
       "    <tr>\n",
       "      <th>Top13_Label_5day</th>\n",
       "      <td>XGBClassifier()</td>\n",
       "      <td>0.544776</td>\n",
       "      <td>0.558201</td>\n",
       "      <td>0.546296</td>\n",
       "      <td>0.333333</td>\n",
       "      <td>0.414035</td>\n",
       "    </tr>\n",
       "    <tr>\n",
       "      <th>Top1_Label_3day</th>\n",
       "      <td>XGBClassifier()</td>\n",
       "      <td>0.540939</td>\n",
       "      <td>0.555556</td>\n",
       "      <td>0.544554</td>\n",
       "      <td>0.310734</td>\n",
       "      <td>0.395683</td>\n",
       "    </tr>\n",
       "    <tr>\n",
       "      <th>Top25_Label_1day</th>\n",
       "      <td>XGBClassifier()</td>\n",
       "      <td>0.537886</td>\n",
       "      <td>0.539683</td>\n",
       "      <td>0.541096</td>\n",
       "      <td>0.424731</td>\n",
       "      <td>0.475904</td>\n",
       "    </tr>\n",
       "    <tr>\n",
       "      <th>Top25_Label_2day</th>\n",
       "      <td>XGBClassifier()</td>\n",
       "      <td>0.536868</td>\n",
       "      <td>0.552910</td>\n",
       "      <td>0.508065</td>\n",
       "      <td>0.368421</td>\n",
       "      <td>0.427119</td>\n",
       "    </tr>\n",
       "    <tr>\n",
       "      <th>Top2_Label</th>\n",
       "      <td>XGBClassifier()</td>\n",
       "      <td>0.534778</td>\n",
       "      <td>0.537037</td>\n",
       "      <td>0.534979</td>\n",
       "      <td>0.677083</td>\n",
       "      <td>0.597701</td>\n",
       "    </tr>\n",
       "  </tbody>\n",
       "</table>\n",
       "</div>"
      ],
      "text/plain": [
       "                           Method   ROC_AUC  Accuracy  Precision    Recall  \\\n",
       "Top23_Label_4day  XGBClassifier()  0.563288  0.579365   0.585859  0.329545   \n",
       "Top9_Label_5day   XGBClassifier()  0.559701  0.574074   0.578431  0.333333   \n",
       "Top19_Label_3day  XGBClassifier()  0.557889  0.571429   0.570093  0.344633   \n",
       "Top25_Label       XGBClassifier()  0.545867  0.547619   0.545455  0.656250   \n",
       "Top19_Label_2day  XGBClassifier()  0.545639  0.560847   0.519685  0.385965   \n",
       "Top13_Label_5day  XGBClassifier()  0.544776  0.558201   0.546296  0.333333   \n",
       "Top1_Label_3day   XGBClassifier()  0.540939  0.555556   0.544554  0.310734   \n",
       "Top25_Label_1day  XGBClassifier()  0.537886  0.539683   0.541096  0.424731   \n",
       "Top25_Label_2day  XGBClassifier()  0.536868  0.552910   0.508065  0.368421   \n",
       "Top2_Label        XGBClassifier()  0.534778  0.537037   0.534979  0.677083   \n",
       "\n",
       "                        F1  \n",
       "Top23_Label_4day  0.421818  \n",
       "Top9_Label_5day   0.422939  \n",
       "Top19_Label_3day  0.429577  \n",
       "Top25_Label       0.595745  \n",
       "Top19_Label_2day  0.442953  \n",
       "Top13_Label_5day  0.414035  \n",
       "Top1_Label_3day   0.395683  \n",
       "Top25_Label_1day  0.475904  \n",
       "Top25_Label_2day  0.427119  \n",
       "Top2_Label        0.597701  "
      ]
     },
     "execution_count": 9,
     "metadata": {},
     "output_type": "execute_result"
    }
   ],
   "source": [
    "df_sc = pd.DataFrame.from_dict(sc, orient='index')\n",
    "df_sc.sort_values(by=['ROC_AUC','Accuracy'],ascending=False,inplace=True)\n",
    "df_sc.head(10)"
   ]
  },
  {
   "cell_type": "code",
   "execution_count": 10,
   "id": "7b33dd40",
   "metadata": {},
   "outputs": [],
   "source": [
    "def headlines_analyze_two(lbl,sc):\n",
    "    df_h = df[['Date',lbl]].copy()\n",
    "    for i in tqdm(range(1,26)):\n",
    "        col1 = (\"Top{}\".format(i))\n",
    "        for j in range(i+1,26):        \n",
    "            col2 = (\"Top{}\".format(j))\n",
    "            cls = col1+'+'+col2             \n",
    "            df_h['news'] = df[col1]+ df[col2]\n",
    "            train = df_h[df_h['Date']<'20141231']\n",
    "            test = df_h[df_h['Date']>'20141231']\n",
    "            y_train = train[lbl]\n",
    "            y_test = test[lbl]\n",
    "            xg_pipeline.fit(train['news'],y_train)\n",
    "            predictions = xg_pipeline.predict(test['news'])                \n",
    "            Evaluation ('XGBClassifier()',cls+'_'+lbl,y_test, predictions,sc)"
   ]
  },
  {
   "cell_type": "code",
   "execution_count": 11,
   "id": "fedc63b1",
   "metadata": {},
   "outputs": [
    {
     "name": "stderr",
     "output_type": "stream",
     "text": [
      "100%|██████████| 25/25 [11:06<00:00, 26.67s/it]\n",
      "100%|██████████| 25/25 [11:03<00:00, 26.54s/it]\n",
      "100%|██████████| 25/25 [08:59<00:00, 21.60s/it]\n",
      "100%|██████████| 25/25 [07:31<00:00, 18.06s/it]\n",
      "100%|██████████| 25/25 [07:18<00:00, 17.54s/it]\n",
      "100%|██████████| 25/25 [07:26<00:00, 17.87s/it]\n"
     ]
    }
   ],
   "source": [
    "sc_2c={}\n",
    "for i, lbl in enumerate(['Label','Label_1day','Label_2day', 'Label_3day', 'Label_4day', 'Label_5day']):\n",
    "    headlines_analyze_two(lbl,sc_2c)"
   ]
  },
  {
   "cell_type": "code",
   "execution_count": 12,
   "id": "054d1868",
   "metadata": {},
   "outputs": [
    {
     "data": {
      "text/html": [
       "<div>\n",
       "<style scoped>\n",
       "    .dataframe tbody tr th:only-of-type {\n",
       "        vertical-align: middle;\n",
       "    }\n",
       "\n",
       "    .dataframe tbody tr th {\n",
       "        vertical-align: top;\n",
       "    }\n",
       "\n",
       "    .dataframe thead th {\n",
       "        text-align: right;\n",
       "    }\n",
       "</style>\n",
       "<table border=\"1\" class=\"dataframe\">\n",
       "  <thead>\n",
       "    <tr style=\"text-align: right;\">\n",
       "      <th></th>\n",
       "      <th>Method</th>\n",
       "      <th>ROC_AUC</th>\n",
       "      <th>Accuracy</th>\n",
       "      <th>Precision</th>\n",
       "      <th>Recall</th>\n",
       "      <th>F1</th>\n",
       "    </tr>\n",
       "  </thead>\n",
       "  <tbody>\n",
       "    <tr>\n",
       "      <th>Top11+Top12_Label_2day</th>\n",
       "      <td>XGBClassifier()</td>\n",
       "      <td>0.585939</td>\n",
       "      <td>0.600529</td>\n",
       "      <td>0.578125</td>\n",
       "      <td>0.432749</td>\n",
       "      <td>0.494983</td>\n",
       "    </tr>\n",
       "    <tr>\n",
       "      <th>Top1+Top22_Label_1day</th>\n",
       "      <td>XGBClassifier()</td>\n",
       "      <td>0.577705</td>\n",
       "      <td>0.579365</td>\n",
       "      <td>0.590604</td>\n",
       "      <td>0.473118</td>\n",
       "      <td>0.525373</td>\n",
       "    </tr>\n",
       "    <tr>\n",
       "      <th>Top12+Top22_Label_1day</th>\n",
       "      <td>XGBClassifier()</td>\n",
       "      <td>0.572413</td>\n",
       "      <td>0.574074</td>\n",
       "      <td>0.583893</td>\n",
       "      <td>0.467742</td>\n",
       "      <td>0.519403</td>\n",
       "    </tr>\n",
       "    <tr>\n",
       "      <th>Top23+Top24_Label_4day</th>\n",
       "      <td>XGBClassifier()</td>\n",
       "      <td>0.572260</td>\n",
       "      <td>0.584656</td>\n",
       "      <td>0.579832</td>\n",
       "      <td>0.392045</td>\n",
       "      <td>0.467797</td>\n",
       "    </tr>\n",
       "    <tr>\n",
       "      <th>Top10+Top23_Label</th>\n",
       "      <td>XGBClassifier()</td>\n",
       "      <td>0.566952</td>\n",
       "      <td>0.568783</td>\n",
       "      <td>0.562232</td>\n",
       "      <td>0.682292</td>\n",
       "      <td>0.616471</td>\n",
       "    </tr>\n",
       "    <tr>\n",
       "      <th>Top13+Top14_Label_5day</th>\n",
       "      <td>XGBClassifier()</td>\n",
       "      <td>0.566237</td>\n",
       "      <td>0.576720</td>\n",
       "      <td>0.568000</td>\n",
       "      <td>0.401130</td>\n",
       "      <td>0.470199</td>\n",
       "    </tr>\n",
       "    <tr>\n",
       "      <th>Top4+Top16_Label_2day</th>\n",
       "      <td>XGBClassifier()</td>\n",
       "      <td>0.564709</td>\n",
       "      <td>0.576720</td>\n",
       "      <td>0.539568</td>\n",
       "      <td>0.438596</td>\n",
       "      <td>0.483871</td>\n",
       "    </tr>\n",
       "    <tr>\n",
       "      <th>Top1+Top22_Label</th>\n",
       "      <td>XGBClassifier()</td>\n",
       "      <td>0.564348</td>\n",
       "      <td>0.566138</td>\n",
       "      <td>0.560345</td>\n",
       "      <td>0.677083</td>\n",
       "      <td>0.613208</td>\n",
       "    </tr>\n",
       "    <tr>\n",
       "      <th>Top10+Top12_Label_1day</th>\n",
       "      <td>XGBClassifier()</td>\n",
       "      <td>0.563676</td>\n",
       "      <td>0.566138</td>\n",
       "      <td>0.584615</td>\n",
       "      <td>0.408602</td>\n",
       "      <td>0.481013</td>\n",
       "    </tr>\n",
       "    <tr>\n",
       "      <th>Top18+Top20_Label_3day</th>\n",
       "      <td>XGBClassifier()</td>\n",
       "      <td>0.562737</td>\n",
       "      <td>0.574074</td>\n",
       "      <td>0.566667</td>\n",
       "      <td>0.384181</td>\n",
       "      <td>0.457912</td>\n",
       "    </tr>\n",
       "  </tbody>\n",
       "</table>\n",
       "</div>"
      ],
      "text/plain": [
       "                                 Method   ROC_AUC  Accuracy  Precision  \\\n",
       "Top11+Top12_Label_2day  XGBClassifier()  0.585939  0.600529   0.578125   \n",
       "Top1+Top22_Label_1day   XGBClassifier()  0.577705  0.579365   0.590604   \n",
       "Top12+Top22_Label_1day  XGBClassifier()  0.572413  0.574074   0.583893   \n",
       "Top23+Top24_Label_4day  XGBClassifier()  0.572260  0.584656   0.579832   \n",
       "Top10+Top23_Label       XGBClassifier()  0.566952  0.568783   0.562232   \n",
       "Top13+Top14_Label_5day  XGBClassifier()  0.566237  0.576720   0.568000   \n",
       "Top4+Top16_Label_2day   XGBClassifier()  0.564709  0.576720   0.539568   \n",
       "Top1+Top22_Label        XGBClassifier()  0.564348  0.566138   0.560345   \n",
       "Top10+Top12_Label_1day  XGBClassifier()  0.563676  0.566138   0.584615   \n",
       "Top18+Top20_Label_3day  XGBClassifier()  0.562737  0.574074   0.566667   \n",
       "\n",
       "                          Recall        F1  \n",
       "Top11+Top12_Label_2day  0.432749  0.494983  \n",
       "Top1+Top22_Label_1day   0.473118  0.525373  \n",
       "Top12+Top22_Label_1day  0.467742  0.519403  \n",
       "Top23+Top24_Label_4day  0.392045  0.467797  \n",
       "Top10+Top23_Label       0.682292  0.616471  \n",
       "Top13+Top14_Label_5day  0.401130  0.470199  \n",
       "Top4+Top16_Label_2day   0.438596  0.483871  \n",
       "Top1+Top22_Label        0.677083  0.613208  \n",
       "Top10+Top12_Label_1day  0.408602  0.481013  \n",
       "Top18+Top20_Label_3day  0.384181  0.457912  "
      ]
     },
     "execution_count": 12,
     "metadata": {},
     "output_type": "execute_result"
    }
   ],
   "source": [
    "df_sc2 = pd.DataFrame.from_dict(sc_2c, orient='index')\n",
    "df_sc2.sort_values(by=['ROC_AUC','Accuracy'],ascending=False,inplace=True)\n",
    "df_sc2.head(10)"
   ]
  },
  {
   "cell_type": "code",
   "execution_count": 13,
   "id": "249bc5b5",
   "metadata": {},
   "outputs": [],
   "source": [
    "def headlines_analyze_three(lbl,sc):\n",
    "    df_h = df[['Date',lbl]].copy()\n",
    "    for i in tqdm(range(1,26)):\n",
    "        col1 = (\"Top{}\".format(i))\n",
    "        for j in range(i+1,26):        \n",
    "            col2 = (\"Top{}\".format(j))\n",
    "            for k in range(j+1,26):\n",
    "                col3 = (\"Top{}\".format(k))\n",
    "                cls = col1+'+'+col2+'+'+col3\n",
    "                df_h['news'] = df[col1]+ df[col2]+ df[col3]\n",
    "                train = df_h[df_h['Date']<'20141231']\n",
    "                test = df_h[df_h['Date']>'20141231']\n",
    "                y_train = train[lbl]\n",
    "                y_test = test[lbl]\n",
    "                xg_pipeline.fit(train['news'],y_train)\n",
    "                predictions = xg_pipeline.predict(test['news'])                \n",
    "                Evaluation ('XGBClassifier()',cls+'_'+lbl,y_test, predictions,sc)"
   ]
  },
  {
   "cell_type": "code",
   "execution_count": null,
   "id": "9e6f7230",
   "metadata": {},
   "outputs": [
    {
     "name": "stderr",
     "output_type": "stream",
     "text": [
      "100%|██████████| 25/25 [1:28:31<00:00, 212.47s/it]  \n",
      "100%|██████████| 25/25 [1:35:21<00:00, 228.87s/it]  \n",
      "100%|██████████| 25/25 [1:17:39<00:00, 186.36s/it]  \n",
      " 40%|████      | 10/25 [1:17:30<1:30:45, 363.04s/it]"
     ]
    }
   ],
   "source": [
    "sc_3c={}\n",
    "for i, lbl in enumerate(['Label','Label_1day','Label_2day', 'Label_3day', 'Label_4day', 'Label_5day']):\n",
    "    headlines_analyze_three(lbl,sc_3c)"
   ]
  },
  {
   "cell_type": "code",
   "execution_count": 16,
   "id": "300fe5fc",
   "metadata": {},
   "outputs": [
    {
     "data": {
      "text/html": [
       "<div>\n",
       "<style scoped>\n",
       "    .dataframe tbody tr th:only-of-type {\n",
       "        vertical-align: middle;\n",
       "    }\n",
       "\n",
       "    .dataframe tbody tr th {\n",
       "        vertical-align: top;\n",
       "    }\n",
       "\n",
       "    .dataframe thead th {\n",
       "        text-align: right;\n",
       "    }\n",
       "</style>\n",
       "<table border=\"1\" class=\"dataframe\">\n",
       "  <thead>\n",
       "    <tr style=\"text-align: right;\">\n",
       "      <th></th>\n",
       "      <th>Method</th>\n",
       "      <th>ROC_AUC</th>\n",
       "      <th>Accuracy</th>\n",
       "      <th>Precision</th>\n",
       "      <th>Recall</th>\n",
       "      <th>F1</th>\n",
       "    </tr>\n",
       "  </thead>\n",
       "  <tbody>\n",
       "    <tr>\n",
       "      <th>Top8+Top20+Top23_Label_1day</th>\n",
       "      <td>XGBClassifier()</td>\n",
       "      <td>0.594086</td>\n",
       "      <td>0.595238</td>\n",
       "      <td>0.602484</td>\n",
       "      <td>0.521505</td>\n",
       "      <td>0.559078</td>\n",
       "    </tr>\n",
       "    <tr>\n",
       "      <th>Top5+Top19+Top20_Label_3day</th>\n",
       "      <td>XGBClassifier()</td>\n",
       "      <td>0.591534</td>\n",
       "      <td>0.597884</td>\n",
       "      <td>0.583893</td>\n",
       "      <td>0.491525</td>\n",
       "      <td>0.533742</td>\n",
       "    </tr>\n",
       "    <tr>\n",
       "      <th>Top8+Top9+Top23_Label</th>\n",
       "      <td>XGBClassifier()</td>\n",
       "      <td>0.588374</td>\n",
       "      <td>0.589947</td>\n",
       "      <td>0.581498</td>\n",
       "      <td>0.687500</td>\n",
       "      <td>0.630072</td>\n",
       "    </tr>\n",
       "    <tr>\n",
       "      <th>Top12+Top17+Top18_Label_1day</th>\n",
       "      <td>XGBClassifier()</td>\n",
       "      <td>0.587366</td>\n",
       "      <td>0.589947</td>\n",
       "      <td>0.622047</td>\n",
       "      <td>0.424731</td>\n",
       "      <td>0.504792</td>\n",
       "    </tr>\n",
       "    <tr>\n",
       "      <th>Top6+Top9+Top25_Label</th>\n",
       "      <td>XGBClassifier()</td>\n",
       "      <td>0.583417</td>\n",
       "      <td>0.584656</td>\n",
       "      <td>0.579909</td>\n",
       "      <td>0.661458</td>\n",
       "      <td>0.618005</td>\n",
       "    </tr>\n",
       "    <tr>\n",
       "      <th>Top3+Top6+Top11_Label_2day</th>\n",
       "      <td>XGBClassifier()</td>\n",
       "      <td>0.582888</td>\n",
       "      <td>0.600529</td>\n",
       "      <td>0.586207</td>\n",
       "      <td>0.397661</td>\n",
       "      <td>0.473868</td>\n",
       "    </tr>\n",
       "    <tr>\n",
       "      <th>Top8+Top20+Top23_Label</th>\n",
       "      <td>XGBClassifier()</td>\n",
       "      <td>0.580561</td>\n",
       "      <td>0.582011</td>\n",
       "      <td>0.575893</td>\n",
       "      <td>0.671875</td>\n",
       "      <td>0.620192</td>\n",
       "    </tr>\n",
       "    <tr>\n",
       "      <th>Top4+Top9+Top11_Label_2day</th>\n",
       "      <td>XGBClassifier()</td>\n",
       "      <td>0.580473</td>\n",
       "      <td>0.597884</td>\n",
       "      <td>0.581197</td>\n",
       "      <td>0.397661</td>\n",
       "      <td>0.472222</td>\n",
       "    </tr>\n",
       "    <tr>\n",
       "      <th>Top13+Top23+Top25_Label_1day</th>\n",
       "      <td>XGBClassifier()</td>\n",
       "      <td>0.580393</td>\n",
       "      <td>0.582011</td>\n",
       "      <td>0.593333</td>\n",
       "      <td>0.478495</td>\n",
       "      <td>0.529762</td>\n",
       "    </tr>\n",
       "    <tr>\n",
       "      <th>Top6+Top13+Top16_Label_2day</th>\n",
       "      <td>XGBClassifier()</td>\n",
       "      <td>0.578947</td>\n",
       "      <td>0.597884</td>\n",
       "      <td>0.585586</td>\n",
       "      <td>0.380117</td>\n",
       "      <td>0.460993</td>\n",
       "    </tr>\n",
       "  </tbody>\n",
       "</table>\n",
       "</div>"
      ],
      "text/plain": [
       "                                       Method   ROC_AUC  Accuracy  Precision  \\\n",
       "Top8+Top20+Top23_Label_1day   XGBClassifier()  0.594086  0.595238   0.602484   \n",
       "Top5+Top19+Top20_Label_3day   XGBClassifier()  0.591534  0.597884   0.583893   \n",
       "Top8+Top9+Top23_Label         XGBClassifier()  0.588374  0.589947   0.581498   \n",
       "Top12+Top17+Top18_Label_1day  XGBClassifier()  0.587366  0.589947   0.622047   \n",
       "Top6+Top9+Top25_Label         XGBClassifier()  0.583417  0.584656   0.579909   \n",
       "Top3+Top6+Top11_Label_2day    XGBClassifier()  0.582888  0.600529   0.586207   \n",
       "Top8+Top20+Top23_Label        XGBClassifier()  0.580561  0.582011   0.575893   \n",
       "Top4+Top9+Top11_Label_2day    XGBClassifier()  0.580473  0.597884   0.581197   \n",
       "Top13+Top23+Top25_Label_1day  XGBClassifier()  0.580393  0.582011   0.593333   \n",
       "Top6+Top13+Top16_Label_2day   XGBClassifier()  0.578947  0.597884   0.585586   \n",
       "\n",
       "                                Recall        F1  \n",
       "Top8+Top20+Top23_Label_1day   0.521505  0.559078  \n",
       "Top5+Top19+Top20_Label_3day   0.491525  0.533742  \n",
       "Top8+Top9+Top23_Label         0.687500  0.630072  \n",
       "Top12+Top17+Top18_Label_1day  0.424731  0.504792  \n",
       "Top6+Top9+Top25_Label         0.661458  0.618005  \n",
       "Top3+Top6+Top11_Label_2day    0.397661  0.473868  \n",
       "Top8+Top20+Top23_Label        0.671875  0.620192  \n",
       "Top4+Top9+Top11_Label_2day    0.397661  0.472222  \n",
       "Top13+Top23+Top25_Label_1day  0.478495  0.529762  \n",
       "Top6+Top13+Top16_Label_2day   0.380117  0.460993  "
      ]
     },
     "execution_count": 16,
     "metadata": {},
     "output_type": "execute_result"
    }
   ],
   "source": [
    "df_sc3 = pd.DataFrame.from_dict(sc_3c, orient='index')\n",
    "df_sc3.sort_values(by=['ROC_AUC','Accuracy'],ascending=False,inplace=True)\n",
    "df_sc3.head(10)"
   ]
  },
  {
   "cell_type": "code",
   "execution_count": 21,
   "id": "d648f28c",
   "metadata": {},
   "outputs": [],
   "source": [
    "def analyze_all_news(lbl):\n",
    "    df_h = df[['Date',lbl]].copy()\n",
    "    df_h['news'] = df['news_stemmed']\n",
    "    train = df_h[df_h['Date']<'20141231']\n",
    "    test = df_h[df_h['Date']>'20141231']\n",
    "    y_train = train[lbl]\n",
    "    y_test = test[lbl]\n",
    "    xg_pipeline.fit(train['news'],y_train)\n",
    "    predictions = xg_pipeline.predict(test['news'])                \n",
    "    Evaluation ('XGBClassifier()','news_stemmed'+lbl,y_test, predictions,sc_news)"
   ]
  },
  {
   "cell_type": "code",
   "execution_count": 22,
   "id": "dbef0a2d",
   "metadata": {},
   "outputs": [],
   "source": [
    "sc_news={}\n",
    "for i, lbl in enumerate(['Label','Label_1day','Label_2day', 'Label_3day', 'Label_4day', 'Label_5day']):\n",
    "    analyze_all_news(lbl)"
   ]
  },
  {
   "cell_type": "code",
   "execution_count": 23,
   "id": "5a5fdb13",
   "metadata": {},
   "outputs": [
    {
     "data": {
      "text/html": [
       "<div>\n",
       "<style scoped>\n",
       "    .dataframe tbody tr th:only-of-type {\n",
       "        vertical-align: middle;\n",
       "    }\n",
       "\n",
       "    .dataframe tbody tr th {\n",
       "        vertical-align: top;\n",
       "    }\n",
       "\n",
       "    .dataframe thead th {\n",
       "        text-align: right;\n",
       "    }\n",
       "</style>\n",
       "<table border=\"1\" class=\"dataframe\">\n",
       "  <thead>\n",
       "    <tr style=\"text-align: right;\">\n",
       "      <th></th>\n",
       "      <th>Method</th>\n",
       "      <th>ROC_AUC</th>\n",
       "      <th>Accuracy</th>\n",
       "      <th>Precision</th>\n",
       "      <th>Recall</th>\n",
       "      <th>F1</th>\n",
       "    </tr>\n",
       "  </thead>\n",
       "  <tbody>\n",
       "    <tr>\n",
       "      <th>news_stemmedLabel_3day</th>\n",
       "      <td>XGBClassifier()</td>\n",
       "      <td>0.535500</td>\n",
       "      <td>0.547619</td>\n",
       "      <td>0.525862</td>\n",
       "      <td>0.344633</td>\n",
       "      <td>0.416382</td>\n",
       "    </tr>\n",
       "    <tr>\n",
       "      <th>news_stemmedLabel_1day</th>\n",
       "      <td>XGBClassifier()</td>\n",
       "      <td>0.532426</td>\n",
       "      <td>0.534392</td>\n",
       "      <td>0.535211</td>\n",
       "      <td>0.408602</td>\n",
       "      <td>0.463415</td>\n",
       "    </tr>\n",
       "    <tr>\n",
       "      <th>news_stemmedLabel_4day</th>\n",
       "      <td>XGBClassifier()</td>\n",
       "      <td>0.517721</td>\n",
       "      <td>0.529101</td>\n",
       "      <td>0.492063</td>\n",
       "      <td>0.352273</td>\n",
       "      <td>0.410596</td>\n",
       "    </tr>\n",
       "    <tr>\n",
       "      <th>news_stemmedLabel_2day</th>\n",
       "      <td>XGBClassifier()</td>\n",
       "      <td>0.483982</td>\n",
       "      <td>0.500000</td>\n",
       "      <td>0.428571</td>\n",
       "      <td>0.315789</td>\n",
       "      <td>0.363636</td>\n",
       "    </tr>\n",
       "    <tr>\n",
       "      <th>news_stemmedLabel</th>\n",
       "      <td>XGBClassifier()</td>\n",
       "      <td>0.479671</td>\n",
       "      <td>0.481481</td>\n",
       "      <td>0.491379</td>\n",
       "      <td>0.593750</td>\n",
       "      <td>0.537736</td>\n",
       "    </tr>\n",
       "    <tr>\n",
       "      <th>news_stemmedLabel_5day</th>\n",
       "      <td>XGBClassifier()</td>\n",
       "      <td>0.462602</td>\n",
       "      <td>0.476190</td>\n",
       "      <td>0.403670</td>\n",
       "      <td>0.248588</td>\n",
       "      <td>0.307692</td>\n",
       "    </tr>\n",
       "  </tbody>\n",
       "</table>\n",
       "</div>"
      ],
      "text/plain": [
       "                                 Method   ROC_AUC  Accuracy  Precision  \\\n",
       "news_stemmedLabel_3day  XGBClassifier()  0.535500  0.547619   0.525862   \n",
       "news_stemmedLabel_1day  XGBClassifier()  0.532426  0.534392   0.535211   \n",
       "news_stemmedLabel_4day  XGBClassifier()  0.517721  0.529101   0.492063   \n",
       "news_stemmedLabel_2day  XGBClassifier()  0.483982  0.500000   0.428571   \n",
       "news_stemmedLabel       XGBClassifier()  0.479671  0.481481   0.491379   \n",
       "news_stemmedLabel_5day  XGBClassifier()  0.462602  0.476190   0.403670   \n",
       "\n",
       "                          Recall        F1  \n",
       "news_stemmedLabel_3day  0.344633  0.416382  \n",
       "news_stemmedLabel_1day  0.408602  0.463415  \n",
       "news_stemmedLabel_4day  0.352273  0.410596  \n",
       "news_stemmedLabel_2day  0.315789  0.363636  \n",
       "news_stemmedLabel       0.593750  0.537736  \n",
       "news_stemmedLabel_5day  0.248588  0.307692  "
      ]
     },
     "execution_count": 23,
     "metadata": {},
     "output_type": "execute_result"
    }
   ],
   "source": [
    "df_sc_news = pd.DataFrame.from_dict(sc_news, orient='index')\n",
    "df_sc_news.sort_values(by=['ROC_AUC','Accuracy'],ascending=False,inplace=True)\n",
    "df_sc_news"
   ]
  },
  {
   "cell_type": "markdown",
   "id": "d5faeaa2",
   "metadata": {},
   "source": [
    "# Parameters Tuning"
   ]
  },
  {
   "cell_type": "markdown",
   "id": "2d0acd95",
   "metadata": {},
   "source": [
    "## One Headline"
   ]
  },
  {
   "cell_type": "code",
   "execution_count": 46,
   "id": "03c496cc",
   "metadata": {},
   "outputs": [],
   "source": [
    "xg_pipeline = Pipeline([\n",
    "    ('vect', CountVectorizer(analyzer=lambda x: x)),  \n",
    "    ('tfidf', TfidfTransformer()),\n",
    "    ('clf', XGBClassifier()) ])"
   ]
  },
  {
   "cell_type": "code",
   "execution_count": 87,
   "id": "a885b587",
   "metadata": {},
   "outputs": [],
   "source": [
    "params = {'vect__ngram_range': [(1, 1), (1, 2), (2, 2)],\n",
    "          'vect__max_features': (100,10000),                    \n",
    "          'clf__max_depth': (4, 6, 8),\n",
    "          'clf__min_child_weight': (4, 8, 13)}   "
   ]
  },
  {
   "cell_type": "code",
   "execution_count": 88,
   "id": "a8e68b2a",
   "metadata": {},
   "outputs": [],
   "source": [
    "df_h = df[['Date','Label_1day','Top25']].copy()   \n",
    "train = df_h[df_h['Date']<'20141231']\n",
    "test = df_h[df_h['Date']>'20141231']\n",
    "y_train = train['Label_1day']\n",
    "y_test = test['Label_1day']"
   ]
  },
  {
   "cell_type": "code",
   "execution_count": 89,
   "id": "5a8413d0",
   "metadata": {},
   "outputs": [],
   "source": [
    "gs = GridSearchCV(estimator=xg_pipeline, param_grid=params, n_jobs=-1, cv=4)\n",
    "gs_results = gs.fit(train['Top25'], y_train)"
   ]
  },
  {
   "cell_type": "code",
   "execution_count": 90,
   "id": "035bd1a2",
   "metadata": {},
   "outputs": [
    {
     "name": "stdout",
     "output_type": "stream",
     "text": [
      "best parameters:\n",
      "{'clf__max_depth': 6, 'clf__min_child_weight': 4, 'vect__max_features': 100, 'vect__ngram_range': (1, 1)}\n",
      "accuracy: 0.5577648358702764\n"
     ]
    }
   ],
   "source": [
    "print(f\"best parameters:\\n{gs_results.best_params_}\\naccuracy: {gs_results.best_score_}\")"
   ]
  },
  {
   "cell_type": "code",
   "execution_count": 97,
   "id": "1706c019",
   "metadata": {},
   "outputs": [],
   "source": [
    "xg_pipe = Pipeline([    \n",
    "    ('vect', CountVectorizer(min_df=1,ngram_range=(1,1),analyzer=lambda x: x )),  #min_df=5, max_features=10000, \n",
    "    ('tfidf', TfidfTransformer(use_idf=True)),  #, norm='l2'  use_idf=False\n",
    "    ('clf', XGBClassifier(#max_depth=6,\n",
    "                          #min_child_weight= 4                                   \n",
    "                          )) ])"
   ]
  },
  {
   "cell_type": "code",
   "execution_count": 98,
   "id": "6e2d7b43",
   "metadata": {},
   "outputs": [
    {
     "name": "stdout",
     "output_type": "stream",
     "text": [
      "              precision    recall  f1-score   support\n",
      "\n",
      "           0       0.55      0.72      0.62       192\n",
      "           1       0.58      0.40      0.47       186\n",
      "\n",
      "    accuracy                           0.56       378\n",
      "   macro avg       0.57      0.56      0.55       378\n",
      "weighted avg       0.56      0.56      0.55       378\n",
      "\n",
      "Accuracy: 0.5608465608465608\n"
     ]
    }
   ],
   "source": [
    "xg_pipe.fit(train['Top25'],y_train)\n",
    "prediction = xg_pipe.predict(test['Top25'])\n",
    "\n",
    "print(classification_report(y_test, prediction))\n",
    "matrix=confusion_matrix(y_test,prediction)\n",
    "score=accuracy_score(y_test,prediction)\n",
    "print(\"Accuracy:\",score)"
   ]
  },
  {
   "cell_type": "code",
   "execution_count": 99,
   "id": "b1d6fa58",
   "metadata": {},
   "outputs": [
    {
     "data": {
      "text/plain": [
       "Text(0.5, 15.0, 'Predicted')"
      ]
     },
     "execution_count": 99,
     "metadata": {},
     "output_type": "execute_result"
    },
    {
     "data": {
      "image/png": "[encoded data removed]",
      "text/plain": [
       "<Figure size 432x288 with 2 Axes>"
      ]
     },
     "metadata": {
      "needs_background": "light"
     },
     "output_type": "display_data"
    }
   ],
   "source": [
    "group_names = ['TN','FP','FN','TP']\n",
    "group_counts = [\"{0:0.0f}\".format(value) for value in\n",
    "            matrix.flatten()]\n",
    "group_percentages = [\"{0:.2%}\".format(value) for value in\n",
    "                 matrix.flatten()/np.sum(matrix)]\n",
    "labels = [f\"{v1}\\n{v2}\\n{v3}\" for v1, v2, v3 in\n",
    "      zip(group_names,group_counts,group_percentages)]\n",
    "\n",
    "labels = np.asarray(labels).reshape(2,2)\n",
    "plt.title('XGBoost - Confusion Matrix')\n",
    "\n",
    "sns.heatmap(matrix, annot=labels, fmt=\"\", cmap='Reds')\n",
    "plt.ylabel('Actual Values', fontsize=12)\n",
    "plt.xlabel('Predicted Values',fontsize=12)\n",
    "plt.show()"
   ]
  },
  {
   "cell_type": "markdown",
   "id": "d73d6481",
   "metadata": {},
   "source": [
    "## Two Headlines"
   ]
  },
  {
   "cell_type": "code",
   "execution_count": 100,
   "id": "019922ae",
   "metadata": {},
   "outputs": [],
   "source": [
    "xg_pipeline = Pipeline([\n",
    "    ('vect', CountVectorizer(analyzer=lambda x: x)),  \n",
    "    ('tfidf', TfidfTransformer()),\n",
    "    ('clf', XGBClassifier()) ])"
   ]
  },
  {
   "cell_type": "code",
   "execution_count": 101,
   "id": "53f6763d",
   "metadata": {},
   "outputs": [],
   "source": [
    "params = {'vect__ngram_range': [(1, 1), (1, 2)],\n",
    "          'vect__max_features': (10000,15000),                    \n",
    "          'clf__max_depth': (4, 6, 8),\n",
    "          'clf__min_child_weight': (4, 8, 13)}          "
   ]
  },
  {
   "cell_type": "code",
   "execution_count": 102,
   "id": "f8155bf5",
   "metadata": {},
   "outputs": [],
   "source": [
    "df_h = df[['Date','Label_2day','Top6','Top16']].copy()   \n",
    "df_h['news'] = df_h['Top6']+df_h['Top16']\n",
    "train = df_h[df_h['Date']<'20141231']\n",
    "test = df_h[df_h['Date']>'20141231']\n",
    "y_train = train['Label_2day']\n",
    "y_test = test['Label_2day']"
   ]
  },
  {
   "cell_type": "code",
   "execution_count": 103,
   "id": "196ef213",
   "metadata": {},
   "outputs": [],
   "source": [
    "gs = GridSearchCV(estimator=xg_pipeline, param_grid=params, n_jobs=-1, cv=4)\n",
    "gs_results = gs.fit(train['news'], y_train)"
   ]
  },
  {
   "cell_type": "code",
   "execution_count": 104,
   "id": "fdf65a34",
   "metadata": {},
   "outputs": [
    {
     "name": "stdout",
     "output_type": "stream",
     "text": [
      "best parameters:\n",
      "{'clf__max_depth': 6, 'clf__min_child_weight': 13, 'vect__max_features': 10000, 'vect__ngram_range': (1, 1)}\n",
      "accuracy: 0.5366406182487069\n"
     ]
    }
   ],
   "source": [
    "print(f\"best parameters:\\n{gs_results.best_params_}\\naccuracy: {gs_results.best_score_}\")"
   ]
  },
  {
   "cell_type": "code",
   "execution_count": 119,
   "id": "c22326b2",
   "metadata": {},
   "outputs": [],
   "source": [
    "xg_pipe = Pipeline([    \n",
    "    ('vect', CountVectorizer(min_df=5, max_features=10000, ngram_range=(1,1), analyzer=lambda x: x )),  #min_df=5, max_features=10000,ngram_range=(1,2), \n",
    "    ('tfidf', TfidfTransformer(use_idf=True)),  #, norm='l2'  use_idf=False\n",
    "    ('clf', XGBClassifier(max_depth=6,\n",
    "                          min_child_weight= 13                                  \n",
    "                          )) ])"
   ]
  },
  {
   "cell_type": "code",
   "execution_count": 120,
   "id": "0edee69a",
   "metadata": {},
   "outputs": [
    {
     "name": "stdout",
     "output_type": "stream",
     "text": [
      "              precision    recall  f1-score   support\n",
      "\n",
      "           0       0.61      0.73      0.67       207\n",
      "           1       0.58      0.44      0.50       171\n",
      "\n",
      "    accuracy                           0.60       378\n",
      "   macro avg       0.59      0.59      0.58       378\n",
      "weighted avg       0.60      0.60      0.59       378\n",
      "\n",
      "Accuracy: 0.6005291005291006\n"
     ]
    }
   ],
   "source": [
    "xg_pipeline.fit(train['news'],y_train)\n",
    "prediction = xg_pipeline.predict(test['news'])\n",
    "\n",
    "print(classification_report(y_test, prediction))\n",
    "matrix=confusion_matrix(y_test,prediction)\n",
    "score=accuracy_score(y_test,prediction)\n",
    "print(\"Accuracy:\",score)"
   ]
  },
  {
   "cell_type": "code",
   "execution_count": 121,
   "id": "f2da783e",
   "metadata": {},
   "outputs": [
    {
     "data": {
      "text/plain": [
       "Text(0.5, 15.0, 'Predicted')"
      ]
     },
     "execution_count": 121,
     "metadata": {},
     "output_type": "execute_result"
    },
    {
     "data": {
      "image/png": "[encoded data removed]",
      "text/plain": [
       "<Figure size 432x288 with 2 Axes>"
      ]
     },
     "metadata": {
      "needs_background": "light"
     },
     "output_type": "display_data"
    }
   ],
   "source": [
    "group_names = ['TN','FP','FN','TP']\n",
    "group_counts = [\"{0:0.0f}\".format(value) for value in\n",
    "            matrix.flatten()]\n",
    "group_percentages = [\"{0:.2%}\".format(value) for value in\n",
    "                 matrix.flatten()/np.sum(matrix)]\n",
    "labels = [f\"{v1}\\n{v2}\\n{v3}\" for v1, v2, v3 in\n",
    "      zip(group_names,group_counts,group_percentages)]\n",
    "\n",
    "labels = np.asarray(labels).reshape(2,2)\n",
    "plt.title('XGBoost - Confusion Matrix')\n",
    "\n",
    "sns.heatmap(matrix, annot=labels, fmt=\"\", cmap='Reds')\n",
    "plt.ylabel('True Label', fontsize=12)\n",
    "plt.xlabel('Predicted',fontsize=12)"
   ]
  },
  {
   "cell_type": "markdown",
   "id": "b52a1ef0",
   "metadata": {},
   "source": [
    "## Three Headlines "
   ]
  },
  {
   "cell_type": "code",
   "execution_count": 122,
   "id": "4bad30d4",
   "metadata": {},
   "outputs": [],
   "source": [
    "xg_pipeline = Pipeline([\n",
    "    ('vect', CountVectorizer(analyzer=lambda x: x)),  \n",
    "    ('tfidf', TfidfTransformer()),\n",
    "    ('clf', XGBClassifier()) ])"
   ]
  },
  {
   "cell_type": "code",
   "execution_count": 164,
   "id": "5733a3f2",
   "metadata": {},
   "outputs": [],
   "source": [
    "params = {'vect__ngram_range': [(1, 1), (1, 2)],\n",
    "          'vect__max_features': (1,10),                    \n",
    "          'clf__max_depth': (2, 4),\n",
    "          'clf__min_child_weight': (2,4),\n",
    "          'clf__gamma':(4,5),\n",
    "          'clf__reg_alpha':(10,15),\n",
    "          'clf__reg_lambda':(0.5,1)}   "
   ]
  },
  {
   "cell_type": "code",
   "execution_count": 165,
   "id": "ab4ce49b",
   "metadata": {},
   "outputs": [],
   "source": [
    "df_h = df[['Date','Label_4day','Top1','Top6','Top23']].copy()   \n",
    "df_h['news'] = df_h['Top1']+df_h['Top6']+df_h['Top23']\n",
    "train = df_h[df_h['Date']<'20141231']\n",
    "test = df_h[df_h['Date']>'20141231']\n",
    "y_train = train['Label_4day']\n",
    "y_test = test['Label_4day']"
   ]
  },
  {
   "cell_type": "code",
   "execution_count": 166,
   "id": "2be8a861",
   "metadata": {},
   "outputs": [],
   "source": [
    "gs = GridSearchCV(estimator=xg_pipeline, param_grid=params, n_jobs=-1, cv=4)\n",
    "gs_results = gs.fit(train['news'], y_train)"
   ]
  },
  {
   "cell_type": "code",
   "execution_count": 167,
   "id": "a5fb1b7f",
   "metadata": {},
   "outputs": [
    {
     "name": "stdout",
     "output_type": "stream",
     "text": [
      "best parameters:\n",
      "{'clf__gamma': 4, 'clf__max_depth': 2, 'clf__min_child_weight': 2, 'clf__reg_alpha': 10, 'clf__reg_lambda': 0.5, 'vect__max_features': 1, 'vect__ngram_range': (1, 1)}\n",
      "accuracy: 0.5770187523918867\n"
     ]
    }
   ],
   "source": [
    "print(f\"best parameters:\\n{gs_results.best_params_}\\naccuracy: {gs_results.best_score_}\")"
   ]
  },
  {
   "cell_type": "code",
   "execution_count": 168,
   "id": "8cb2e774",
   "metadata": {},
   "outputs": [],
   "source": [
    "xg_pipe = Pipeline([    \n",
    "    ('vect', CountVectorizer(max_features=10,ngram_range=(1,1), analyzer=lambda x: x )),  #min_df=5, max_features=10000,ngram_range=(1,1), \n",
    "    ('tfidf', TfidfTransformer(use_idf=False)),  #, norm='l2'  use_idf=False\n",
    "    ('clf', XGBClassifier(max_depth=2,\n",
    "                          min_child_wight=2,\n",
    "                          reg_lambda=0.5,\n",
    "                          reg_alpha=10,\n",
    "                          gamma=4\n",
    "                          )) ])"
   ]
  },
  {
   "cell_type": "code",
   "execution_count": 169,
   "id": "78b3fc6c",
   "metadata": {},
   "outputs": [
    {
     "name": "stdout",
     "output_type": "stream",
     "text": [
      "              precision    recall  f1-score   support\n",
      "\n",
      "           0       0.61      0.77      0.68       202\n",
      "           1       0.62      0.44      0.52       176\n",
      "\n",
      "    accuracy                           0.62       378\n",
      "   macro avg       0.62      0.61      0.60       378\n",
      "weighted avg       0.62      0.62      0.61       378\n",
      "\n",
      "Accuracy: 0.6164021164021164\n"
     ]
    }
   ],
   "source": [
    "xg_pipeline.fit(train['news'],y_train)\n",
    "prediction = xg_pipeline.predict(test['news'])\n",
    "\n",
    "print(classification_report(y_test, prediction))\n",
    "matrix=confusion_matrix(y_test,prediction)\n",
    "score=accuracy_score(y_test,prediction)\n",
    "print(\"Accuracy:\",score)"
   ]
  },
  {
   "cell_type": "code",
   "execution_count": 170,
   "id": "559bfaa9",
   "metadata": {},
   "outputs": [
    {
     "data": {
      "text/plain": [
       "Text(0.5, 15.0, 'Predicted')"
      ]
     },
     "execution_count": 170,
     "metadata": {},
     "output_type": "execute_result"
    },
    {
     "data": {
      "image/png": "[encoded data removed]",
      "text/plain": [
       "<Figure size 432x288 with 2 Axes>"
      ]
     },
     "metadata": {
      "needs_background": "light"
     },
     "output_type": "display_data"
    }
   ],
   "source": [
    "group_names = ['TN','FP','FN','TP']\n",
    "group_counts = [\"{0:0.0f}\".format(value) for value in\n",
    "            matrix.flatten()]\n",
    "group_percentages = [\"{0:.2%}\".format(value) for value in\n",
    "                 matrix.flatten()/np.sum(matrix)]\n",
    "labels = [f\"{v1}\\n{v2}\\n{v3}\" for v1, v2, v3 in\n",
    "      zip(group_names,group_counts,group_percentages)]\n",
    "\n",
    "labels = np.asarray(labels).reshape(2,2)\n",
    "plt.title('XGBoost - Confusion Matrix')\n",
    "\n",
    "sns.heatmap(matrix, annot=labels, fmt=\"\", cmap='Reds')\n",
    "plt.ylabel('True Label', fontsize=12)\n",
    "plt.xlabel('Predicted',fontsize=12)"
   ]
  },
  {
   "cell_type": "code",
   "execution_count": 171,
   "id": "f9af1fe8",
   "metadata": {},
   "outputs": [
    {
     "data": {
      "image/png": "[encoded data removed]",
      "text/plain": [
       "<Figure size 432x288 with 1 Axes>"
      ]
     },
     "metadata": {
      "needs_background": "light"
     },
     "output_type": "display_data"
    }
   ],
   "source": [
    "# y_test contains the true labels for the test set, y_pred contains the predicted labels or probabilities\n",
    "fpr, tpr, thresholds = roc_curve(y_test,prediction)\n",
    "\n",
    "# calculate the area under the ROC curve (AUC)\n",
    "roc_auc = auc(fpr, tpr)\n",
    "# plot the ROC curve\n",
    "plt.plot(fpr, tpr, color='darkorange', lw=2, label='ROC curve (area = %0.2f)' % roc_auc)\n",
    "plt.plot([0, 1], [0, 1], color='navy', lw=2, linestyle='--')\n",
    "plt.xlabel('False Positive Rate')\n",
    "plt.ylabel('True Positive Rate')\n",
    "plt.title('Receiver Operating Characteristic (ROC) Curve')\n",
    "plt.legend(loc=\"lower right\")\n",
    "plt.show()"
   ]
  },
  {
   "cell_type": "code",
   "execution_count": null,
   "id": "adfe5050",
   "metadata": {},
   "outputs": [],
   "source": []
  }
 ],
 "metadata": {
  "kernelspec": {
   "display_name": "Python 3 (ipykernel)",
   "language": "python",
   "name": "python3"
  },
  "language_info": {
   "codemirror_mode": {
    "name": "ipython",
    "version": 3
   },
   "file_extension": ".py",
   "mimetype": "text/x-python",
   "name": "python",
   "nbconvert_exporter": "python",
   "pygments_lexer": "ipython3",
   "version": "3.8.13"
  }
 },
 "nbformat": 4,
 "nbformat_minor": 5
}
