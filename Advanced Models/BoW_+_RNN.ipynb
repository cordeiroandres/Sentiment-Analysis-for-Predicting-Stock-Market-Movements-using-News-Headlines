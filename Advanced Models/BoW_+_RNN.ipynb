{
  "cells": [
    {
      "cell_type": "code",
      "source": [
        "!pip install keras_preprocessing"
      ],
      "metadata": {
        "colab": {
          "base_uri": "https://localhost:8080/"
        },
        "id": "-0btMHNYvEtb",
        "outputId": "4cf4aa75-d274-430c-d15a-db4dace39f99"
      },
      "id": "-0btMHNYvEtb",
      "execution_count": null,
      "outputs": [
        {
          "output_type": "stream",
          "name": "stdout",
          "text": [
            "Looking in indexes: https://pypi.org/simple, https://us-python.pkg.dev/colab-wheels/public/simple/\n",
            "Collecting keras_preprocessing\n",
            "  Downloading Keras_Preprocessing-1.1.2-py2.py3-none-any.whl (42 kB)\n",
            "\u001b[2K     \u001b[90m━━━━━━━━━━━━━━━━━━━━━━━━━━━━━━━━━━━━━━━━\u001b[0m \u001b[32m42.6/42.6 kB\u001b[0m \u001b[31m2.6 MB/s\u001b[0m eta \u001b[36m0:00:00\u001b[0m\n",
            "\u001b[?25hRequirement already satisfied: numpy>=1.9.1 in /usr/local/lib/python3.10/dist-packages (from keras_preprocessing) (1.22.4)\n",
            "Requirement already satisfied: six>=1.9.0 in /usr/local/lib/python3.10/dist-packages (from keras_preprocessing) (1.16.0)\n",
            "Installing collected packages: keras_preprocessing\n",
            "Successfully installed keras_preprocessing-1.1.2\n"
          ]
        }
      ]
    },
    {
      "cell_type": "code",
      "execution_count": null,
      "id": "b90853aa",
      "metadata": {
        "id": "b90853aa"
      },
      "outputs": [],
      "source": [
        "import warnings\n",
        "warnings.filterwarnings(\"ignore\")\n",
        "\n",
        "import tensorflow as tf\n",
        "from tensorflow import keras\n",
        "from keras.preprocessing.text import Tokenizer\n",
        "\n",
        "from keras.models import Sequential\n",
        "from keras.layers import Dense\n",
        "from keras.layers import Embedding\n",
        "from keras.layers import SpatialDropout1D\n",
        "from keras.callbacks import EarlyStopping\n",
        "from keras.layers import Bidirectional\n",
        "from keras.layers import Dropout\n"
      ]
    },
    {
      "cell_type": "code",
      "execution_count": null,
      "id": "529e2226",
      "metadata": {
        "id": "529e2226"
      },
      "outputs": [],
      "source": [
        "import numpy as np\n",
        "import matplotlib.pyplot as plt\n",
        "import seaborn as sns\n",
        "import pandas as pd\n",
        "from sklearn.feature_extraction.text import CountVectorizer\n",
        "from sklearn.metrics import classification_report, confusion_matrix,roc_curve,auc\n",
        "from tensorflow.keras.layers import Dense, SimpleRNN, Activation, Input\n",
        "from keras_preprocessing.sequence import pad_sequences\n",
        "from sklearn.metrics import roc_auc_score,precision_score, recall_score, f1_score,accuracy_score"
      ]
    },
    {
      "cell_type": "code",
      "source": [
        "def Evaluation (Method,Comment,Actual, Predicted,Scores):\n",
        "    ROC_AUC=roc_auc_score(Actual,Predicted)\n",
        "    Precision=precision_score(Actual,Predicted)\n",
        "    Accuracy=accuracy_score(Actual,Predicted)\n",
        "    Recall=recall_score(Actual,Predicted)\n",
        "    F1=f1_score(Actual,Predicted)\n",
        "    print('Accuracy=',Accuracy)\n",
        "    Scores[Comment] = {'Method':Method,'ROC_AUC':ROC_AUC,'Accuracy':Accuracy,\n",
        "                       'Precision':Precision,'Recall':Recall,'F1':F1}"
      ],
      "metadata": {
        "id": "3NCeOQZAKWt9"
      },
      "id": "3NCeOQZAKWt9",
      "execution_count": null,
      "outputs": []
    },
    {
      "cell_type": "code",
      "source": [
        "#return dictionary with word: embedding_vector\n",
        "def load_embedding(fname):\n",
        "    embeddings_index = {}\n",
        "    f = open(fname, encoding=\"utf8\")\n",
        "    for line in f:\n",
        "        values = line.split()\n",
        "        word = values[0]\n",
        "        try:\n",
        "            embedding_vector = np.asarray(values[1:], dtype='float32')\n",
        "        except:\n",
        "            pass\n",
        "        embeddings_index[word] = embedding_vector\n",
        "    f.close()\n",
        "\n",
        "    return embeddings_index"
      ],
      "metadata": {
        "id": "hd0tJgUZ6jU9"
      },
      "id": "hd0tJgUZ6jU9",
      "execution_count": null,
      "outputs": []
    },
    {
      "cell_type": "code",
      "source": [
        "from google.colab import drive\n",
        "drive.mount('/content/drive')"
      ],
      "metadata": {
        "colab": {
          "base_uri": "https://localhost:8080/"
        },
        "id": "6U9ST1QUUPyx",
        "outputId": "499dc026-1588-4fff-b320-f95f59b0d683"
      },
      "id": "6U9ST1QUUPyx",
      "execution_count": null,
      "outputs": [
        {
          "output_type": "stream",
          "name": "stdout",
          "text": [
            "Mounted at /content/drive\n"
          ]
        }
      ]
    },
    {
      "cell_type": "code",
      "execution_count": null,
      "id": "4064cfe1",
      "metadata": {
        "id": "4064cfe1"
      },
      "outputs": [],
      "source": [
        "df  = pd.read_csv('/content/drive/MyDrive/Colab Notebooks/SentimentAnalysisStockProject/dataset/pre_process_news_days.csv', encoding = \"ISO-8859-1\")"
      ]
    },
    {
      "cell_type": "code",
      "source": [
        "from ast import literal_eval\n",
        "df['news_stemmed'] = df['news_stemmed'].apply(lambda x: literal_eval(x))"
      ],
      "metadata": {
        "id": "s_kaftpo9eJp"
      },
      "id": "s_kaftpo9eJp",
      "execution_count": null,
      "outputs": []
    },
    {
      "cell_type": "markdown",
      "source": [
        "Split Data"
      ],
      "metadata": {
        "id": "jDSq-ur-nr4S"
      },
      "id": "jDSq-ur-nr4S"
    },
    {
      "cell_type": "code",
      "execution_count": null,
      "id": "2bec812c",
      "metadata": {
        "id": "2bec812c"
      },
      "outputs": [],
      "source": [
        "# Split the data into train, validation, and test sets\n",
        "train_data = df[(df['Date'] >= '2008-08-08') & (df['Date'] <= '2013-12-31')]\n",
        "val_data = df[(df['Date'] >= '2014-01-02') & (df['Date'] <= '2014-12-31')]\n",
        "test_data = df[(df['Date'] >= '2015-01-02') & (df['Date'] <= '2016-07-01')]"
      ]
    },
    {
      "cell_type": "code",
      "source": [
        "text_train = train_data.news_stemmed.values\n",
        "text_val = val_data.news_stemmed.values\n",
        "text_test = test_data.news_stemmed.values"
      ],
      "metadata": {
        "id": "FVtp4LxP69zX"
      },
      "id": "FVtp4LxP69zX",
      "execution_count": null,
      "outputs": []
    },
    {
      "cell_type": "code",
      "execution_count": null,
      "id": "c08390fc",
      "metadata": {
        "colab": {
          "base_uri": "https://localhost:8080/"
        },
        "id": "c08390fc",
        "outputId": "08926cd8-0891-4b93-d8df-6275497f6692"
      },
      "outputs": [
        {
          "output_type": "stream",
          "name": "stdout",
          "text": [
            "number of unique tokens are:  23270\n"
          ]
        }
      ],
      "source": [
        "EMBEDDING_DIM = 50\n",
        "tokenizer = Tokenizer()\n",
        "tokenizer.fit_on_texts(text_train)\n",
        "word_index = tokenizer.word_index\n",
        "MAX_WORDS = len(word_index)+1\n",
        "print('number of unique tokens are: ', len(word_index))"
      ]
    },
    {
      "cell_type": "code",
      "source": [
        "max_sequence=800\n",
        "embeddings_index = load_embedding(\"/content/drive/MyDrive/Colab Notebooks/SentimentAnalysisStockProject/dataset/glove.6B.50d.txt\")\n",
        "embedding_matrix = np.random.random((MAX_WORDS, EMBEDDING_DIM))\n",
        "\n",
        "for word, i in word_index.items():\n",
        "    embedding_vector = embeddings_index.get(word)\n",
        "    if embedding_vector is not None:\n",
        "        embedding_matrix[i] = embedding_vector"
      ],
      "metadata": {
        "id": "_Opy3Rp49L-T"
      },
      "id": "_Opy3Rp49L-T",
      "execution_count": null,
      "outputs": []
    },
    {
      "cell_type": "markdown",
      "source": [
        "RNN"
      ],
      "metadata": {
        "id": "XvYalx-fhSYN"
      },
      "id": "XvYalx-fhSYN"
    },
    {
      "cell_type": "code",
      "source": [
        "train_sequences = tokenizer.texts_to_sequences(text_train)\n",
        "train_bow_data = tokenizer.sequences_to_matrix(train_sequences, mode='binary')\n",
        "X_train = pad_sequences(train_bow_data, maxlen=max_sequence,padding='post')\n",
        "\n",
        "val_sequences = tokenizer.texts_to_sequences(text_val)\n",
        "val_bow_data = tokenizer.sequences_to_matrix(val_sequences, mode='binary')\n",
        "X_val = pad_sequences(val_bow_data, maxlen=max_sequence,padding='post')\n",
        "\n",
        "test_sequences = tokenizer.texts_to_sequences(text_test)\n",
        "test_bow_data = tokenizer.sequences_to_matrix(test_sequences, mode='binary')\n",
        "X_test = pad_sequences(test_bow_data, maxlen=max_sequence,padding='post')"
      ],
      "metadata": {
        "id": "0p9txd_m9RQX"
      },
      "id": "0p9txd_m9RQX",
      "execution_count": null,
      "outputs": []
    },
    {
      "cell_type": "code",
      "source": [
        "sc={}\n",
        "for i, lbl in enumerate(['Label','Label_1day','Label_2day', 'Label_3day', 'Label_4day', 'Label_5day']):\n",
        "  Y_train = np.array(train_data[lbl])\n",
        "  Y_val = np.array(val_data[lbl])\n",
        "  Y_test = np.array(test_data[lbl])\n",
        "\n",
        "  hidden_dims = 25\n",
        "  np.random.seed(80)\n",
        "  model_RNN = Sequential()\n",
        "  model_RNN.add(Embedding(input_dim=MAX_WORDS, output_dim=EMBEDDING_DIM, weights=[embedding_matrix], input_length=max_sequence, trainable=True))\n",
        "  model_RNN.add(SimpleRNN(hidden_dims, recurrent_dropout=0.1))\n",
        "  model_RNN.add(Dropout(0.5))\n",
        "  model_RNN.add(Dense(units=1, activation='sigmoid'))\n",
        "  model_RNN.compile(optimizer='adam', loss='binary_crossentropy', metrics=['accuracy'])\n",
        "\n",
        "  es = tf.keras.callbacks.EarlyStopping(monitor='val_loss', patience=4)\n",
        "  hist_RNN = model_RNN.fit(X_train, Y_train,\n",
        "                            validation_data=(X_val, Y_val),\n",
        "                            epochs=5, batch_size=32, callbacks=[es])\n",
        "  y_prob = model_RNN.predict(X_test)\n",
        "  y_pred_RNN = y_prob.round()\n",
        "  Evaluation ('BoW + RNN',lbl,Y_test, y_pred_RNN,sc)"
      ],
      "metadata": {
        "colab": {
          "base_uri": "https://localhost:8080/"
        },
        "id": "T1f6i3HkKsh7",
        "outputId": "2b8dc2ec-f3e5-4cc7-b992-8460321b5f66"
      },
      "id": "T1f6i3HkKsh7",
      "execution_count": null,
      "outputs": [
        {
          "output_type": "stream",
          "name": "stdout",
          "text": [
            "Epoch 1/5\n",
            "43/43 [==============================] - 56s 1s/step - loss: 0.7515 - accuracy: 0.4731 - val_loss: 0.6915 - val_accuracy: 0.5556\n",
            "Epoch 2/5\n",
            "43/43 [==============================] - 52s 1s/step - loss: 0.7166 - accuracy: 0.5092 - val_loss: 0.6889 - val_accuracy: 0.5516\n",
            "Epoch 3/5\n",
            "43/43 [==============================] - 52s 1s/step - loss: 0.7181 - accuracy: 0.5011 - val_loss: 0.6912 - val_accuracy: 0.5595\n",
            "Epoch 4/5\n",
            "43/43 [==============================] - 48s 1s/step - loss: 0.7076 - accuracy: 0.4923 - val_loss: 0.6888 - val_accuracy: 0.5556\n",
            "Epoch 5/5\n",
            "43/43 [==============================] - 51s 1s/step - loss: 0.7079 - accuracy: 0.5099 - val_loss: 0.6873 - val_accuracy: 0.5556\n",
            "12/12 [==============================] - 1s 65ms/step\n",
            "Accuracy= 0.5079365079365079\n",
            "Epoch 1/5\n",
            "43/43 [==============================] - 51s 1s/step - loss: 0.8204 - accuracy: 0.5166 - val_loss: 0.6882 - val_accuracy: 0.5516\n",
            "Epoch 2/5\n",
            "43/43 [==============================] - 48s 1s/step - loss: 0.7398 - accuracy: 0.5151 - val_loss: 0.6900 - val_accuracy: 0.5516\n",
            "Epoch 3/5\n",
            "43/43 [==============================] - 49s 1s/step - loss: 0.7349 - accuracy: 0.5121 - val_loss: 0.6898 - val_accuracy: 0.5556\n",
            "Epoch 4/5\n",
            "43/43 [==============================] - 48s 1s/step - loss: 0.7315 - accuracy: 0.4989 - val_loss: 0.6956 - val_accuracy: 0.4444\n",
            "Epoch 5/5\n",
            "43/43 [==============================] - 48s 1s/step - loss: 0.7216 - accuracy: 0.5004 - val_loss: 0.6890 - val_accuracy: 0.5556\n",
            "12/12 [==============================] - 1s 67ms/step\n",
            "Accuracy= 0.5079365079365079\n",
            "Epoch 1/5\n",
            "43/43 [==============================] - 50s 1s/step - loss: 0.7744 - accuracy: 0.5166 - val_loss: 0.6804 - val_accuracy: 0.5873\n",
            "Epoch 2/5\n",
            "43/43 [==============================] - 48s 1s/step - loss: 0.7496 - accuracy: 0.4886 - val_loss: 0.6812 - val_accuracy: 0.5833\n",
            "Epoch 3/5\n",
            "43/43 [==============================] - 49s 1s/step - loss: 0.7373 - accuracy: 0.5283 - val_loss: 0.6802 - val_accuracy: 0.5833\n",
            "Epoch 4/5\n",
            "43/43 [==============================] - 47s 1s/step - loss: 0.7324 - accuracy: 0.5099 - val_loss: 0.6790 - val_accuracy: 0.5833\n",
            "Epoch 5/5\n",
            "43/43 [==============================] - 49s 1s/step - loss: 0.7173 - accuracy: 0.5099 - val_loss: 0.6801 - val_accuracy: 0.5833\n",
            "12/12 [==============================] - 1s 68ms/step\n",
            "Accuracy= 0.5502645502645502\n",
            "Epoch 1/5\n",
            "43/43 [==============================] - 51s 1s/step - loss: 0.7741 - accuracy: 0.5048 - val_loss: 0.6786 - val_accuracy: 0.5913\n",
            "Epoch 2/5\n",
            "43/43 [==============================] - 49s 1s/step - loss: 0.7248 - accuracy: 0.5372 - val_loss: 0.7049 - val_accuracy: 0.4087\n",
            "Epoch 3/5\n",
            "43/43 [==============================] - 48s 1s/step - loss: 0.7186 - accuracy: 0.5320 - val_loss: 0.6780 - val_accuracy: 0.5913\n",
            "Epoch 4/5\n",
            "43/43 [==============================] - 48s 1s/step - loss: 0.7060 - accuracy: 0.5497 - val_loss: 0.6786 - val_accuracy: 0.5913\n",
            "Epoch 5/5\n",
            "43/43 [==============================] - 49s 1s/step - loss: 0.7085 - accuracy: 0.5386 - val_loss: 0.6762 - val_accuracy: 0.5913\n",
            "12/12 [==============================] - 1s 66ms/step\n",
            "Accuracy= 0.5317460317460317\n",
            "Epoch 1/5\n",
            "43/43 [==============================] - 53s 1s/step - loss: 0.7936 - accuracy: 0.5438 - val_loss: 0.6845 - val_accuracy: 0.5754\n",
            "Epoch 2/5\n",
            "43/43 [==============================] - 49s 1s/step - loss: 0.7489 - accuracy: 0.5158 - val_loss: 0.6921 - val_accuracy: 0.5754\n",
            "Epoch 3/5\n",
            "43/43 [==============================] - 50s 1s/step - loss: 0.7267 - accuracy: 0.5408 - val_loss: 0.6946 - val_accuracy: 0.5754\n",
            "Epoch 4/5\n",
            "43/43 [==============================] - 48s 1s/step - loss: 0.7196 - accuracy: 0.5188 - val_loss: 0.6830 - val_accuracy: 0.5754\n",
            "Epoch 5/5\n",
            "43/43 [==============================] - 50s 1s/step - loss: 0.7221 - accuracy: 0.5305 - val_loss: 0.6815 - val_accuracy: 0.5754\n",
            "12/12 [==============================] - 1s 64ms/step\n",
            "Accuracy= 0.5343915343915344\n",
            "Epoch 1/5\n",
            "43/43 [==============================] - 51s 1s/step - loss: 0.7198 - accuracy: 0.5394 - val_loss: 0.6745 - val_accuracy: 0.5992\n",
            "Epoch 2/5\n",
            "43/43 [==============================] - 50s 1s/step - loss: 0.7062 - accuracy: 0.5379 - val_loss: 0.6736 - val_accuracy: 0.5992\n",
            "Epoch 3/5\n",
            "43/43 [==============================] - 48s 1s/step - loss: 0.7080 - accuracy: 0.5430 - val_loss: 0.6778 - val_accuracy: 0.5992\n",
            "Epoch 4/5\n",
            "43/43 [==============================] - 50s 1s/step - loss: 0.6912 - accuracy: 0.5533 - val_loss: 0.6736 - val_accuracy: 0.5992\n",
            "Epoch 5/5\n",
            "43/43 [==============================] - 49s 1s/step - loss: 0.6927 - accuracy: 0.5548 - val_loss: 0.6738 - val_accuracy: 0.5992\n",
            "12/12 [==============================] - 1s 95ms/step\n",
            "Accuracy= 0.5317460317460317\n"
          ]
        }
      ]
    },
    {
      "cell_type": "code",
      "source": [
        "df_sc_RNN = pd.DataFrame.from_dict(sc, orient='index')\n",
        "df_sc_RNN.sort_values(by=['ROC_AUC','Accuracy'],ascending=False,inplace=True)\n",
        "df_sc_RNN"
      ],
      "metadata": {
        "id": "Lxct9pwQ_bC1",
        "colab": {
          "base_uri": "https://localhost:8080/",
          "height": 238
        },
        "outputId": "2227d617-0576-4297-faa4-557e0e0e8879"
      },
      "id": "Lxct9pwQ_bC1",
      "execution_count": null,
      "outputs": [
        {
          "output_type": "execute_result",
          "data": {
            "text/plain": [
              "               Method   ROC_AUC  Accuracy  Precision    Recall        F1\n",
              "Label_2day  BoW + RNN  0.502924  0.550265   1.000000  0.005848  0.011628\n",
              "Label_4day  BoW + RNN  0.500000  0.534392   0.000000  0.000000  0.000000\n",
              "Label_3day  BoW + RNN  0.500000  0.531746   0.000000  0.000000  0.000000\n",
              "Label_5day  BoW + RNN  0.500000  0.531746   0.000000  0.000000  0.000000\n",
              "Label       BoW + RNN  0.500000  0.507937   0.507937  1.000000  0.673684\n",
              "Label_1day  BoW + RNN  0.500000  0.507937   0.000000  0.000000  0.000000"
            ],
            "text/html": [
              "\n",
              "  <div id=\"df-452daf46-89d9-4627-8cf8-757754b38f04\">\n",
              "    <div class=\"colab-df-container\">\n",
              "      <div>\n",
              "<style scoped>\n",
              "    .dataframe tbody tr th:only-of-type {\n",
              "        vertical-align: middle;\n",
              "    }\n",
              "\n",
              "    .dataframe tbody tr th {\n",
              "        vertical-align: top;\n",
              "    }\n",
              "\n",
              "    .dataframe thead th {\n",
              "        text-align: right;\n",
              "    }\n",
              "</style>\n",
              "<table border=\"1\" class=\"dataframe\">\n",
              "  <thead>\n",
              "    <tr style=\"text-align: right;\">\n",
              "      <th></th>\n",
              "      <th>Method</th>\n",
              "      <th>ROC_AUC</th>\n",
              "      <th>Accuracy</th>\n",
              "      <th>Precision</th>\n",
              "      <th>Recall</th>\n",
              "      <th>F1</th>\n",
              "    </tr>\n",
              "  </thead>\n",
              "  <tbody>\n",
              "    <tr>\n",
              "      <th>Label_2day</th>\n",
              "      <td>BoW + RNN</td>\n",
              "      <td>0.502924</td>\n",
              "      <td>0.550265</td>\n",
              "      <td>1.000000</td>\n",
              "      <td>0.005848</td>\n",
              "      <td>0.011628</td>\n",
              "    </tr>\n",
              "    <tr>\n",
              "      <th>Label_4day</th>\n",
              "      <td>BoW + RNN</td>\n",
              "      <td>0.500000</td>\n",
              "      <td>0.534392</td>\n",
              "      <td>0.000000</td>\n",
              "      <td>0.000000</td>\n",
              "      <td>0.000000</td>\n",
              "    </tr>\n",
              "    <tr>\n",
              "      <th>Label_3day</th>\n",
              "      <td>BoW + RNN</td>\n",
              "      <td>0.500000</td>\n",
              "      <td>0.531746</td>\n",
              "      <td>0.000000</td>\n",
              "      <td>0.000000</td>\n",
              "      <td>0.000000</td>\n",
              "    </tr>\n",
              "    <tr>\n",
              "      <th>Label_5day</th>\n",
              "      <td>BoW + RNN</td>\n",
              "      <td>0.500000</td>\n",
              "      <td>0.531746</td>\n",
              "      <td>0.000000</td>\n",
              "      <td>0.000000</td>\n",
              "      <td>0.000000</td>\n",
              "    </tr>\n",
              "    <tr>\n",
              "      <th>Label</th>\n",
              "      <td>BoW + RNN</td>\n",
              "      <td>0.500000</td>\n",
              "      <td>0.507937</td>\n",
              "      <td>0.507937</td>\n",
              "      <td>1.000000</td>\n",
              "      <td>0.673684</td>\n",
              "    </tr>\n",
              "    <tr>\n",
              "      <th>Label_1day</th>\n",
              "      <td>BoW + RNN</td>\n",
              "      <td>0.500000</td>\n",
              "      <td>0.507937</td>\n",
              "      <td>0.000000</td>\n",
              "      <td>0.000000</td>\n",
              "      <td>0.000000</td>\n",
              "    </tr>\n",
              "  </tbody>\n",
              "</table>\n",
              "</div>\n",
              "      <button class=\"colab-df-convert\" onclick=\"convertToInteractive('df-452daf46-89d9-4627-8cf8-757754b38f04')\"\n",
              "              title=\"Convert this dataframe to an interactive table.\"\n",
              "              style=\"display:none;\">\n",
              "        \n",
              "  <svg xmlns=\"http://www.w3.org/2000/svg\" height=\"24px\"viewBox=\"0 0 24 24\"\n",
              "       width=\"24px\">\n",
              "    <path d=\"M0 0h24v24H0V0z\" fill=\"none\"/>\n",
              "    <path d=\"M18.56 5.44l.94 2.06.94-2.06 2.06-.94-2.06-.94-.94-2.06-.94 2.06-2.06.94zm-11 1L8.5 8.5l.94-2.06 2.06-.94-2.06-.94L8.5 2.5l-.94 2.06-2.06.94zm10 10l.94 2.06.94-2.06 2.06-.94-2.06-.94-.94-2.06-.94 2.06-2.06.94z\"/><path d=\"M17.41 7.96l-1.37-1.37c-.4-.4-.92-.59-1.43-.59-.52 0-1.04.2-1.43.59L10.3 9.45l-7.72 7.72c-.78.78-.78 2.05 0 2.83L4 21.41c.39.39.9.59 1.41.59.51 0 1.02-.2 1.41-.59l7.78-7.78 2.81-2.81c.8-.78.8-2.07 0-2.86zM5.41 20L4 18.59l7.72-7.72 1.47 1.35L5.41 20z\"/>\n",
              "  </svg>\n",
              "      </button>\n",
              "      \n",
              "  <style>\n",
              "    .colab-df-container {\n",
              "      display:flex;\n",
              "      flex-wrap:wrap;\n",
              "      gap: 12px;\n",
              "    }\n",
              "\n",
              "    .colab-df-convert {\n",
              "      background-color: #E8F0FE;\n",
              "      border: none;\n",
              "      border-radius: 50%;\n",
              "      cursor: pointer;\n",
              "      display: none;\n",
              "      fill: #1967D2;\n",
              "      height: 32px;\n",
              "      padding: 0 0 0 0;\n",
              "      width: 32px;\n",
              "    }\n",
              "\n",
              "    .colab-df-convert:hover {\n",
              "      background-color: #E2EBFA;\n",
              "      box-shadow: 0px 1px 2px rgba(60, 64, 67, 0.3), 0px 1px 3px 1px rgba(60, 64, 67, 0.15);\n",
              "      fill: #174EA6;\n",
              "    }\n",
              "\n",
              "    [theme=dark] .colab-df-convert {\n",
              "      background-color: #3B4455;\n",
              "      fill: #D2E3FC;\n",
              "    }\n",
              "\n",
              "    [theme=dark] .colab-df-convert:hover {\n",
              "      background-color: #434B5C;\n",
              "      box-shadow: 0px 1px 3px 1px rgba(0, 0, 0, 0.15);\n",
              "      filter: drop-shadow(0px 1px 2px rgba(0, 0, 0, 0.3));\n",
              "      fill: #FFFFFF;\n",
              "    }\n",
              "  </style>\n",
              "\n",
              "      <script>\n",
              "        const buttonEl =\n",
              "          document.querySelector('#df-452daf46-89d9-4627-8cf8-757754b38f04 button.colab-df-convert');\n",
              "        buttonEl.style.display =\n",
              "          google.colab.kernel.accessAllowed ? 'block' : 'none';\n",
              "\n",
              "        async function convertToInteractive(key) {\n",
              "          const element = document.querySelector('#df-452daf46-89d9-4627-8cf8-757754b38f04');\n",
              "          const dataTable =\n",
              "            await google.colab.kernel.invokeFunction('convertToInteractive',\n",
              "                                                     [key], {});\n",
              "          if (!dataTable) return;\n",
              "\n",
              "          const docLinkHtml = 'Like what you see? Visit the ' +\n",
              "            '<a target=\"_blank\" href=https://colab.research.google.com/notebooks/data_table.ipynb>data table notebook</a>'\n",
              "            + ' to learn more about interactive tables.';\n",
              "          element.innerHTML = '';\n",
              "          dataTable['output_type'] = 'display_data';\n",
              "          await google.colab.output.renderOutput(dataTable, element);\n",
              "          const docLink = document.createElement('div');\n",
              "          docLink.innerHTML = docLinkHtml;\n",
              "          element.appendChild(docLink);\n",
              "        }\n",
              "      </script>\n",
              "    </div>\n",
              "  </div>\n",
              "  "
            ]
          },
          "metadata": {},
          "execution_count": 20
        }
      ]
    }
  ],
  "metadata": {
    "kernelspec": {
      "display_name": "Python 3 (ipykernel)",
      "language": "python",
      "name": "python3"
    },
    "language_info": {
      "codemirror_mode": {
        "name": "ipython",
        "version": 3
      },
      "file_extension": ".py",
      "mimetype": "text/x-python",
      "name": "python",
      "nbconvert_exporter": "python",
      "pygments_lexer": "ipython3",
      "version": "3.8.13"
    },
    "colab": {
      "provenance": []
    },
    "accelerator": "GPU",
    "gpuClass": "standard"
  },
  "nbformat": 4,
  "nbformat_minor": 5
}