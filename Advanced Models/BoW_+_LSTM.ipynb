{
  "cells": [
    {
      "cell_type": "code",
      "source": [
        "!pip install keras_preprocessing"
      ],
      "metadata": {
        "colab": {
          "base_uri": "https://localhost:8080/"
        },
        "id": "-0btMHNYvEtb",
        "outputId": "d9305177-c346-4928-ef09-2d1b970e5ce8"
      },
      "id": "-0btMHNYvEtb",
      "execution_count": null,
      "outputs": [
        {
          "output_type": "stream",
          "name": "stdout",
          "text": [
            "Looking in indexes: https://pypi.org/simple, https://us-python.pkg.dev/colab-wheels/public/simple/\n",
            "Collecting keras_preprocessing\n",
            "  Downloading Keras_Preprocessing-1.1.2-py2.py3-none-any.whl (42 kB)\n",
            "\u001b[2K     \u001b[90m━━━━━━━━━━━━━━━━━━━━━━━━━━━━━━━━━━━━━━━━\u001b[0m \u001b[32m42.6/42.6 kB\u001b[0m \u001b[31m4.4 MB/s\u001b[0m eta \u001b[36m0:00:00\u001b[0m\n",
            "\u001b[?25hRequirement already satisfied: numpy>=1.9.1 in /usr/local/lib/python3.10/dist-packages (from keras_preprocessing) (1.22.4)\n",
            "Requirement already satisfied: six>=1.9.0 in /usr/local/lib/python3.10/dist-packages (from keras_preprocessing) (1.16.0)\n",
            "Installing collected packages: keras_preprocessing\n",
            "Successfully installed keras_preprocessing-1.1.2\n"
          ]
        }
      ]
    },
    {
      "cell_type": "code",
      "execution_count": null,
      "id": "b90853aa",
      "metadata": {
        "id": "b90853aa"
      },
      "outputs": [],
      "source": [
        "import warnings\n",
        "warnings.filterwarnings(\"ignore\")\n",
        "\n",
        "import tensorflow as tf\n",
        "from tensorflow import keras\n",
        "from keras.preprocessing.text import Tokenizer\n",
        "\n",
        "from keras.models import Sequential\n",
        "from keras.layers import Dense\n",
        "from keras.layers import Embedding\n",
        "from keras.layers import SpatialDropout1D\n",
        "from keras.layers import LSTM\n",
        "from keras.callbacks import EarlyStopping\n",
        "from keras.layers import Bidirectional\n",
        "from keras.layers import Dropout\n"
      ]
    },
    {
      "cell_type": "code",
      "execution_count": null,
      "id": "529e2226",
      "metadata": {
        "id": "529e2226"
      },
      "outputs": [],
      "source": [
        "import numpy as np\n",
        "import matplotlib.pyplot as plt\n",
        "import seaborn as sns\n",
        "import pandas as pd\n",
        "from sklearn.feature_extraction.text import CountVectorizer\n",
        "from sklearn.metrics import classification_report, confusion_matrix,roc_curve,auc\n",
        "from tensorflow.keras.layers import Dense, LSTM,SimpleRNN, Activation, Input\n",
        "from keras.layers import CuDNNLSTM\n",
        "from keras_preprocessing.sequence import pad_sequences\n",
        "from sklearn.metrics import roc_auc_score,precision_score, recall_score, f1_score,accuracy_score"
      ]
    },
    {
      "cell_type": "code",
      "source": [
        "def Evaluation (Method,Comment,Actual, Predicted,Scores):\n",
        "    ROC_AUC=roc_auc_score(Actual,Predicted)\n",
        "    Precision=precision_score(Actual,Predicted)\n",
        "    Accuracy=accuracy_score(Actual,Predicted)\n",
        "    Recall=recall_score(Actual,Predicted)\n",
        "    F1=f1_score(Actual,Predicted)\n",
        "    print('Accuracy=',Accuracy)\n",
        "    Scores[Comment] = {'Method':Method,'ROC_AUC':ROC_AUC,'Accuracy':Accuracy,\n",
        "                       'Precision':Precision,'Recall':Recall,'F1':F1}"
      ],
      "metadata": {
        "id": "3NCeOQZAKWt9"
      },
      "id": "3NCeOQZAKWt9",
      "execution_count": null,
      "outputs": []
    },
    {
      "cell_type": "code",
      "source": [
        "#return dictionary with word: embedding_vector\n",
        "def load_embedding(fname):\n",
        "    embeddings_index = {}\n",
        "    f = open(fname, encoding=\"utf8\")\n",
        "    for line in f:\n",
        "        values = line.split()\n",
        "        word = values[0]\n",
        "        try:\n",
        "            embedding_vector = np.asarray(values[1:], dtype='float32')\n",
        "        except:\n",
        "            pass\n",
        "        embeddings_index[word] = embedding_vector\n",
        "    f.close()\n",
        "\n",
        "    return embeddings_index"
      ],
      "metadata": {
        "id": "FyKhkM33KA2N"
      },
      "id": "FyKhkM33KA2N",
      "execution_count": null,
      "outputs": []
    },
    {
      "cell_type": "code",
      "source": [
        "from google.colab import drive\n",
        "drive.mount('/content/drive')"
      ],
      "metadata": {
        "colab": {
          "base_uri": "https://localhost:8080/"
        },
        "id": "6U9ST1QUUPyx",
        "outputId": "ae5185a7-3ff9-4391-cc2c-8af3a6f6153f"
      },
      "id": "6U9ST1QUUPyx",
      "execution_count": null,
      "outputs": [
        {
          "output_type": "stream",
          "name": "stdout",
          "text": [
            "Mounted at /content/drive\n"
          ]
        }
      ]
    },
    {
      "cell_type": "code",
      "execution_count": null,
      "id": "4064cfe1",
      "metadata": {
        "id": "4064cfe1"
      },
      "outputs": [],
      "source": [
        "df  = pd.read_csv('/content/drive/MyDrive/Colab Notebooks/SentimentAnalysisStockProject/dataset/pre_process_news_days.csv', encoding = \"ISO-8859-1\")"
      ]
    },
    {
      "cell_type": "code",
      "source": [
        "from ast import literal_eval\n",
        "df['news_stemmed'] = df['news_stemmed'].apply(lambda x: literal_eval(x))"
      ],
      "metadata": {
        "id": "s_kaftpo9eJp"
      },
      "id": "s_kaftpo9eJp",
      "execution_count": null,
      "outputs": []
    },
    {
      "cell_type": "markdown",
      "source": [
        "Split Data"
      ],
      "metadata": {
        "id": "jDSq-ur-nr4S"
      },
      "id": "jDSq-ur-nr4S"
    },
    {
      "cell_type": "code",
      "execution_count": null,
      "id": "2bec812c",
      "metadata": {
        "id": "2bec812c"
      },
      "outputs": [],
      "source": [
        "# Split the data into train, validation, and test sets\n",
        "train_data = df[(df['Date'] >= '2008-08-08') & (df['Date'] <= '2013-12-31')]\n",
        "val_data = df[(df['Date'] >= '2014-01-02') & (df['Date'] <= '2014-12-31')]\n",
        "test_data = df[(df['Date'] >= '2015-01-02') & (df['Date'] <= '2016-07-01')]"
      ]
    },
    {
      "cell_type": "code",
      "source": [
        "text_train = train_data.news_stemmed.values\n",
        "text_val = val_data.news_stemmed.values\n",
        "text_test = test_data.news_stemmed.values"
      ],
      "metadata": {
        "id": "PVQ3-kxShnRt"
      },
      "id": "PVQ3-kxShnRt",
      "execution_count": null,
      "outputs": []
    },
    {
      "cell_type": "code",
      "source": [
        "EMBEDDING_DIM = 50\n",
        "tokenizer = Tokenizer()\n",
        "tokenizer.fit_on_texts(text_train)\n",
        "word_index = tokenizer.word_index\n",
        "MAX_WORDS = len(word_index)+1\n",
        "print('number of unique tokens are: ', len(word_index))"
      ],
      "metadata": {
        "colab": {
          "base_uri": "https://localhost:8080/"
        },
        "id": "DTDq28j1ELqB",
        "outputId": "9a90e9e6-9de3-4f29-e6a3-577d7823e531"
      },
      "id": "DTDq28j1ELqB",
      "execution_count": null,
      "outputs": [
        {
          "output_type": "stream",
          "name": "stdout",
          "text": [
            "number of unique tokens are:  23270\n"
          ]
        }
      ]
    },
    {
      "cell_type": "code",
      "source": [
        "max_sequence=200\n",
        "\n",
        "embeddings_index = load_embedding(\"/content/drive/MyDrive/Colab Notebooks/SentimentAnalysisStockProject/dataset/glove.6B.50d.txt\")\n",
        "\n",
        "embedding_matrix = np.random.random((MAX_WORDS, EMBEDDING_DIM))\n",
        "\n",
        "for word, i in word_index.items():\n",
        "    embedding_vector = embeddings_index.get(word)\n",
        "    if embedding_vector is not None:\n",
        "        embedding_matrix[i] = embedding_vector\n"
      ],
      "metadata": {
        "id": "BxloFPazKLU0"
      },
      "id": "BxloFPazKLU0",
      "execution_count": null,
      "outputs": []
    },
    {
      "cell_type": "code",
      "source": [
        "train_sequences = tokenizer.texts_to_sequences(text_train)\n",
        "train_bow_data = tokenizer.sequences_to_matrix(train_sequences, mode='binary')\n",
        "X_train = pad_sequences(train_bow_data, maxlen=max_sequence,padding='post')\n",
        "\n",
        "val_sequences = tokenizer.texts_to_sequences(text_val)\n",
        "val_bow_data = tokenizer.sequences_to_matrix(val_sequences, mode='binary')\n",
        "X_val = pad_sequences(val_bow_data, maxlen=max_sequence,padding='post')\n",
        "\n",
        "test_sequences = tokenizer.texts_to_sequences(text_test)\n",
        "test_bow_data = tokenizer.sequences_to_matrix(test_sequences, mode='binary')\n",
        "X_test = pad_sequences(test_bow_data, maxlen=max_sequence,padding='post')"
      ],
      "metadata": {
        "id": "BSq6Y0JSmlLP"
      },
      "id": "BSq6Y0JSmlLP",
      "execution_count": null,
      "outputs": []
    },
    {
      "cell_type": "code",
      "source": [
        "sc={}\n",
        "\n",
        "for i, lbl in enumerate(['Label','Label_1day','Label_2day', 'Label_3day', 'Label_4day', 'Label_5day']):\n",
        "  Y_train = np.array(train_data[lbl])\n",
        "  Y_val = np.array(val_data[lbl])\n",
        "  Y_test = np.array(test_data[lbl])\n",
        "\n",
        "  hidden_dims = 20\n",
        "  np.random.seed(44)\n",
        "  model_LSTM = Sequential()\n",
        "  model_LSTM.add(Embedding(input_dim=MAX_WORDS, output_dim=EMBEDDING_DIM, weights=[embedding_matrix], input_length=max_sequence, trainable=True))\n",
        "  model_LSTM.add(CuDNNLSTM(hidden_dims))\n",
        "  model_LSTM.add(Dropout(0.2))\n",
        "  model_LSTM.add(Dense(units=1, activation='sigmoid'))\n",
        "  model_LSTM.compile(optimizer='adam', loss='binary_crossentropy', metrics=['accuracy'])\n",
        "  es = tf.keras.callbacks.EarlyStopping(monitor='val_loss', patience=4)\n",
        "  hist_LSTM = model_LSTM.fit(X_train, Y_train,\n",
        "                            validation_data=(X_val, Y_val),\n",
        "                            epochs=10, batch_size=32, callbacks=[es])\n",
        "  y_prob = model_LSTM.predict(X_test)\n",
        "  y_pred_LSTM = y_prob.round()\n",
        "  Evaluation ('BoW + LSTM',lbl,Y_test, y_pred_LSTM,sc)"
      ],
      "metadata": {
        "colab": {
          "base_uri": "https://localhost:8080/"
        },
        "id": "T1f6i3HkKsh7",
        "outputId": "43394b6d-4bc9-4a8f-ad03-890149d8ffd5"
      },
      "id": "T1f6i3HkKsh7",
      "execution_count": null,
      "outputs": [
        {
          "output_type": "stream",
          "name": "stdout",
          "text": [
            "Epoch 1/10\n",
            "43/43 [==============================] - 4s 57ms/step - loss: 0.6980 - accuracy: 0.5121 - val_loss: 0.6881 - val_accuracy: 0.5516\n",
            "Epoch 2/10\n",
            "43/43 [==============================] - 1s 34ms/step - loss: 0.6945 - accuracy: 0.5166 - val_loss: 0.6886 - val_accuracy: 0.5516\n",
            "Epoch 3/10\n",
            "43/43 [==============================] - 2s 38ms/step - loss: 0.6922 - accuracy: 0.5247 - val_loss: 0.6884 - val_accuracy: 0.5516\n",
            "Epoch 4/10\n",
            "43/43 [==============================] - 2s 39ms/step - loss: 0.6952 - accuracy: 0.5195 - val_loss: 0.6878 - val_accuracy: 0.5516\n",
            "Epoch 5/10\n",
            "43/43 [==============================] - 2s 35ms/step - loss: 0.6930 - accuracy: 0.5232 - val_loss: 0.6879 - val_accuracy: 0.5516\n",
            "Epoch 6/10\n",
            "43/43 [==============================] - 1s 34ms/step - loss: 0.6918 - accuracy: 0.5291 - val_loss: 0.6894 - val_accuracy: 0.5516\n",
            "Epoch 7/10\n",
            "43/43 [==============================] - 2s 40ms/step - loss: 0.6904 - accuracy: 0.5350 - val_loss: 0.6879 - val_accuracy: 0.5516\n",
            "Epoch 8/10\n",
            "43/43 [==============================] - 2s 40ms/step - loss: 0.6931 - accuracy: 0.5239 - val_loss: 0.6892 - val_accuracy: 0.5516\n",
            "12/12 [==============================] - 0s 7ms/step\n",
            "Accuracy= 0.5079365079365079\n",
            "Epoch 1/10\n",
            "43/43 [==============================] - 5s 67ms/step - loss: 0.7006 - accuracy: 0.5202 - val_loss: 0.6936 - val_accuracy: 0.4484\n",
            "Epoch 2/10\n",
            "43/43 [==============================] - 2s 39ms/step - loss: 0.6971 - accuracy: 0.5254 - val_loss: 0.6878 - val_accuracy: 0.5516\n",
            "Epoch 3/10\n",
            "43/43 [==============================] - 2s 43ms/step - loss: 0.6938 - accuracy: 0.5269 - val_loss: 0.6878 - val_accuracy: 0.5516\n",
            "Epoch 4/10\n",
            "43/43 [==============================] - 2s 35ms/step - loss: 0.6936 - accuracy: 0.5247 - val_loss: 0.6946 - val_accuracy: 0.4484\n",
            "Epoch 5/10\n",
            "43/43 [==============================] - 1s 34ms/step - loss: 0.6908 - accuracy: 0.5342 - val_loss: 0.6879 - val_accuracy: 0.5516\n",
            "Epoch 6/10\n",
            "43/43 [==============================] - 1s 34ms/step - loss: 0.6888 - accuracy: 0.5401 - val_loss: 0.6881 - val_accuracy: 0.5516\n",
            "Epoch 7/10\n",
            "43/43 [==============================] - 1s 34ms/step - loss: 0.6912 - accuracy: 0.5320 - val_loss: 0.6909 - val_accuracy: 0.5516\n",
            "12/12 [==============================] - 0s 3ms/step\n",
            "Accuracy= 0.5079365079365079\n",
            "Epoch 1/10\n",
            "43/43 [==============================] - 4s 53ms/step - loss: 0.6924 - accuracy: 0.5342 - val_loss: 0.6809 - val_accuracy: 0.5833\n",
            "Epoch 2/10\n",
            "43/43 [==============================] - 2s 36ms/step - loss: 0.6950 - accuracy: 0.5291 - val_loss: 0.6894 - val_accuracy: 0.5833\n",
            "Epoch 3/10\n",
            "43/43 [==============================] - 1s 35ms/step - loss: 0.6911 - accuracy: 0.5482 - val_loss: 0.6809 - val_accuracy: 0.5833\n",
            "Epoch 4/10\n",
            "43/43 [==============================] - 1s 34ms/step - loss: 0.6855 - accuracy: 0.5607 - val_loss: 0.6793 - val_accuracy: 0.5833\n",
            "Epoch 5/10\n",
            "43/43 [==============================] - 1s 34ms/step - loss: 0.6907 - accuracy: 0.5570 - val_loss: 0.6794 - val_accuracy: 0.5833\n",
            "Epoch 6/10\n",
            "43/43 [==============================] - 1s 34ms/step - loss: 0.6900 - accuracy: 0.5585 - val_loss: 0.6799 - val_accuracy: 0.5833\n",
            "Epoch 7/10\n",
            "43/43 [==============================] - 1s 34ms/step - loss: 0.6885 - accuracy: 0.5578 - val_loss: 0.6811 - val_accuracy: 0.5833\n",
            "Epoch 8/10\n",
            "43/43 [==============================] - 1s 34ms/step - loss: 0.6890 - accuracy: 0.5585 - val_loss: 0.6831 - val_accuracy: 0.5833\n",
            "12/12 [==============================] - 0s 5ms/step\n",
            "Accuracy= 0.5476190476190477\n",
            "Epoch 1/10\n",
            "43/43 [==============================] - 3s 44ms/step - loss: 0.6922 - accuracy: 0.5629 - val_loss: 0.6764 - val_accuracy: 0.5913\n",
            "Epoch 2/10\n",
            "43/43 [==============================] - 2s 37ms/step - loss: 0.6843 - accuracy: 0.5688 - val_loss: 0.6784 - val_accuracy: 0.5913\n",
            "Epoch 3/10\n",
            "43/43 [==============================] - 2s 40ms/step - loss: 0.6833 - accuracy: 0.5747 - val_loss: 0.6817 - val_accuracy: 0.5913\n",
            "Epoch 4/10\n",
            "43/43 [==============================] - 2s 37ms/step - loss: 0.6839 - accuracy: 0.5769 - val_loss: 0.6766 - val_accuracy: 0.5913\n",
            "Epoch 5/10\n",
            "43/43 [==============================] - 1s 35ms/step - loss: 0.6806 - accuracy: 0.5791 - val_loss: 0.6765 - val_accuracy: 0.5913\n",
            "12/12 [==============================] - 0s 4ms/step\n",
            "Accuracy= 0.5317460317460317\n",
            "Epoch 1/10\n",
            "43/43 [==============================] - 4s 43ms/step - loss: 0.6939 - accuracy: 0.5401 - val_loss: 0.6865 - val_accuracy: 0.5754\n",
            "Epoch 2/10\n",
            "43/43 [==============================] - 1s 35ms/step - loss: 0.6854 - accuracy: 0.5644 - val_loss: 0.6824 - val_accuracy: 0.5754\n",
            "Epoch 3/10\n",
            "43/43 [==============================] - 2s 38ms/step - loss: 0.6838 - accuracy: 0.5769 - val_loss: 0.6820 - val_accuracy: 0.5754\n",
            "Epoch 4/10\n",
            "43/43 [==============================] - 2s 39ms/step - loss: 0.6827 - accuracy: 0.5769 - val_loss: 0.6831 - val_accuracy: 0.5754\n",
            "Epoch 5/10\n",
            "43/43 [==============================] - 2s 35ms/step - loss: 0.6811 - accuracy: 0.5732 - val_loss: 0.6853 - val_accuracy: 0.5754\n",
            "Epoch 6/10\n",
            "43/43 [==============================] - 1s 34ms/step - loss: 0.6860 - accuracy: 0.5747 - val_loss: 0.6824 - val_accuracy: 0.5754\n",
            "Epoch 7/10\n",
            "43/43 [==============================] - 1s 34ms/step - loss: 0.6841 - accuracy: 0.5740 - val_loss: 0.6820 - val_accuracy: 0.5754\n",
            "12/12 [==============================] - 0s 4ms/step\n",
            "Accuracy= 0.5343915343915344\n",
            "Epoch 1/10\n",
            "43/43 [==============================] - 3s 45ms/step - loss: 0.6828 - accuracy: 0.5813 - val_loss: 0.6857 - val_accuracy: 0.5992\n",
            "Epoch 2/10\n",
            "43/43 [==============================] - 2s 35ms/step - loss: 0.6831 - accuracy: 0.5865 - val_loss: 0.6738 - val_accuracy: 0.5992\n",
            "Epoch 3/10\n",
            "43/43 [==============================] - 2s 39ms/step - loss: 0.6816 - accuracy: 0.5813 - val_loss: 0.6756 - val_accuracy: 0.5992\n",
            "Epoch 4/10\n",
            "43/43 [==============================] - 2s 39ms/step - loss: 0.6816 - accuracy: 0.5828 - val_loss: 0.6745 - val_accuracy: 0.5992\n",
            "Epoch 5/10\n",
            "43/43 [==============================] - 2s 35ms/step - loss: 0.6801 - accuracy: 0.5798 - val_loss: 0.6739 - val_accuracy: 0.5992\n",
            "Epoch 6/10\n",
            "43/43 [==============================] - 1s 34ms/step - loss: 0.6805 - accuracy: 0.5806 - val_loss: 0.6733 - val_accuracy: 0.5992\n",
            "Epoch 7/10\n",
            "43/43 [==============================] - 1s 34ms/step - loss: 0.6816 - accuracy: 0.5835 - val_loss: 0.6735 - val_accuracy: 0.5992\n",
            "Epoch 8/10\n",
            "43/43 [==============================] - 1s 34ms/step - loss: 0.6799 - accuracy: 0.5828 - val_loss: 0.6733 - val_accuracy: 0.5992\n",
            "Epoch 9/10\n",
            "43/43 [==============================] - 2s 35ms/step - loss: 0.6816 - accuracy: 0.5828 - val_loss: 0.6735 - val_accuracy: 0.5992\n",
            "Epoch 10/10\n",
            "43/43 [==============================] - 1s 34ms/step - loss: 0.6818 - accuracy: 0.5828 - val_loss: 0.6738 - val_accuracy: 0.5992\n",
            "12/12 [==============================] - 0s 6ms/step\n",
            "Accuracy= 0.5317460317460317\n"
          ]
        }
      ]
    },
    {
      "cell_type": "code",
      "source": [
        "df_sc_LSTM = pd.DataFrame.from_dict(sc, orient='index')\n",
        "df_sc_LSTM.sort_values(by=['ROC_AUC','Accuracy'],ascending=False,inplace=True)\n",
        "df_sc_LSTM"
      ],
      "metadata": {
        "colab": {
          "base_uri": "https://localhost:8080/",
          "height": 238
        },
        "id": "x2kaqADra7pA",
        "outputId": "e81b9c23-6add-4b51-83c2-f83c1554e75c"
      },
      "id": "x2kaqADra7pA",
      "execution_count": null,
      "outputs": [
        {
          "output_type": "execute_result",
          "data": {
            "text/plain": [
              "                Method  ROC_AUC  Accuracy  Precision  Recall        F1\n",
              "Label_2day  BoW + LSTM      0.5  0.547619   0.000000     0.0  0.000000\n",
              "Label_4day  BoW + LSTM      0.5  0.534392   0.000000     0.0  0.000000\n",
              "Label_3day  BoW + LSTM      0.5  0.531746   0.000000     0.0  0.000000\n",
              "Label_5day  BoW + LSTM      0.5  0.531746   0.000000     0.0  0.000000\n",
              "Label       BoW + LSTM      0.5  0.507937   0.507937     1.0  0.673684\n",
              "Label_1day  BoW + LSTM      0.5  0.507937   0.000000     0.0  0.000000"
            ],
            "text/html": [
              "\n",
              "  <div id=\"df-9d3016ae-07e9-4600-b58d-24ec5cfea49c\">\n",
              "    <div class=\"colab-df-container\">\n",
              "      <div>\n",
              "<style scoped>\n",
              "    .dataframe tbody tr th:only-of-type {\n",
              "        vertical-align: middle;\n",
              "    }\n",
              "\n",
              "    .dataframe tbody tr th {\n",
              "        vertical-align: top;\n",
              "    }\n",
              "\n",
              "    .dataframe thead th {\n",
              "        text-align: right;\n",
              "    }\n",
              "</style>\n",
              "<table border=\"1\" class=\"dataframe\">\n",
              "  <thead>\n",
              "    <tr style=\"text-align: right;\">\n",
              "      <th></th>\n",
              "      <th>Method</th>\n",
              "      <th>ROC_AUC</th>\n",
              "      <th>Accuracy</th>\n",
              "      <th>Precision</th>\n",
              "      <th>Recall</th>\n",
              "      <th>F1</th>\n",
              "    </tr>\n",
              "  </thead>\n",
              "  <tbody>\n",
              "    <tr>\n",
              "      <th>Label_2day</th>\n",
              "      <td>BoW + LSTM</td>\n",
              "      <td>0.5</td>\n",
              "      <td>0.547619</td>\n",
              "      <td>0.000000</td>\n",
              "      <td>0.0</td>\n",
              "      <td>0.000000</td>\n",
              "    </tr>\n",
              "    <tr>\n",
              "      <th>Label_4day</th>\n",
              "      <td>BoW + LSTM</td>\n",
              "      <td>0.5</td>\n",
              "      <td>0.534392</td>\n",
              "      <td>0.000000</td>\n",
              "      <td>0.0</td>\n",
              "      <td>0.000000</td>\n",
              "    </tr>\n",
              "    <tr>\n",
              "      <th>Label_3day</th>\n",
              "      <td>BoW + LSTM</td>\n",
              "      <td>0.5</td>\n",
              "      <td>0.531746</td>\n",
              "      <td>0.000000</td>\n",
              "      <td>0.0</td>\n",
              "      <td>0.000000</td>\n",
              "    </tr>\n",
              "    <tr>\n",
              "      <th>Label_5day</th>\n",
              "      <td>BoW + LSTM</td>\n",
              "      <td>0.5</td>\n",
              "      <td>0.531746</td>\n",
              "      <td>0.000000</td>\n",
              "      <td>0.0</td>\n",
              "      <td>0.000000</td>\n",
              "    </tr>\n",
              "    <tr>\n",
              "      <th>Label</th>\n",
              "      <td>BoW + LSTM</td>\n",
              "      <td>0.5</td>\n",
              "      <td>0.507937</td>\n",
              "      <td>0.507937</td>\n",
              "      <td>1.0</td>\n",
              "      <td>0.673684</td>\n",
              "    </tr>\n",
              "    <tr>\n",
              "      <th>Label_1day</th>\n",
              "      <td>BoW + LSTM</td>\n",
              "      <td>0.5</td>\n",
              "      <td>0.507937</td>\n",
              "      <td>0.000000</td>\n",
              "      <td>0.0</td>\n",
              "      <td>0.000000</td>\n",
              "    </tr>\n",
              "  </tbody>\n",
              "</table>\n",
              "</div>\n",
              "      <button class=\"colab-df-convert\" onclick=\"convertToInteractive('df-9d3016ae-07e9-4600-b58d-24ec5cfea49c')\"\n",
              "              title=\"Convert this dataframe to an interactive table.\"\n",
              "              style=\"display:none;\">\n",
              "        \n",
              "  <svg xmlns=\"http://www.w3.org/2000/svg\" height=\"24px\"viewBox=\"0 0 24 24\"\n",
              "       width=\"24px\">\n",
              "    <path d=\"M0 0h24v24H0V0z\" fill=\"none\"/>\n",
              "    <path d=\"M18.56 5.44l.94 2.06.94-2.06 2.06-.94-2.06-.94-.94-2.06-.94 2.06-2.06.94zm-11 1L8.5 8.5l.94-2.06 2.06-.94-2.06-.94L8.5 2.5l-.94 2.06-2.06.94zm10 10l.94 2.06.94-2.06 2.06-.94-2.06-.94-.94-2.06-.94 2.06-2.06.94z\"/><path d=\"M17.41 7.96l-1.37-1.37c-.4-.4-.92-.59-1.43-.59-.52 0-1.04.2-1.43.59L10.3 9.45l-7.72 7.72c-.78.78-.78 2.05 0 2.83L4 21.41c.39.39.9.59 1.41.59.51 0 1.02-.2 1.41-.59l7.78-7.78 2.81-2.81c.8-.78.8-2.07 0-2.86zM5.41 20L4 18.59l7.72-7.72 1.47 1.35L5.41 20z\"/>\n",
              "  </svg>\n",
              "      </button>\n",
              "      \n",
              "  <style>\n",
              "    .colab-df-container {\n",
              "      display:flex;\n",
              "      flex-wrap:wrap;\n",
              "      gap: 12px;\n",
              "    }\n",
              "\n",
              "    .colab-df-convert {\n",
              "      background-color: #E8F0FE;\n",
              "      border: none;\n",
              "      border-radius: 50%;\n",
              "      cursor: pointer;\n",
              "      display: none;\n",
              "      fill: #1967D2;\n",
              "      height: 32px;\n",
              "      padding: 0 0 0 0;\n",
              "      width: 32px;\n",
              "    }\n",
              "\n",
              "    .colab-df-convert:hover {\n",
              "      background-color: #E2EBFA;\n",
              "      box-shadow: 0px 1px 2px rgba(60, 64, 67, 0.3), 0px 1px 3px 1px rgba(60, 64, 67, 0.15);\n",
              "      fill: #174EA6;\n",
              "    }\n",
              "\n",
              "    [theme=dark] .colab-df-convert {\n",
              "      background-color: #3B4455;\n",
              "      fill: #D2E3FC;\n",
              "    }\n",
              "\n",
              "    [theme=dark] .colab-df-convert:hover {\n",
              "      background-color: #434B5C;\n",
              "      box-shadow: 0px 1px 3px 1px rgba(0, 0, 0, 0.15);\n",
              "      filter: drop-shadow(0px 1px 2px rgba(0, 0, 0, 0.3));\n",
              "      fill: #FFFFFF;\n",
              "    }\n",
              "  </style>\n",
              "\n",
              "      <script>\n",
              "        const buttonEl =\n",
              "          document.querySelector('#df-9d3016ae-07e9-4600-b58d-24ec5cfea49c button.colab-df-convert');\n",
              "        buttonEl.style.display =\n",
              "          google.colab.kernel.accessAllowed ? 'block' : 'none';\n",
              "\n",
              "        async function convertToInteractive(key) {\n",
              "          const element = document.querySelector('#df-9d3016ae-07e9-4600-b58d-24ec5cfea49c');\n",
              "          const dataTable =\n",
              "            await google.colab.kernel.invokeFunction('convertToInteractive',\n",
              "                                                     [key], {});\n",
              "          if (!dataTable) return;\n",
              "\n",
              "          const docLinkHtml = 'Like what you see? Visit the ' +\n",
              "            '<a target=\"_blank\" href=https://colab.research.google.com/notebooks/data_table.ipynb>data table notebook</a>'\n",
              "            + ' to learn more about interactive tables.';\n",
              "          element.innerHTML = '';\n",
              "          dataTable['output_type'] = 'display_data';\n",
              "          await google.colab.output.renderOutput(dataTable, element);\n",
              "          const docLink = document.createElement('div');\n",
              "          docLink.innerHTML = docLinkHtml;\n",
              "          element.appendChild(docLink);\n",
              "        }\n",
              "      </script>\n",
              "    </div>\n",
              "  </div>\n",
              "  "
            ]
          },
          "metadata": {},
          "execution_count": 25
        }
      ]
    }
  ],
  "metadata": {
    "kernelspec": {
      "display_name": "Python 3 (ipykernel)",
      "language": "python",
      "name": "python3"
    },
    "language_info": {
      "codemirror_mode": {
        "name": "ipython",
        "version": 3
      },
      "file_extension": ".py",
      "mimetype": "text/x-python",
      "name": "python",
      "nbconvert_exporter": "python",
      "pygments_lexer": "ipython3",
      "version": "3.8.13"
    },
    "colab": {
      "provenance": []
    },
    "accelerator": "GPU",
    "gpuClass": "standard"
  },
  "nbformat": 4,
  "nbformat_minor": 5
}