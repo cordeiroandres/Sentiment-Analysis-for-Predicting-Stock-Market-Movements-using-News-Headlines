{
  "cells": [
    {
      "cell_type": "code",
      "source": [
        "!pip install keras_preprocessing"
      ],
      "metadata": {
        "colab": {
          "base_uri": "https://localhost:8080/"
        },
        "id": "-0btMHNYvEtb",
        "outputId": "93450268-9829-4052-84a5-5236ef8c940c"
      },
      "id": "-0btMHNYvEtb",
      "execution_count": null,
      "outputs": [
        {
          "output_type": "stream",
          "name": "stdout",
          "text": [
            "Looking in indexes: https://pypi.org/simple, https://us-python.pkg.dev/colab-wheels/public/simple/\n",
            "Collecting keras_preprocessing\n",
            "  Downloading Keras_Preprocessing-1.1.2-py2.py3-none-any.whl (42 kB)\n",
            "\u001b[2K     \u001b[90m━━━━━━━━━━━━━━━━━━━━━━━━━━━━━━━━━━━━━━━━\u001b[0m \u001b[32m42.6/42.6 kB\u001b[0m \u001b[31m1.4 MB/s\u001b[0m eta \u001b[36m0:00:00\u001b[0m\n",
            "\u001b[?25hRequirement already satisfied: numpy>=1.9.1 in /usr/local/lib/python3.10/dist-packages (from keras_preprocessing) (1.22.4)\n",
            "Requirement already satisfied: six>=1.9.0 in /usr/local/lib/python3.10/dist-packages (from keras_preprocessing) (1.16.0)\n",
            "Installing collected packages: keras_preprocessing\n",
            "Successfully installed keras_preprocessing-1.1.2\n"
          ]
        }
      ]
    },
    {
      "cell_type": "code",
      "execution_count": null,
      "id": "b90853aa",
      "metadata": {
        "id": "b90853aa"
      },
      "outputs": [],
      "source": [
        "import warnings\n",
        "warnings.filterwarnings(\"ignore\")\n",
        "\n",
        "import tensorflow as tf\n",
        "from tensorflow import keras\n",
        "from keras.preprocessing.text import Tokenizer\n",
        "\n",
        "from keras.models import Sequential\n",
        "from keras.layers import Dense\n",
        "from keras.layers import Embedding\n",
        "from keras.layers import SpatialDropout1D\n",
        "from keras.layers import LSTM\n",
        "from keras.callbacks import EarlyStopping\n",
        "from keras.layers import Bidirectional\n",
        "from keras.layers import Dropout\n",
        "from keras.layers import Conv1D, MaxPooling1D, GlobalMaxPooling1D, Flatten, Convolution1D\n",
        "from keras.optimizers import Adam\n",
        "from keras import initializers"
      ]
    },
    {
      "cell_type": "code",
      "execution_count": null,
      "id": "529e2226",
      "metadata": {
        "id": "529e2226"
      },
      "outputs": [],
      "source": [
        "import numpy as np\n",
        "import matplotlib.pyplot as plt\n",
        "import seaborn as sns\n",
        "import pandas as pd\n",
        "from sklearn.feature_extraction.text import CountVectorizer\n",
        "from sklearn.metrics import classification_report, confusion_matrix,roc_curve,auc\n",
        "from tensorflow.keras.layers import Dense, Activation, Input\n",
        "from keras_preprocessing.sequence import pad_sequences\n",
        "from sklearn.metrics import roc_auc_score,precision_score, recall_score, f1_score,accuracy_score"
      ]
    },
    {
      "cell_type": "code",
      "source": [
        "def Evaluation (Method,Comment,Actual, Predicted,Scores):\n",
        "    ROC_AUC=roc_auc_score(Actual,Predicted)\n",
        "    Precision=precision_score(Actual,Predicted)\n",
        "    Accuracy=accuracy_score(Actual,Predicted)\n",
        "    Recall=recall_score(Actual,Predicted)\n",
        "    F1=f1_score(Actual,Predicted)\n",
        "    print('Accuracy=',Accuracy)\n",
        "    Scores[Comment] = {'Method':Method,'ROC_AUC':ROC_AUC,'Accuracy':Accuracy,\n",
        "                       'Precision':Precision,'Recall':Recall,'F1':F1}"
      ],
      "metadata": {
        "id": "3NCeOQZAKWt9"
      },
      "id": "3NCeOQZAKWt9",
      "execution_count": null,
      "outputs": []
    },
    {
      "cell_type": "code",
      "source": [
        "#return dictionary with word: embedding_vector\n",
        "def load_embedding(fname):\n",
        "    embeddings_index = {}\n",
        "    f = open(fname, encoding=\"utf8\")\n",
        "    for line in f:\n",
        "        values = line.split()\n",
        "        word = values[0]\n",
        "        try:\n",
        "            embedding_vector = np.asarray(values[1:], dtype='float32')\n",
        "        except:\n",
        "            pass\n",
        "        embeddings_index[word] = embedding_vector\n",
        "    f.close()\n",
        "\n",
        "    return embeddings_index"
      ],
      "metadata": {
        "id": "gIKVJo2Nl5-x"
      },
      "id": "gIKVJo2Nl5-x",
      "execution_count": null,
      "outputs": []
    },
    {
      "cell_type": "code",
      "source": [
        "from google.colab import drive\n",
        "drive.mount('/content/drive')"
      ],
      "metadata": {
        "colab": {
          "base_uri": "https://localhost:8080/"
        },
        "id": "6U9ST1QUUPyx",
        "outputId": "83d73a2d-87fc-4a25-e305-158c9d726f3f"
      },
      "id": "6U9ST1QUUPyx",
      "execution_count": null,
      "outputs": [
        {
          "output_type": "stream",
          "name": "stdout",
          "text": [
            "Mounted at /content/drive\n"
          ]
        }
      ]
    },
    {
      "cell_type": "code",
      "execution_count": null,
      "id": "4064cfe1",
      "metadata": {
        "id": "4064cfe1"
      },
      "outputs": [],
      "source": [
        "df  = pd.read_csv('/content/drive/MyDrive/Colab Notebooks/SentimentAnalysisStockProject/dataset/pre_process_news_days.csv', encoding = \"ISO-8859-1\")"
      ]
    },
    {
      "cell_type": "code",
      "source": [
        "from ast import literal_eval\n",
        "df['news_stemmed'] = df['news_stemmed'].apply(lambda x: literal_eval(x))"
      ],
      "metadata": {
        "id": "s_kaftpo9eJp"
      },
      "id": "s_kaftpo9eJp",
      "execution_count": null,
      "outputs": []
    },
    {
      "cell_type": "markdown",
      "source": [
        "Split Data"
      ],
      "metadata": {
        "id": "jDSq-ur-nr4S"
      },
      "id": "jDSq-ur-nr4S"
    },
    {
      "cell_type": "code",
      "execution_count": null,
      "id": "2bec812c",
      "metadata": {
        "id": "2bec812c"
      },
      "outputs": [],
      "source": [
        "# Split the data into train, validation, and test sets\n",
        "train_data = df[(df['Date'] >= '2008-08-08') & (df['Date'] <= '2013-12-31')]\n",
        "val_data = df[(df['Date'] >= '2014-01-02') & (df['Date'] <= '2014-12-31')]\n",
        "test_data = df[(df['Date'] >= '2015-01-02') & (df['Date'] <= '2016-07-01')]"
      ]
    },
    {
      "cell_type": "code",
      "source": [
        "text_train = train_data.news_stemmed.values\n",
        "text_val = val_data.news_stemmed.values\n",
        "text_test = test_data.news_stemmed.values"
      ],
      "metadata": {
        "id": "w0LSRzwhmE19"
      },
      "id": "w0LSRzwhmE19",
      "execution_count": null,
      "outputs": []
    },
    {
      "cell_type": "code",
      "execution_count": null,
      "id": "c08390fc",
      "metadata": {
        "colab": {
          "base_uri": "https://localhost:8080/"
        },
        "id": "c08390fc",
        "outputId": "8fb5aeec-36c0-4741-9dd6-36bc32c259ce"
      },
      "outputs": [
        {
          "output_type": "stream",
          "name": "stdout",
          "text": [
            "number of unique tokens are:  23270\n"
          ]
        }
      ],
      "source": [
        "EMBEDDING_DIM = 50\n",
        "tokenizer = Tokenizer()\n",
        "tokenizer.fit_on_texts(text_train)\n",
        "word_index = tokenizer.word_index\n",
        "MAX_WORDS = len(word_index)+1\n",
        "print('number of unique tokens are: ', len(word_index))"
      ]
    },
    {
      "cell_type": "code",
      "source": [
        "max_sequence=800\n",
        "\n",
        "embeddings_index = load_embedding(\"/content/drive/MyDrive/Colab Notebooks/SentimentAnalysisStockProject/dataset/glove.6B.50d.txt\")\n",
        "\n",
        "embedding_matrix = np.random.random((MAX_WORDS, EMBEDDING_DIM))\n",
        "\n",
        "for word, i in word_index.items():\n",
        "    embedding_vector = embeddings_index.get(word)\n",
        "    if embedding_vector is not None:\n",
        "        embedding_matrix[i] = embedding_vector"
      ],
      "metadata": {
        "id": "2MGSn_xy_cXC"
      },
      "id": "2MGSn_xy_cXC",
      "execution_count": null,
      "outputs": []
    },
    {
      "cell_type": "markdown",
      "source": [
        "CNN"
      ],
      "metadata": {
        "id": "XvYalx-fhSYN"
      },
      "id": "XvYalx-fhSYN"
    },
    {
      "cell_type": "code",
      "source": [
        "train_sequences = tokenizer.texts_to_sequences(text_train)\n",
        "train_bow_data = tokenizer.sequences_to_matrix(train_sequences, mode='binary')\n",
        "X_train = pad_sequences(train_bow_data, maxlen=max_sequence,padding='post')\n",
        "\n",
        "val_sequences = tokenizer.texts_to_sequences(text_val)\n",
        "val_bow_data = tokenizer.sequences_to_matrix(val_sequences, mode='binary')\n",
        "X_val = pad_sequences(val_bow_data, maxlen=max_sequence,padding='post')\n",
        "\n",
        "test_sequences = tokenizer.texts_to_sequences(text_test)\n",
        "test_bow_data = tokenizer.sequences_to_matrix(test_sequences, mode='binary')\n",
        "X_test = pad_sequences(test_bow_data, maxlen=max_sequence,padding='post')"
      ],
      "metadata": {
        "id": "VzzvWcLlu3_D"
      },
      "id": "VzzvWcLlu3_D",
      "execution_count": null,
      "outputs": []
    },
    {
      "cell_type": "code",
      "source": [
        "sc={}\n",
        "for i, lbl in enumerate(['Label','Label_1day','Label_2day', 'Label_3day', 'Label_4day', 'Label_5day']):\n",
        "  Y_train = np.array(train_data[lbl])\n",
        "  Y_val = np.array(val_data[lbl])\n",
        "  Y_test = np.array(test_data[lbl])\n",
        "\n",
        "  hidden_dims = 20\n",
        "  np.random.seed(42)\n",
        "  model_CNN = Sequential()\n",
        "  model_CNN.add(Embedding(input_dim=MAX_WORDS, output_dim=EMBEDDING_DIM, weights=[embedding_matrix], input_length=max_sequence, trainable=True))\n",
        "  model_CNN.add(Conv1D(hidden_dims,kernel_size=4))\n",
        "  model_CNN.add(GlobalMaxPooling1D())\n",
        "  model_CNN.add(Dropout(0.2))\n",
        "  model_CNN.add(Dense(units=1, activation='sigmoid'))\n",
        "  model_CNN.compile(optimizer='adam', loss='binary_crossentropy', metrics=['accuracy'])\n",
        "\n",
        "  es = tf.keras.callbacks.EarlyStopping(monitor='val_loss', patience=4)\n",
        "  hist_CNN = model_CNN.fit(X_train, Y_train,\n",
        "                            validation_data=(X_val, Y_val),\n",
        "                            epochs=10, batch_size=32, callbacks=[es])\n",
        "  y_prob = model_CNN.predict(X_test)\n",
        "  y_pred_CNN = y_prob.round()\n",
        "  Evaluation ('BoW + CNN',lbl,Y_test, y_pred_CNN,sc)"
      ],
      "metadata": {
        "colab": {
          "base_uri": "https://localhost:8080/"
        },
        "id": "T1f6i3HkKsh7",
        "outputId": "d0f90020-5241-445c-dbe6-67de2e19f81f"
      },
      "id": "T1f6i3HkKsh7",
      "execution_count": null,
      "outputs": [
        {
          "output_type": "stream",
          "name": "stdout",
          "text": [
            "Epoch 1/10\n",
            "43/43 [==============================] - 2s 13ms/step - loss: 0.7418 - accuracy: 0.5070 - val_loss: 0.6921 - val_accuracy: 0.5040\n",
            "Epoch 2/10\n",
            "43/43 [==============================] - 0s 6ms/step - loss: 0.7013 - accuracy: 0.5401 - val_loss: 0.7375 - val_accuracy: 0.4484\n",
            "Epoch 3/10\n",
            "43/43 [==============================] - 0s 6ms/step - loss: 0.7087 - accuracy: 0.5107 - val_loss: 0.7017 - val_accuracy: 0.4484\n",
            "Epoch 4/10\n",
            "43/43 [==============================] - 0s 6ms/step - loss: 0.7055 - accuracy: 0.5077 - val_loss: 0.6926 - val_accuracy: 0.5516\n",
            "Epoch 5/10\n",
            "43/43 [==============================] - 0s 9ms/step - loss: 0.6983 - accuracy: 0.5188 - val_loss: 0.7162 - val_accuracy: 0.4484\n",
            "12/12 [==============================] - 0s 2ms/step\n",
            "Accuracy= 0.49206349206349204\n",
            "Epoch 1/10\n",
            "43/43 [==============================] - 3s 18ms/step - loss: 0.7217 - accuracy: 0.5040 - val_loss: 0.7003 - val_accuracy: 0.4484\n",
            "Epoch 2/10\n",
            "43/43 [==============================] - 0s 8ms/step - loss: 0.7076 - accuracy: 0.4952 - val_loss: 0.7059 - val_accuracy: 0.5516\n",
            "Epoch 3/10\n",
            "43/43 [==============================] - 0s 6ms/step - loss: 0.7023 - accuracy: 0.5143 - val_loss: 0.7096 - val_accuracy: 0.4484\n",
            "Epoch 4/10\n",
            "43/43 [==============================] - 0s 6ms/step - loss: 0.6956 - accuracy: 0.5121 - val_loss: 0.7245 - val_accuracy: 0.5516\n",
            "Epoch 5/10\n",
            "43/43 [==============================] - 0s 6ms/step - loss: 0.7052 - accuracy: 0.5202 - val_loss: 0.6979 - val_accuracy: 0.4960\n",
            "Epoch 6/10\n",
            "43/43 [==============================] - 0s 6ms/step - loss: 0.7172 - accuracy: 0.5070 - val_loss: 0.7261 - val_accuracy: 0.5516\n",
            "Epoch 7/10\n",
            "43/43 [==============================] - 0s 6ms/step - loss: 0.7078 - accuracy: 0.5202 - val_loss: 0.6935 - val_accuracy: 0.4960\n",
            "Epoch 8/10\n",
            "43/43 [==============================] - 0s 6ms/step - loss: 0.6945 - accuracy: 0.5247 - val_loss: 0.6985 - val_accuracy: 0.4960\n",
            "Epoch 9/10\n",
            "43/43 [==============================] - 0s 6ms/step - loss: 0.6925 - accuracy: 0.5335 - val_loss: 0.6924 - val_accuracy: 0.5516\n",
            "Epoch 10/10\n",
            "43/43 [==============================] - 0s 6ms/step - loss: 0.6970 - accuracy: 0.5379 - val_loss: 0.6959 - val_accuracy: 0.4960\n",
            "12/12 [==============================] - 0s 2ms/step\n",
            "Accuracy= 0.5211640211640212\n",
            "Epoch 1/10\n",
            "43/43 [==============================] - 2s 13ms/step - loss: 0.7128 - accuracy: 0.5077 - val_loss: 0.6917 - val_accuracy: 0.5833\n",
            "Epoch 2/10\n",
            "43/43 [==============================] - 0s 6ms/step - loss: 0.6971 - accuracy: 0.5445 - val_loss: 0.6891 - val_accuracy: 0.4960\n",
            "Epoch 3/10\n",
            "43/43 [==============================] - 0s 6ms/step - loss: 0.7013 - accuracy: 0.5283 - val_loss: 0.6783 - val_accuracy: 0.5833\n",
            "Epoch 4/10\n",
            "43/43 [==============================] - 0s 6ms/step - loss: 0.6948 - accuracy: 0.5313 - val_loss: 0.7026 - val_accuracy: 0.5833\n",
            "Epoch 5/10\n",
            "43/43 [==============================] - 0s 6ms/step - loss: 0.6995 - accuracy: 0.5151 - val_loss: 0.6777 - val_accuracy: 0.5833\n",
            "Epoch 6/10\n",
            "43/43 [==============================] - 0s 5ms/step - loss: 0.7009 - accuracy: 0.5313 - val_loss: 0.7042 - val_accuracy: 0.4167\n",
            "Epoch 7/10\n",
            "43/43 [==============================] - 0s 5ms/step - loss: 0.7014 - accuracy: 0.5136 - val_loss: 0.6792 - val_accuracy: 0.5833\n",
            "Epoch 8/10\n",
            "43/43 [==============================] - 0s 6ms/step - loss: 0.6954 - accuracy: 0.5408 - val_loss: 0.6785 - val_accuracy: 0.5833\n",
            "Epoch 9/10\n",
            "43/43 [==============================] - 0s 6ms/step - loss: 0.6909 - accuracy: 0.5416 - val_loss: 0.6827 - val_accuracy: 0.5833\n",
            "12/12 [==============================] - 0s 2ms/step\n",
            "Accuracy= 0.5476190476190477\n",
            "Epoch 1/10\n",
            "43/43 [==============================] - 2s 19ms/step - loss: 0.7079 - accuracy: 0.5357 - val_loss: 0.6890 - val_accuracy: 0.5040\n",
            "Epoch 2/10\n",
            "43/43 [==============================] - 0s 9ms/step - loss: 0.6961 - accuracy: 0.5533 - val_loss: 0.6750 - val_accuracy: 0.5913\n",
            "Epoch 3/10\n",
            "43/43 [==============================] - 0s 8ms/step - loss: 0.6907 - accuracy: 0.5659 - val_loss: 0.6925 - val_accuracy: 0.5040\n",
            "Epoch 4/10\n",
            "43/43 [==============================] - 0s 8ms/step - loss: 0.6970 - accuracy: 0.5364 - val_loss: 0.6822 - val_accuracy: 0.5040\n",
            "Epoch 5/10\n",
            "43/43 [==============================] - 0s 8ms/step - loss: 0.6947 - accuracy: 0.5438 - val_loss: 0.6724 - val_accuracy: 0.5913\n",
            "Epoch 6/10\n",
            "43/43 [==============================] - 0s 8ms/step - loss: 0.6969 - accuracy: 0.5497 - val_loss: 0.6779 - val_accuracy: 0.5913\n",
            "Epoch 7/10\n",
            "43/43 [==============================] - 0s 7ms/step - loss: 0.6921 - accuracy: 0.5570 - val_loss: 0.6836 - val_accuracy: 0.5040\n",
            "Epoch 8/10\n",
            "43/43 [==============================] - 0s 6ms/step - loss: 0.6864 - accuracy: 0.5563 - val_loss: 0.6869 - val_accuracy: 0.5913\n",
            "Epoch 9/10\n",
            "43/43 [==============================] - 0s 7ms/step - loss: 0.7001 - accuracy: 0.5291 - val_loss: 0.6751 - val_accuracy: 0.5913\n",
            "12/12 [==============================] - 0s 2ms/step\n",
            "Accuracy= 0.5317460317460317\n",
            "Epoch 1/10\n",
            "43/43 [==============================] - 2s 14ms/step - loss: 0.7342 - accuracy: 0.5298 - val_loss: 0.7142 - val_accuracy: 0.5754\n",
            "Epoch 2/10\n",
            "43/43 [==============================] - 0s 6ms/step - loss: 0.7020 - accuracy: 0.5430 - val_loss: 0.7009 - val_accuracy: 0.4881\n",
            "Epoch 3/10\n",
            "43/43 [==============================] - 0s 6ms/step - loss: 0.6962 - accuracy: 0.5556 - val_loss: 0.6980 - val_accuracy: 0.4881\n",
            "Epoch 4/10\n",
            "43/43 [==============================] - 0s 6ms/step - loss: 0.6953 - accuracy: 0.5570 - val_loss: 0.6903 - val_accuracy: 0.5754\n",
            "Epoch 5/10\n",
            "43/43 [==============================] - 0s 6ms/step - loss: 0.6924 - accuracy: 0.5614 - val_loss: 0.6867 - val_accuracy: 0.5754\n",
            "Epoch 6/10\n",
            "43/43 [==============================] - 0s 6ms/step - loss: 0.6930 - accuracy: 0.5453 - val_loss: 0.6852 - val_accuracy: 0.5754\n",
            "Epoch 7/10\n",
            "43/43 [==============================] - 0s 6ms/step - loss: 0.6978 - accuracy: 0.5511 - val_loss: 0.7148 - val_accuracy: 0.4246\n",
            "Epoch 8/10\n",
            "43/43 [==============================] - 0s 6ms/step - loss: 0.6952 - accuracy: 0.5585 - val_loss: 0.6872 - val_accuracy: 0.5754\n",
            "Epoch 9/10\n",
            "43/43 [==============================] - 0s 6ms/step - loss: 0.6924 - accuracy: 0.5526 - val_loss: 0.6905 - val_accuracy: 0.5754\n",
            "Epoch 10/10\n",
            "43/43 [==============================] - 0s 6ms/step - loss: 0.6924 - accuracy: 0.5563 - val_loss: 0.6923 - val_accuracy: 0.4881\n",
            "12/12 [==============================] - 0s 2ms/step\n",
            "Accuracy= 0.5476190476190477\n",
            "Epoch 1/10\n",
            "43/43 [==============================] - 2s 13ms/step - loss: 0.7003 - accuracy: 0.5695 - val_loss: 0.6805 - val_accuracy: 0.5992\n",
            "Epoch 2/10\n",
            "43/43 [==============================] - 0s 6ms/step - loss: 0.6903 - accuracy: 0.5629 - val_loss: 0.6728 - val_accuracy: 0.5992\n",
            "Epoch 3/10\n",
            "43/43 [==============================] - 0s 6ms/step - loss: 0.6876 - accuracy: 0.5673 - val_loss: 0.6833 - val_accuracy: 0.5992\n",
            "Epoch 4/10\n",
            "43/43 [==============================] - 0s 6ms/step - loss: 0.6948 - accuracy: 0.5541 - val_loss: 0.6756 - val_accuracy: 0.5992\n",
            "Epoch 5/10\n",
            "43/43 [==============================] - 0s 6ms/step - loss: 0.6862 - accuracy: 0.5651 - val_loss: 0.6774 - val_accuracy: 0.5992\n",
            "Epoch 6/10\n",
            "43/43 [==============================] - 0s 6ms/step - loss: 0.6873 - accuracy: 0.5644 - val_loss: 0.6809 - val_accuracy: 0.5992\n",
            "12/12 [==============================] - 0s 2ms/step\n",
            "Accuracy= 0.5317460317460317\n"
          ]
        }
      ]
    },
    {
      "cell_type": "code",
      "source": [
        "df_sc_CNN = pd.DataFrame.from_dict(sc, orient='index')\n",
        "df_sc_CNN.sort_values(by=['ROC_AUC','Accuracy'],ascending=False,inplace=True)\n",
        "df_sc_CNN"
      ],
      "metadata": {
        "colab": {
          "base_uri": "https://localhost:8080/",
          "height": 238
        },
        "id": "q84kD70b8zcW",
        "outputId": "0717a768-eac9-4074-d33e-c1778b21e224"
      },
      "id": "q84kD70b8zcW",
      "execution_count": null,
      "outputs": [
        {
          "output_type": "execute_result",
          "data": {
            "text/plain": [
              "               Method   ROC_AUC  Accuracy  Precision    Recall        F1\n",
              "Label_4day  BoW + CNN  0.533219  0.547619   0.522936  0.323864  0.400000\n",
              "Label_1day  BoW + CNN  0.517893  0.521164   0.522523  0.311828  0.390572\n",
              "Label_2day  BoW + CNN  0.500000  0.547619   0.000000  0.000000  0.000000\n",
              "Label_3day  BoW + CNN  0.500000  0.531746   0.000000  0.000000  0.000000\n",
              "Label_5day  BoW + CNN  0.500000  0.531746   0.000000  0.000000  0.000000\n",
              "Label       BoW + CNN  0.500000  0.492063   0.000000  0.000000  0.000000"
            ],
            "text/html": [
              "\n",
              "  <div id=\"df-7ee0b899-798e-462f-bb7b-7121c36c534b\">\n",
              "    <div class=\"colab-df-container\">\n",
              "      <div>\n",
              "<style scoped>\n",
              "    .dataframe tbody tr th:only-of-type {\n",
              "        vertical-align: middle;\n",
              "    }\n",
              "\n",
              "    .dataframe tbody tr th {\n",
              "        vertical-align: top;\n",
              "    }\n",
              "\n",
              "    .dataframe thead th {\n",
              "        text-align: right;\n",
              "    }\n",
              "</style>\n",
              "<table border=\"1\" class=\"dataframe\">\n",
              "  <thead>\n",
              "    <tr style=\"text-align: right;\">\n",
              "      <th></th>\n",
              "      <th>Method</th>\n",
              "      <th>ROC_AUC</th>\n",
              "      <th>Accuracy</th>\n",
              "      <th>Precision</th>\n",
              "      <th>Recall</th>\n",
              "      <th>F1</th>\n",
              "    </tr>\n",
              "  </thead>\n",
              "  <tbody>\n",
              "    <tr>\n",
              "      <th>Label_4day</th>\n",
              "      <td>BoW + CNN</td>\n",
              "      <td>0.533219</td>\n",
              "      <td>0.547619</td>\n",
              "      <td>0.522936</td>\n",
              "      <td>0.323864</td>\n",
              "      <td>0.400000</td>\n",
              "    </tr>\n",
              "    <tr>\n",
              "      <th>Label_1day</th>\n",
              "      <td>BoW + CNN</td>\n",
              "      <td>0.517893</td>\n",
              "      <td>0.521164</td>\n",
              "      <td>0.522523</td>\n",
              "      <td>0.311828</td>\n",
              "      <td>0.390572</td>\n",
              "    </tr>\n",
              "    <tr>\n",
              "      <th>Label_2day</th>\n",
              "      <td>BoW + CNN</td>\n",
              "      <td>0.500000</td>\n",
              "      <td>0.547619</td>\n",
              "      <td>0.000000</td>\n",
              "      <td>0.000000</td>\n",
              "      <td>0.000000</td>\n",
              "    </tr>\n",
              "    <tr>\n",
              "      <th>Label_3day</th>\n",
              "      <td>BoW + CNN</td>\n",
              "      <td>0.500000</td>\n",
              "      <td>0.531746</td>\n",
              "      <td>0.000000</td>\n",
              "      <td>0.000000</td>\n",
              "      <td>0.000000</td>\n",
              "    </tr>\n",
              "    <tr>\n",
              "      <th>Label_5day</th>\n",
              "      <td>BoW + CNN</td>\n",
              "      <td>0.500000</td>\n",
              "      <td>0.531746</td>\n",
              "      <td>0.000000</td>\n",
              "      <td>0.000000</td>\n",
              "      <td>0.000000</td>\n",
              "    </tr>\n",
              "    <tr>\n",
              "      <th>Label</th>\n",
              "      <td>BoW + CNN</td>\n",
              "      <td>0.500000</td>\n",
              "      <td>0.492063</td>\n",
              "      <td>0.000000</td>\n",
              "      <td>0.000000</td>\n",
              "      <td>0.000000</td>\n",
              "    </tr>\n",
              "  </tbody>\n",
              "</table>\n",
              "</div>\n",
              "      <button class=\"colab-df-convert\" onclick=\"convertToInteractive('df-7ee0b899-798e-462f-bb7b-7121c36c534b')\"\n",
              "              title=\"Convert this dataframe to an interactive table.\"\n",
              "              style=\"display:none;\">\n",
              "        \n",
              "  <svg xmlns=\"http://www.w3.org/2000/svg\" height=\"24px\"viewBox=\"0 0 24 24\"\n",
              "       width=\"24px\">\n",
              "    <path d=\"M0 0h24v24H0V0z\" fill=\"none\"/>\n",
              "    <path d=\"M18.56 5.44l.94 2.06.94-2.06 2.06-.94-2.06-.94-.94-2.06-.94 2.06-2.06.94zm-11 1L8.5 8.5l.94-2.06 2.06-.94-2.06-.94L8.5 2.5l-.94 2.06-2.06.94zm10 10l.94 2.06.94-2.06 2.06-.94-2.06-.94-.94-2.06-.94 2.06-2.06.94z\"/><path d=\"M17.41 7.96l-1.37-1.37c-.4-.4-.92-.59-1.43-.59-.52 0-1.04.2-1.43.59L10.3 9.45l-7.72 7.72c-.78.78-.78 2.05 0 2.83L4 21.41c.39.39.9.59 1.41.59.51 0 1.02-.2 1.41-.59l7.78-7.78 2.81-2.81c.8-.78.8-2.07 0-2.86zM5.41 20L4 18.59l7.72-7.72 1.47 1.35L5.41 20z\"/>\n",
              "  </svg>\n",
              "      </button>\n",
              "      \n",
              "  <style>\n",
              "    .colab-df-container {\n",
              "      display:flex;\n",
              "      flex-wrap:wrap;\n",
              "      gap: 12px;\n",
              "    }\n",
              "\n",
              "    .colab-df-convert {\n",
              "      background-color: #E8F0FE;\n",
              "      border: none;\n",
              "      border-radius: 50%;\n",
              "      cursor: pointer;\n",
              "      display: none;\n",
              "      fill: #1967D2;\n",
              "      height: 32px;\n",
              "      padding: 0 0 0 0;\n",
              "      width: 32px;\n",
              "    }\n",
              "\n",
              "    .colab-df-convert:hover {\n",
              "      background-color: #E2EBFA;\n",
              "      box-shadow: 0px 1px 2px rgba(60, 64, 67, 0.3), 0px 1px 3px 1px rgba(60, 64, 67, 0.15);\n",
              "      fill: #174EA6;\n",
              "    }\n",
              "\n",
              "    [theme=dark] .colab-df-convert {\n",
              "      background-color: #3B4455;\n",
              "      fill: #D2E3FC;\n",
              "    }\n",
              "\n",
              "    [theme=dark] .colab-df-convert:hover {\n",
              "      background-color: #434B5C;\n",
              "      box-shadow: 0px 1px 3px 1px rgba(0, 0, 0, 0.15);\n",
              "      filter: drop-shadow(0px 1px 2px rgba(0, 0, 0, 0.3));\n",
              "      fill: #FFFFFF;\n",
              "    }\n",
              "  </style>\n",
              "\n",
              "      <script>\n",
              "        const buttonEl =\n",
              "          document.querySelector('#df-7ee0b899-798e-462f-bb7b-7121c36c534b button.colab-df-convert');\n",
              "        buttonEl.style.display =\n",
              "          google.colab.kernel.accessAllowed ? 'block' : 'none';\n",
              "\n",
              "        async function convertToInteractive(key) {\n",
              "          const element = document.querySelector('#df-7ee0b899-798e-462f-bb7b-7121c36c534b');\n",
              "          const dataTable =\n",
              "            await google.colab.kernel.invokeFunction('convertToInteractive',\n",
              "                                                     [key], {});\n",
              "          if (!dataTable) return;\n",
              "\n",
              "          const docLinkHtml = 'Like what you see? Visit the ' +\n",
              "            '<a target=\"_blank\" href=https://colab.research.google.com/notebooks/data_table.ipynb>data table notebook</a>'\n",
              "            + ' to learn more about interactive tables.';\n",
              "          element.innerHTML = '';\n",
              "          dataTable['output_type'] = 'display_data';\n",
              "          await google.colab.output.renderOutput(dataTable, element);\n",
              "          const docLink = document.createElement('div');\n",
              "          docLink.innerHTML = docLinkHtml;\n",
              "          element.appendChild(docLink);\n",
              "        }\n",
              "      </script>\n",
              "    </div>\n",
              "  </div>\n",
              "  "
            ]
          },
          "metadata": {},
          "execution_count": 17
        }
      ]
    }
  ],
  "metadata": {
    "kernelspec": {
      "display_name": "Python 3 (ipykernel)",
      "language": "python",
      "name": "python3"
    },
    "language_info": {
      "codemirror_mode": {
        "name": "ipython",
        "version": 3
      },
      "file_extension": ".py",
      "mimetype": "text/x-python",
      "name": "python",
      "nbconvert_exporter": "python",
      "pygments_lexer": "ipython3",
      "version": "3.8.13"
    },
    "colab": {
      "provenance": []
    },
    "accelerator": "GPU",
    "gpuClass": "standard"
  },
  "nbformat": 4,
  "nbformat_minor": 5
}